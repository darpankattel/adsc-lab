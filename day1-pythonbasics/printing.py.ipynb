{
 "cells": [
  {
   "cell_type": "markdown",
   "id": "4b9435c3",
   "metadata": {},
   "source": [
    "# Python Basics"
   ]
  },
  {
   "cell_type": "markdown",
   "id": "6afcecc5",
   "metadata": {},
   "source": [
    "## Printing"
   ]
  },
  {
   "cell_type": "code",
   "execution_count": 2,
   "id": "2def657e",
   "metadata": {},
   "outputs": [
    {
     "name": "stdout",
     "output_type": "stream",
     "text": [
      "****************************************\n",
      "Name: Jethalal Champaklal Gada\n",
      "****************************************\n",
      "Age: 22\n",
      "****************************************\n",
      "Job: Gada Electronics\n",
      "****************************************\n",
      "Address: Gokuldham Society\n",
      "****************************************\n",
      "Birthplace: Bachaoo, Gujarat\n",
      "****************************************\n"
     ]
    }
   ],
   "source": [
    "print(\"*\"*40)\n",
    "print(\"Name: Jethalal Champaklal Gada\")\n",
    "print(\"*\"*40)\n",
    "print(\"Age: 22\")\n",
    "print(\"*\"*40)\n",
    "print(\"Job: Gada Electronics\")\n",
    "print(\"*\"*40)\n",
    "print(\"Address: Gokuldham Society\")\n",
    "print(\"*\"*40)\n",
    "print(\"Birthplace: Bachaoo, Gujarat\")\n",
    "print(\"*\"*40)"
   ]
  },
  {
   "cell_type": "markdown",
   "id": "80670780",
   "metadata": {},
   "source": [
    "## keywords"
   ]
  },
  {
   "cell_type": "code",
   "execution_count": 3,
   "id": "ebc876c0",
   "metadata": {},
   "outputs": [
    {
     "data": {
      "text/plain": [
       "['__all__',\n",
       " '__builtins__',\n",
       " '__cached__',\n",
       " '__doc__',\n",
       " '__file__',\n",
       " '__loader__',\n",
       " '__name__',\n",
       " '__package__',\n",
       " '__spec__',\n",
       " 'iskeyword',\n",
       " 'issoftkeyword',\n",
       " 'kwlist',\n",
       " 'softkwlist']"
      ]
     },
     "execution_count": 3,
     "metadata": {},
     "output_type": "execute_result"
    }
   ],
   "source": [
    "import keyword\n",
    "\n",
    "\n",
    "dir(keyword)"
   ]
  },
  {
   "cell_type": "code",
   "execution_count": 13,
   "id": "1d76c9f8",
   "metadata": {},
   "outputs": [
    {
     "data": {
      "text/plain": [
       "True"
      ]
     },
     "execution_count": 13,
     "metadata": {},
     "output_type": "execute_result"
    }
   ],
   "source": [
    "keyword.iskeyword(\"True\")"
   ]
  },
  {
   "cell_type": "markdown",
   "id": "f471f809",
   "metadata": {},
   "source": [
    "Let's list all the keywords in python"
   ]
  },
  {
   "cell_type": "code",
   "execution_count": 17,
   "id": "5d24be6f",
   "metadata": {},
   "outputs": [
    {
     "data": {
      "text/plain": [
       "['False',\n",
       " 'None',\n",
       " 'True',\n",
       " '__peg_parser__',\n",
       " 'and',\n",
       " 'as',\n",
       " 'assert',\n",
       " 'async',\n",
       " 'await',\n",
       " 'break',\n",
       " 'class',\n",
       " 'continue',\n",
       " 'def',\n",
       " 'del',\n",
       " 'elif',\n",
       " 'else',\n",
       " 'except',\n",
       " 'finally',\n",
       " 'for',\n",
       " 'from',\n",
       " 'global',\n",
       " 'if',\n",
       " 'import',\n",
       " 'in',\n",
       " 'is',\n",
       " 'lambda',\n",
       " 'nonlocal',\n",
       " 'not',\n",
       " 'or',\n",
       " 'pass',\n",
       " 'raise',\n",
       " 'return',\n",
       " 'try',\n",
       " 'while',\n",
       " 'with',\n",
       " 'yield']"
      ]
     },
     "execution_count": 17,
     "metadata": {},
     "output_type": "execute_result"
    }
   ],
   "source": [
    "keyword.kwlist"
   ]
  },
  {
   "cell_type": "code",
   "execution_count": 37,
   "id": "94e5f9ba",
   "metadata": {},
   "outputs": [],
   "source": [
    "class Circle:\n",
    "    def __init__(self, r):\n",
    "        self.r = r\n",
    "    \n",
    "    @property\n",
    "    def area(self):\n",
    "        return 3.14*self.r*self.r\n",
    "    \n",
    "    def __str__(self):\n",
    "        return f\"<Circle r={self.r} >\"\n"
   ]
  },
  {
   "cell_type": "code",
   "execution_count": 38,
   "id": "aa131fe9",
   "metadata": {},
   "outputs": [],
   "source": [
    "mycircle = Circle(3)"
   ]
  },
  {
   "cell_type": "code",
   "execution_count": 39,
   "id": "cb2c2b1e",
   "metadata": {},
   "outputs": [
    {
     "data": {
      "text/plain": [
       "28.259999999999998"
      ]
     },
     "execution_count": 39,
     "metadata": {},
     "output_type": "execute_result"
    }
   ],
   "source": [
    "mycircle.area"
   ]
  },
  {
   "cell_type": "code",
   "execution_count": 40,
   "id": "cd042c8a",
   "metadata": {},
   "outputs": [
    {
     "name": "stdout",
     "output_type": "stream",
     "text": [
      "<Circle r=3 >\n"
     ]
    }
   ],
   "source": [
    "print(mycircle)"
   ]
  },
  {
   "cell_type": "markdown",
   "id": "e0fe38db",
   "metadata": {},
   "source": [
    "## Complex numbers"
   ]
  },
  {
   "cell_type": "code",
   "execution_count": 47,
   "id": "33cec36c",
   "metadata": {},
   "outputs": [
    {
     "name": "stdout",
     "output_type": "stream",
     "text": [
      "(3+4j)\n"
     ]
    }
   ],
   "source": [
    "print(3+4j)"
   ]
  },
  {
   "cell_type": "code",
   "execution_count": 48,
   "id": "c36fb199",
   "metadata": {},
   "outputs": [
    {
     "name": "stdout",
     "output_type": "stream",
     "text": [
      "<class 'complex'>\n"
     ]
    }
   ],
   "source": [
    "print(type(3+4j))"
   ]
  },
  {
   "cell_type": "markdown",
   "id": "39869397",
   "metadata": {},
   "source": [
    "## Some Taks"
   ]
  },
  {
   "cell_type": "code",
   "execution_count": 49,
   "id": "22acce12",
   "metadata": {},
   "outputs": [
    {
     "data": {
      "text/plain": [
       "100"
      ]
     },
     "execution_count": 49,
     "metadata": {},
     "output_type": "execute_result"
    }
   ],
   "source": [
    "50+int(\"50\")"
   ]
  },
  {
   "cell_type": "code",
   "execution_count": 50,
   "id": "ccf00261",
   "metadata": {},
   "outputs": [
    {
     "data": {
      "text/plain": [
       "'5050'"
      ]
     },
     "execution_count": 50,
     "metadata": {},
     "output_type": "execute_result"
    }
   ],
   "source": [
    "str(50)+\"50\""
   ]
  },
  {
   "cell_type": "markdown",
   "id": "c7c4e7c6",
   "metadata": {},
   "source": [
    "## Operators"
   ]
  },
  {
   "cell_type": "code",
   "execution_count": 51,
   "id": "6111c414",
   "metadata": {},
   "outputs": [
    {
     "data": {
      "text/plain": [
       "True"
      ]
     },
     "execution_count": 51,
     "metadata": {},
     "output_type": "execute_result"
    }
   ],
   "source": [
    "a = 1\n",
    "b = 1\n",
    "a is b"
   ]
  },
  {
   "cell_type": "markdown",
   "id": "3353d547",
   "metadata": {},
   "source": [
    "## BMI Calculator"
   ]
  },
  {
   "cell_type": "markdown",
   "id": "e9b53531",
   "metadata": {},
   "source": [
    "BMI = weight (kg) / height (m)"
   ]
  },
  {
   "cell_type": "code",
   "execution_count": 52,
   "id": "d34cda1f",
   "metadata": {},
   "outputs": [],
   "source": [
    "def BMI(w: float, h: float) -> float:\n",
    "    return w / (h * h)"
   ]
  },
  {
   "cell_type": "code",
   "execution_count": 53,
   "id": "bba7da7c",
   "metadata": {},
   "outputs": [],
   "source": [
    "def to_meter(f, i):\n",
    "    return (f*12+i) * 2.54 / 100"
   ]
  },
  {
   "cell_type": "code",
   "execution_count": 54,
   "id": "99e92916",
   "metadata": {},
   "outputs": [],
   "source": [
    "height_f = 5\n",
    "height_i = 6\n",
    "weight = 88\n"
   ]
  },
  {
   "cell_type": "code",
   "execution_count": 55,
   "id": "d11c6956",
   "metadata": {},
   "outputs": [],
   "source": [
    "bmi = BMI(weight, to_meter(height_f, height_i))"
   ]
  },
  {
   "cell_type": "code",
   "execution_count": 56,
   "id": "be7992fe",
   "metadata": {},
   "outputs": [
    {
     "data": {
      "text/plain": [
       "31.31319393951919"
      ]
     },
     "execution_count": 56,
     "metadata": {},
     "output_type": "execute_result"
    }
   ],
   "source": [
    "bmi"
   ]
  },
  {
   "cell_type": "code",
   "execution_count": 57,
   "id": "6b4d0b32",
   "metadata": {},
   "outputs": [
    {
     "data": {
      "text/plain": [
       "1.6764000000000001"
      ]
     },
     "execution_count": 57,
     "metadata": {},
     "output_type": "execute_result"
    }
   ],
   "source": [
    "to_meter(height_f, height_i)"
   ]
  },
  {
   "cell_type": "markdown",
   "id": "d4379240",
   "metadata": {},
   "source": [
    "## Multiplication Table"
   ]
  },
  {
   "cell_type": "code",
   "execution_count": 58,
   "id": "8093769e",
   "metadata": {},
   "outputs": [
    {
     "data": {
      "text/plain": [
       "range(1, 11)"
      ]
     },
     "execution_count": 58,
     "metadata": {},
     "output_type": "execute_result"
    }
   ],
   "source": [
    "range(1, 11)"
   ]
  },
  {
   "cell_type": "code",
   "execution_count": 59,
   "id": "7893a13d",
   "metadata": {},
   "outputs": [
    {
     "name": "stdout",
     "output_type": "stream",
     "text": [
      "range(1, 11)\n"
     ]
    }
   ],
   "source": [
    "print(range(1, 11))"
   ]
  },
  {
   "cell_type": "code",
   "execution_count": 61,
   "id": "1b34fcc4",
   "metadata": {},
   "outputs": [
    {
     "name": "stdout",
     "output_type": "stream",
     "text": [
      "10 x 1 = 10\n",
      "10 x 2 = 20\n",
      "10 x 3 = 30\n",
      "10 x 4 = 40\n",
      "10 x 5 = 50\n",
      "10 x 6 = 60\n",
      "10 x 7 = 70\n",
      "10 x 8 = 80\n",
      "10 x 9 = 90\n",
      "10 x 10 = 100\n"
     ]
    }
   ],
   "source": [
    "for i in range(1, 11):\n",
    "    print (f\"10 x {i} = {10 * i}\")"
   ]
  },
  {
   "cell_type": "markdown",
   "id": "0910a937",
   "metadata": {},
   "source": [
    "## Random Task"
   ]
  },
  {
   "cell_type": "markdown",
   "id": "918d5eaf",
   "metadata": {},
   "source": [
    "Dokan ma 1000 rupe diyeko, tirnu parne 475 for mangos, then kati ota 100 ko note, 20 ko note ra 5 ko note aauxa firtsw?"
   ]
  },
  {
   "cell_type": "code",
   "execution_count": 65,
   "id": "b109fc0a",
   "metadata": {},
   "outputs": [],
   "source": [
    "firta = 1000-475"
   ]
  },
  {
   "cell_type": "code",
   "execution_count": 69,
   "id": "664e57c1",
   "metadata": {},
   "outputs": [
    {
     "data": {
      "text/plain": [
       "5"
      ]
     },
     "execution_count": 69,
     "metadata": {},
     "output_type": "execute_result"
    }
   ],
   "source": [
    "hundreds = int(firta / 100)\n",
    "firta -= hundreds * 100\n",
    "hundreds"
   ]
  },
  {
   "cell_type": "code",
   "execution_count": 71,
   "id": "1af7d2d3",
   "metadata": {},
   "outputs": [
    {
     "data": {
      "text/plain": [
       "1"
      ]
     },
     "execution_count": 71,
     "metadata": {},
     "output_type": "execute_result"
    }
   ],
   "source": [
    "twenties = int(firta / 20)\n",
    "firta -= twenties * 20\n",
    "twenties"
   ]
  },
  {
   "cell_type": "code",
   "execution_count": 72,
   "id": "2e6155db",
   "metadata": {},
   "outputs": [],
   "source": [
    "fives = int(firta/5)\n",
    "firta -= fives * 5"
   ]
  },
  {
   "cell_type": "code",
   "execution_count": 73,
   "id": "9fac787f",
   "metadata": {},
   "outputs": [
    {
     "data": {
      "text/plain": [
       "1"
      ]
     },
     "execution_count": 73,
     "metadata": {},
     "output_type": "execute_result"
    }
   ],
   "source": [
    "fives"
   ]
  },
  {
   "cell_type": "code",
   "execution_count": 74,
   "id": "435c4db8",
   "metadata": {},
   "outputs": [
    {
     "data": {
      "text/plain": [
       "0"
      ]
     },
     "execution_count": 74,
     "metadata": {},
     "output_type": "execute_result"
    }
   ],
   "source": [
    "firta"
   ]
  },
  {
   "cell_type": "code",
   "execution_count": 77,
   "id": "c067ac03",
   "metadata": {},
   "outputs": [
    {
     "data": {
      "text/plain": [
       "'hsinaM'"
      ]
     },
     "execution_count": 77,
     "metadata": {},
     "output_type": "execute_result"
    }
   ],
   "source": [
    "\"Manish\"[::-1]"
   ]
  },
  {
   "cell_type": "markdown",
   "id": "f95f8cf4",
   "metadata": {},
   "source": [
    "### See del keyword"
   ]
  },
  {
   "cell_type": "markdown",
   "id": "bf4ab2d6",
   "metadata": {},
   "source": [
    "## Dict"
   ]
  },
  {
   "cell_type": "code",
   "execution_count": 78,
   "id": "ef8e62e3",
   "metadata": {},
   "outputs": [],
   "source": [
    "manish = {\n",
    "    \"name\": \"Manish Malhotra\",\n",
    "    \"age\": 21,\n",
    "    \"address\": \"Thamel\"\n",
    "}"
   ]
  },
  {
   "cell_type": "code",
   "execution_count": 79,
   "id": "1b1a0886",
   "metadata": {},
   "outputs": [
    {
     "data": {
      "text/plain": [
       "{'name': 'Manish Malhotra', 'age': 21, 'address': 'Thamel'}"
      ]
     },
     "execution_count": 79,
     "metadata": {},
     "output_type": "execute_result"
    }
   ],
   "source": [
    "manish"
   ]
  },
  {
   "cell_type": "code",
   "execution_count": 80,
   "id": "f2e2151d",
   "metadata": {},
   "outputs": [
    {
     "data": {
      "text/plain": [
       "'Manish Malhotra'"
      ]
     },
     "execution_count": 80,
     "metadata": {},
     "output_type": "execute_result"
    }
   ],
   "source": [
    "manish.get(\"name\")"
   ]
  },
  {
   "cell_type": "code",
   "execution_count": 83,
   "id": "b6d7ceb3",
   "metadata": {},
   "outputs": [
    {
     "data": {
      "text/plain": [
       "'Male'"
      ]
     },
     "execution_count": 83,
     "metadata": {},
     "output_type": "execute_result"
    }
   ],
   "source": [
    "manish.get(\"sex\", \"Male\")"
   ]
  },
  {
   "cell_type": "code",
   "execution_count": 82,
   "id": "c7445037",
   "metadata": {},
   "outputs": [
    {
     "ename": "KeyError",
     "evalue": "'sex'",
     "output_type": "error",
     "traceback": [
      "\u001b[1;31m---------------------------------------------------------------------------\u001b[0m",
      "\u001b[1;31mKeyError\u001b[0m                                  Traceback (most recent call last)",
      "Cell \u001b[1;32mIn[82], line 1\u001b[0m\n\u001b[1;32m----> 1\u001b[0m \u001b[43mmanish\u001b[49m\u001b[43m[\u001b[49m\u001b[38;5;124;43m\"\u001b[39;49m\u001b[38;5;124;43msex\u001b[39;49m\u001b[38;5;124;43m\"\u001b[39;49m\u001b[43m]\u001b[49m\n",
      "\u001b[1;31mKeyError\u001b[0m: 'sex'"
     ]
    }
   ],
   "source": [
    "manish[\"sex\"]"
   ]
  },
  {
   "cell_type": "code",
   "execution_count": 84,
   "id": "bde321ef",
   "metadata": {},
   "outputs": [],
   "source": [
    "del manish[\"address\"]"
   ]
  },
  {
   "cell_type": "code",
   "execution_count": 85,
   "id": "af9b5f3a",
   "metadata": {},
   "outputs": [
    {
     "data": {
      "text/plain": [
       "{'name': 'Manish Malhotra', 'age': 21}"
      ]
     },
     "execution_count": 85,
     "metadata": {},
     "output_type": "execute_result"
    }
   ],
   "source": [
    "manish"
   ]
  },
  {
   "cell_type": "code",
   "execution_count": 92,
   "id": "8625984b",
   "metadata": {},
   "outputs": [
    {
     "name": "stdout",
     "output_type": "stream",
     "text": [
      "name Manish Malhotra\n",
      "age 21\n"
     ]
    }
   ],
   "source": [
    "for key in manish.keys():\n",
    "    print(key, manish[key])"
   ]
  },
  {
   "cell_type": "code",
   "execution_count": null,
   "id": "343d1281",
   "metadata": {},
   "outputs": [],
   "source": []
  }
 ],
 "metadata": {
  "kernelspec": {
   "display_name": "Python 3 (ipykernel)",
   "language": "python",
   "name": "python3"
  },
  "language_info": {
   "codemirror_mode": {
    "name": "ipython",
    "version": 3
   },
   "file_extension": ".py",
   "mimetype": "text/x-python",
   "name": "python",
   "nbconvert_exporter": "python",
   "pygments_lexer": "ipython3",
   "version": "3.9.5"
  }
 },
 "nbformat": 4,
 "nbformat_minor": 5
}
