{
 "cells": [
  {
   "cell_type": "markdown",
   "id": "124eafe1",
   "metadata": {},
   "source": [
    "# Pandas"
   ]
  },
  {
   "cell_type": "markdown",
   "id": "5e79ff3d",
   "metadata": {},
   "source": [
    "## Dataframe"
   ]
  },
  {
   "cell_type": "code",
   "execution_count": 5,
   "id": "7cab2461",
   "metadata": {},
   "outputs": [
    {
     "data": {
      "text/html": [
       "<div>\n",
       "<style scoped>\n",
       "    .dataframe tbody tr th:only-of-type {\n",
       "        vertical-align: middle;\n",
       "    }\n",
       "\n",
       "    .dataframe tbody tr th {\n",
       "        vertical-align: top;\n",
       "    }\n",
       "\n",
       "    .dataframe thead th {\n",
       "        text-align: right;\n",
       "    }\n",
       "</style>\n",
       "<table border=\"1\" class=\"dataframe\">\n",
       "  <thead>\n",
       "    <tr style=\"text-align: right;\">\n",
       "      <th></th>\n",
       "      <th>NAME</th>\n",
       "      <th>AGE</th>\n",
       "    </tr>\n",
       "  </thead>\n",
       "  <tbody>\n",
       "    <tr>\n",
       "      <th>0</th>\n",
       "      <td>Amrit</td>\n",
       "      <td>18</td>\n",
       "    </tr>\n",
       "    <tr>\n",
       "      <th>1</th>\n",
       "      <td>Darpan</td>\n",
       "      <td>19</td>\n",
       "    </tr>\n",
       "    <tr>\n",
       "      <th>2</th>\n",
       "      <td>Kripesh</td>\n",
       "      <td>20</td>\n",
       "    </tr>\n",
       "  </tbody>\n",
       "</table>\n",
       "</div>"
      ],
      "text/plain": [
       "      NAME  AGE\n",
       "0    Amrit   18\n",
       "1   Darpan   19\n",
       "2  Kripesh   20"
      ]
     },
     "execution_count": 5,
     "metadata": {},
     "output_type": "execute_result"
    }
   ],
   "source": [
    "import pandas as pd\n",
    "data = {\n",
    "    \"NAME\": [\"Amrit\", \"Darpan\", \"Kripesh\"],\n",
    "    \"AGE\": [18, 19, 20],\n",
    "    \"GENDER\": [0, 0, 0]\n",
    "}\n",
    "df = pd.DataFrame(data, columns=[\"NAME\", \"AGE\"])\n",
    "df"
   ]
  },
  {
   "cell_type": "code",
   "execution_count": 6,
   "id": "45471ef1",
   "metadata": {},
   "outputs": [
    {
     "name": "stdout",
     "output_type": "stream",
     "text": [
      "<class 'pandas.core.frame.DataFrame'>\n",
      "RangeIndex: 3 entries, 0 to 2\n",
      "Data columns (total 2 columns):\n",
      " #   Column  Non-Null Count  Dtype \n",
      "---  ------  --------------  ----- \n",
      " 0   NAME    3 non-null      object\n",
      " 1   AGE     3 non-null      int64 \n",
      "dtypes: int64(1), object(1)\n",
      "memory usage: 176.0+ bytes\n"
     ]
    }
   ],
   "source": [
    "df.info()"
   ]
  },
  {
   "cell_type": "markdown",
   "id": "8d969339",
   "metadata": {},
   "source": [
    "Here, object means string."
   ]
  },
  {
   "cell_type": "code",
   "execution_count": 7,
   "id": "1dc1661f",
   "metadata": {},
   "outputs": [
    {
     "data": {
      "text/html": [
       "<div>\n",
       "<style scoped>\n",
       "    .dataframe tbody tr th:only-of-type {\n",
       "        vertical-align: middle;\n",
       "    }\n",
       "\n",
       "    .dataframe tbody tr th {\n",
       "        vertical-align: top;\n",
       "    }\n",
       "\n",
       "    .dataframe thead th {\n",
       "        text-align: right;\n",
       "    }\n",
       "</style>\n",
       "<table border=\"1\" class=\"dataframe\">\n",
       "  <thead>\n",
       "    <tr style=\"text-align: right;\">\n",
       "      <th></th>\n",
       "      <th>AGE</th>\n",
       "    </tr>\n",
       "  </thead>\n",
       "  <tbody>\n",
       "    <tr>\n",
       "      <th>count</th>\n",
       "      <td>3.0</td>\n",
       "    </tr>\n",
       "    <tr>\n",
       "      <th>mean</th>\n",
       "      <td>19.0</td>\n",
       "    </tr>\n",
       "    <tr>\n",
       "      <th>std</th>\n",
       "      <td>1.0</td>\n",
       "    </tr>\n",
       "    <tr>\n",
       "      <th>min</th>\n",
       "      <td>18.0</td>\n",
       "    </tr>\n",
       "    <tr>\n",
       "      <th>25%</th>\n",
       "      <td>18.5</td>\n",
       "    </tr>\n",
       "    <tr>\n",
       "      <th>50%</th>\n",
       "      <td>19.0</td>\n",
       "    </tr>\n",
       "    <tr>\n",
       "      <th>75%</th>\n",
       "      <td>19.5</td>\n",
       "    </tr>\n",
       "    <tr>\n",
       "      <th>max</th>\n",
       "      <td>20.0</td>\n",
       "    </tr>\n",
       "  </tbody>\n",
       "</table>\n",
       "</div>"
      ],
      "text/plain": [
       "        AGE\n",
       "count   3.0\n",
       "mean   19.0\n",
       "std     1.0\n",
       "min    18.0\n",
       "25%    18.5\n",
       "50%    19.0\n",
       "75%    19.5\n",
       "max    20.0"
      ]
     },
     "execution_count": 7,
     "metadata": {},
     "output_type": "execute_result"
    }
   ],
   "source": [
    "df.describe()"
   ]
  },
  {
   "cell_type": "markdown",
   "id": "2d124b1a",
   "metadata": {},
   "source": [
    "## From a NumPy array"
   ]
  },
  {
   "cell_type": "code",
   "execution_count": 8,
   "id": "9aaf4fcd",
   "metadata": {},
   "outputs": [],
   "source": [
    "N = 5000"
   ]
  },
  {
   "cell_type": "code",
   "execution_count": 10,
   "id": "cc090895",
   "metadata": {},
   "outputs": [],
   "source": [
    "import numpy as np\n",
    "df = pd.DataFrame(np.random.rand(N, 5))"
   ]
  },
  {
   "cell_type": "code",
   "execution_count": 11,
   "id": "525cb6d4",
   "metadata": {},
   "outputs": [
    {
     "data": {
      "text/html": [
       "<div>\n",
       "<style scoped>\n",
       "    .dataframe tbody tr th:only-of-type {\n",
       "        vertical-align: middle;\n",
       "    }\n",
       "\n",
       "    .dataframe tbody tr th {\n",
       "        vertical-align: top;\n",
       "    }\n",
       "\n",
       "    .dataframe thead th {\n",
       "        text-align: right;\n",
       "    }\n",
       "</style>\n",
       "<table border=\"1\" class=\"dataframe\">\n",
       "  <thead>\n",
       "    <tr style=\"text-align: right;\">\n",
       "      <th></th>\n",
       "      <th>0</th>\n",
       "      <th>1</th>\n",
       "      <th>2</th>\n",
       "      <th>3</th>\n",
       "      <th>4</th>\n",
       "    </tr>\n",
       "  </thead>\n",
       "  <tbody>\n",
       "    <tr>\n",
       "      <th>0</th>\n",
       "      <td>0.054021</td>\n",
       "      <td>0.205225</td>\n",
       "      <td>0.719564</td>\n",
       "      <td>0.578913</td>\n",
       "      <td>0.966764</td>\n",
       "    </tr>\n",
       "    <tr>\n",
       "      <th>1</th>\n",
       "      <td>0.483493</td>\n",
       "      <td>0.528861</td>\n",
       "      <td>0.154026</td>\n",
       "      <td>0.919426</td>\n",
       "      <td>0.656373</td>\n",
       "    </tr>\n",
       "    <tr>\n",
       "      <th>2</th>\n",
       "      <td>0.456265</td>\n",
       "      <td>0.327519</td>\n",
       "      <td>0.581987</td>\n",
       "      <td>0.197372</td>\n",
       "      <td>0.931163</td>\n",
       "    </tr>\n",
       "    <tr>\n",
       "      <th>3</th>\n",
       "      <td>0.617892</td>\n",
       "      <td>0.947110</td>\n",
       "      <td>0.467059</td>\n",
       "      <td>0.062695</td>\n",
       "      <td>0.390668</td>\n",
       "    </tr>\n",
       "    <tr>\n",
       "      <th>4</th>\n",
       "      <td>0.499514</td>\n",
       "      <td>0.412906</td>\n",
       "      <td>0.325778</td>\n",
       "      <td>0.602552</td>\n",
       "      <td>0.412478</td>\n",
       "    </tr>\n",
       "    <tr>\n",
       "      <th>...</th>\n",
       "      <td>...</td>\n",
       "      <td>...</td>\n",
       "      <td>...</td>\n",
       "      <td>...</td>\n",
       "      <td>...</td>\n",
       "    </tr>\n",
       "    <tr>\n",
       "      <th>4995</th>\n",
       "      <td>0.420568</td>\n",
       "      <td>0.320754</td>\n",
       "      <td>0.096297</td>\n",
       "      <td>0.036167</td>\n",
       "      <td>0.335575</td>\n",
       "    </tr>\n",
       "    <tr>\n",
       "      <th>4996</th>\n",
       "      <td>0.176055</td>\n",
       "      <td>0.715593</td>\n",
       "      <td>0.641227</td>\n",
       "      <td>0.231352</td>\n",
       "      <td>0.810731</td>\n",
       "    </tr>\n",
       "    <tr>\n",
       "      <th>4997</th>\n",
       "      <td>0.007113</td>\n",
       "      <td>0.916456</td>\n",
       "      <td>0.686269</td>\n",
       "      <td>0.569148</td>\n",
       "      <td>0.278242</td>\n",
       "    </tr>\n",
       "    <tr>\n",
       "      <th>4998</th>\n",
       "      <td>0.190724</td>\n",
       "      <td>0.364240</td>\n",
       "      <td>0.829746</td>\n",
       "      <td>0.772112</td>\n",
       "      <td>0.247398</td>\n",
       "    </tr>\n",
       "    <tr>\n",
       "      <th>4999</th>\n",
       "      <td>0.652126</td>\n",
       "      <td>0.936839</td>\n",
       "      <td>0.360526</td>\n",
       "      <td>0.904140</td>\n",
       "      <td>0.848259</td>\n",
       "    </tr>\n",
       "  </tbody>\n",
       "</table>\n",
       "<p>5000 rows × 5 columns</p>\n",
       "</div>"
      ],
      "text/plain": [
       "             0         1         2         3         4\n",
       "0     0.054021  0.205225  0.719564  0.578913  0.966764\n",
       "1     0.483493  0.528861  0.154026  0.919426  0.656373\n",
       "2     0.456265  0.327519  0.581987  0.197372  0.931163\n",
       "3     0.617892  0.947110  0.467059  0.062695  0.390668\n",
       "4     0.499514  0.412906  0.325778  0.602552  0.412478\n",
       "...        ...       ...       ...       ...       ...\n",
       "4995  0.420568  0.320754  0.096297  0.036167  0.335575\n",
       "4996  0.176055  0.715593  0.641227  0.231352  0.810731\n",
       "4997  0.007113  0.916456  0.686269  0.569148  0.278242\n",
       "4998  0.190724  0.364240  0.829746  0.772112  0.247398\n",
       "4999  0.652126  0.936839  0.360526  0.904140  0.848259\n",
       "\n",
       "[5000 rows x 5 columns]"
      ]
     },
     "execution_count": 11,
     "metadata": {},
     "output_type": "execute_result"
    }
   ],
   "source": [
    "df"
   ]
  },
  {
   "cell_type": "code",
   "execution_count": 13,
   "id": "f6acf41e",
   "metadata": {},
   "outputs": [
    {
     "data": {
      "text/html": [
       "<div>\n",
       "<style scoped>\n",
       "    .dataframe tbody tr th:only-of-type {\n",
       "        vertical-align: middle;\n",
       "    }\n",
       "\n",
       "    .dataframe tbody tr th {\n",
       "        vertical-align: top;\n",
       "    }\n",
       "\n",
       "    .dataframe thead th {\n",
       "        text-align: right;\n",
       "    }\n",
       "</style>\n",
       "<table border=\"1\" class=\"dataframe\">\n",
       "  <thead>\n",
       "    <tr style=\"text-align: right;\">\n",
       "      <th></th>\n",
       "      <th>a</th>\n",
       "      <th>b</th>\n",
       "      <th>c</th>\n",
       "      <th>d</th>\n",
       "      <th>e</th>\n",
       "    </tr>\n",
       "  </thead>\n",
       "  <tbody>\n",
       "    <tr>\n",
       "      <th>0</th>\n",
       "      <td>0.043359</td>\n",
       "      <td>0.589128</td>\n",
       "      <td>0.031608</td>\n",
       "      <td>0.313703</td>\n",
       "      <td>0.781522</td>\n",
       "    </tr>\n",
       "    <tr>\n",
       "      <th>1</th>\n",
       "      <td>0.689658</td>\n",
       "      <td>0.369137</td>\n",
       "      <td>0.988929</td>\n",
       "      <td>0.583541</td>\n",
       "      <td>0.549969</td>\n",
       "    </tr>\n",
       "    <tr>\n",
       "      <th>2</th>\n",
       "      <td>0.892888</td>\n",
       "      <td>0.830312</td>\n",
       "      <td>0.638718</td>\n",
       "      <td>0.175761</td>\n",
       "      <td>0.177748</td>\n",
       "    </tr>\n",
       "    <tr>\n",
       "      <th>3</th>\n",
       "      <td>0.635084</td>\n",
       "      <td>0.860471</td>\n",
       "      <td>0.641405</td>\n",
       "      <td>0.258550</td>\n",
       "      <td>0.614929</td>\n",
       "    </tr>\n",
       "    <tr>\n",
       "      <th>4</th>\n",
       "      <td>0.677189</td>\n",
       "      <td>0.644799</td>\n",
       "      <td>0.939061</td>\n",
       "      <td>0.682442</td>\n",
       "      <td>0.166755</td>\n",
       "    </tr>\n",
       "    <tr>\n",
       "      <th>...</th>\n",
       "      <td>...</td>\n",
       "      <td>...</td>\n",
       "      <td>...</td>\n",
       "      <td>...</td>\n",
       "      <td>...</td>\n",
       "    </tr>\n",
       "    <tr>\n",
       "      <th>4995</th>\n",
       "      <td>0.099082</td>\n",
       "      <td>0.640711</td>\n",
       "      <td>0.705686</td>\n",
       "      <td>0.244106</td>\n",
       "      <td>0.519141</td>\n",
       "    </tr>\n",
       "    <tr>\n",
       "      <th>4996</th>\n",
       "      <td>0.753754</td>\n",
       "      <td>0.840216</td>\n",
       "      <td>0.141305</td>\n",
       "      <td>0.966849</td>\n",
       "      <td>0.377341</td>\n",
       "    </tr>\n",
       "    <tr>\n",
       "      <th>4997</th>\n",
       "      <td>0.328618</td>\n",
       "      <td>0.435282</td>\n",
       "      <td>0.812903</td>\n",
       "      <td>0.831092</td>\n",
       "      <td>0.718712</td>\n",
       "    </tr>\n",
       "    <tr>\n",
       "      <th>4998</th>\n",
       "      <td>0.729009</td>\n",
       "      <td>0.320837</td>\n",
       "      <td>0.920623</td>\n",
       "      <td>0.192430</td>\n",
       "      <td>0.336664</td>\n",
       "    </tr>\n",
       "    <tr>\n",
       "      <th>4999</th>\n",
       "      <td>0.856792</td>\n",
       "      <td>0.139912</td>\n",
       "      <td>0.826683</td>\n",
       "      <td>0.164634</td>\n",
       "      <td>0.443285</td>\n",
       "    </tr>\n",
       "  </tbody>\n",
       "</table>\n",
       "<p>5000 rows × 5 columns</p>\n",
       "</div>"
      ],
      "text/plain": [
       "             a         b         c         d         e\n",
       "0     0.043359  0.589128  0.031608  0.313703  0.781522\n",
       "1     0.689658  0.369137  0.988929  0.583541  0.549969\n",
       "2     0.892888  0.830312  0.638718  0.175761  0.177748\n",
       "3     0.635084  0.860471  0.641405  0.258550  0.614929\n",
       "4     0.677189  0.644799  0.939061  0.682442  0.166755\n",
       "...        ...       ...       ...       ...       ...\n",
       "4995  0.099082  0.640711  0.705686  0.244106  0.519141\n",
       "4996  0.753754  0.840216  0.141305  0.966849  0.377341\n",
       "4997  0.328618  0.435282  0.812903  0.831092  0.718712\n",
       "4998  0.729009  0.320837  0.920623  0.192430  0.336664\n",
       "4999  0.856792  0.139912  0.826683  0.164634  0.443285\n",
       "\n",
       "[5000 rows x 5 columns]"
      ]
     },
     "execution_count": 13,
     "metadata": {},
     "output_type": "execute_result"
    }
   ],
   "source": [
    "pd.DataFrame(np.random.rand(N, 5), columns = [\"a\", \"b\", \"c\", \"d\", \"e\"])"
   ]
  },
  {
   "cell_type": "code",
   "execution_count": 14,
   "id": "d2389a82",
   "metadata": {},
   "outputs": [
    {
     "data": {
      "text/plain": [
       "(5000, 5)"
      ]
     },
     "execution_count": 14,
     "metadata": {},
     "output_type": "execute_result"
    }
   ],
   "source": [
    "df.shape"
   ]
  },
  {
   "cell_type": "code",
   "execution_count": 15,
   "id": "1b3c0107",
   "metadata": {},
   "outputs": [
    {
     "data": {
      "text/plain": [
       "25000"
      ]
     },
     "execution_count": 15,
     "metadata": {},
     "output_type": "execute_result"
    }
   ],
   "source": [
    "df.size"
   ]
  },
  {
   "cell_type": "code",
   "execution_count": 16,
   "id": "67bb5327",
   "metadata": {},
   "outputs": [
    {
     "data": {
      "text/plain": [
       "2"
      ]
     },
     "execution_count": 16,
     "metadata": {},
     "output_type": "execute_result"
    }
   ],
   "source": [
    "df.ndim"
   ]
  },
  {
   "cell_type": "code",
   "execution_count": 17,
   "id": "3123f7ed",
   "metadata": {},
   "outputs": [
    {
     "data": {
      "text/plain": [
       "Index(['a', 'b', 'c', 'd', 'e'], dtype='object')"
      ]
     },
     "execution_count": 17,
     "metadata": {},
     "output_type": "execute_result"
    }
   ],
   "source": [
    "df.columns"
   ]
  },
  {
   "cell_type": "code",
   "execution_count": 18,
   "id": "e1efaac8",
   "metadata": {},
   "outputs": [
    {
     "data": {
      "text/plain": [
       "RangeIndex(start=0, stop=5000, step=1)"
      ]
     },
     "execution_count": 18,
     "metadata": {},
     "output_type": "execute_result"
    }
   ],
   "source": [
    "df.index"
   ]
  },
  {
   "cell_type": "code",
   "execution_count": 19,
   "id": "e918c6a5",
   "metadata": {},
   "outputs": [
    {
     "data": {
      "text/plain": [
       "pandas.core.frame.DataFrame"
      ]
     },
     "execution_count": 19,
     "metadata": {},
     "output_type": "execute_result"
    }
   ],
   "source": [
    "type(df)"
   ]
  },
  {
   "cell_type": "code",
   "execution_count": 22,
   "id": "fe53dfa7",
   "metadata": {},
   "outputs": [
    {
     "name": "stdout",
     "output_type": "stream",
     "text": [
      "<class 'pandas.core.frame.DataFrame'>\n",
      "RangeIndex: 5000 entries, 0 to 4999\n",
      "Data columns (total 5 columns):\n",
      " #   Column  Non-Null Count  Dtype  \n",
      "---  ------  --------------  -----  \n",
      " 0   a       5000 non-null   float64\n",
      " 1   b       5000 non-null   float64\n",
      " 2   c       5000 non-null   float64\n",
      " 3   d       5000 non-null   float64\n",
      " 4   e       5000 non-null   float64\n",
      "dtypes: float64(5)\n",
      "memory usage: 195.4 KB\n"
     ]
    }
   ],
   "source": [
    "df.info()"
   ]
  },
  {
   "cell_type": "code",
   "execution_count": 23,
   "id": "e2e43af1",
   "metadata": {},
   "outputs": [
    {
     "data": {
      "text/html": [
       "<div>\n",
       "<style scoped>\n",
       "    .dataframe tbody tr th:only-of-type {\n",
       "        vertical-align: middle;\n",
       "    }\n",
       "\n",
       "    .dataframe tbody tr th {\n",
       "        vertical-align: top;\n",
       "    }\n",
       "\n",
       "    .dataframe thead th {\n",
       "        text-align: right;\n",
       "    }\n",
       "</style>\n",
       "<table border=\"1\" class=\"dataframe\">\n",
       "  <thead>\n",
       "    <tr style=\"text-align: right;\">\n",
       "      <th></th>\n",
       "      <th>a</th>\n",
       "      <th>b</th>\n",
       "      <th>c</th>\n",
       "      <th>d</th>\n",
       "      <th>e</th>\n",
       "    </tr>\n",
       "  </thead>\n",
       "  <tbody>\n",
       "    <tr>\n",
       "      <th>count</th>\n",
       "      <td>5000.000000</td>\n",
       "      <td>5000.000000</td>\n",
       "      <td>5000.000000</td>\n",
       "      <td>5000.000000</td>\n",
       "      <td>5000.000000</td>\n",
       "    </tr>\n",
       "    <tr>\n",
       "      <th>mean</th>\n",
       "      <td>0.495104</td>\n",
       "      <td>0.500546</td>\n",
       "      <td>0.502151</td>\n",
       "      <td>0.496343</td>\n",
       "      <td>0.495878</td>\n",
       "    </tr>\n",
       "    <tr>\n",
       "      <th>std</th>\n",
       "      <td>0.289440</td>\n",
       "      <td>0.289668</td>\n",
       "      <td>0.290667</td>\n",
       "      <td>0.286977</td>\n",
       "      <td>0.293512</td>\n",
       "    </tr>\n",
       "    <tr>\n",
       "      <th>min</th>\n",
       "      <td>0.000063</td>\n",
       "      <td>0.000073</td>\n",
       "      <td>0.000044</td>\n",
       "      <td>0.000052</td>\n",
       "      <td>0.000083</td>\n",
       "    </tr>\n",
       "    <tr>\n",
       "      <th>25%</th>\n",
       "      <td>0.238331</td>\n",
       "      <td>0.252351</td>\n",
       "      <td>0.246659</td>\n",
       "      <td>0.240847</td>\n",
       "      <td>0.238557</td>\n",
       "    </tr>\n",
       "    <tr>\n",
       "      <th>50%</th>\n",
       "      <td>0.494717</td>\n",
       "      <td>0.499396</td>\n",
       "      <td>0.502080</td>\n",
       "      <td>0.497099</td>\n",
       "      <td>0.494568</td>\n",
       "    </tr>\n",
       "    <tr>\n",
       "      <th>75%</th>\n",
       "      <td>0.743016</td>\n",
       "      <td>0.757090</td>\n",
       "      <td>0.758097</td>\n",
       "      <td>0.747696</td>\n",
       "      <td>0.754940</td>\n",
       "    </tr>\n",
       "    <tr>\n",
       "      <th>max</th>\n",
       "      <td>0.999820</td>\n",
       "      <td>0.999861</td>\n",
       "      <td>0.999409</td>\n",
       "      <td>0.999974</td>\n",
       "      <td>0.999994</td>\n",
       "    </tr>\n",
       "  </tbody>\n",
       "</table>\n",
       "</div>"
      ],
      "text/plain": [
       "                 a            b            c            d            e\n",
       "count  5000.000000  5000.000000  5000.000000  5000.000000  5000.000000\n",
       "mean      0.495104     0.500546     0.502151     0.496343     0.495878\n",
       "std       0.289440     0.289668     0.290667     0.286977     0.293512\n",
       "min       0.000063     0.000073     0.000044     0.000052     0.000083\n",
       "25%       0.238331     0.252351     0.246659     0.240847     0.238557\n",
       "50%       0.494717     0.499396     0.502080     0.497099     0.494568\n",
       "75%       0.743016     0.757090     0.758097     0.747696     0.754940\n",
       "max       0.999820     0.999861     0.999409     0.999974     0.999994"
      ]
     },
     "execution_count": 23,
     "metadata": {},
     "output_type": "execute_result"
    }
   ],
   "source": [
    "df.describe()"
   ]
  },
  {
   "cell_type": "markdown",
   "id": "9ba01ae0",
   "metadata": {},
   "source": [
    "columnwise maximum"
   ]
  },
  {
   "cell_type": "code",
   "execution_count": 24,
   "id": "9ed4bb08",
   "metadata": {},
   "outputs": [
    {
     "data": {
      "text/plain": [
       "a    0.999820\n",
       "b    0.999861\n",
       "c    0.999409\n",
       "d    0.999974\n",
       "e    0.999994\n",
       "dtype: float64"
      ]
     },
     "execution_count": 24,
     "metadata": {},
     "output_type": "execute_result"
    }
   ],
   "source": [
    "df.max()"
   ]
  },
  {
   "cell_type": "code",
   "execution_count": 27,
   "id": "a1220f0b",
   "metadata": {},
   "outputs": [
    {
     "data": {
      "text/plain": [
       "0       0.755513\n",
       "1       0.887167\n",
       "2       0.912519\n",
       "3       0.904802\n",
       "4       0.828889\n",
       "          ...   \n",
       "4995    0.617945\n",
       "4996    0.976039\n",
       "4997    0.993086\n",
       "4998    0.950581\n",
       "4999    0.941433\n",
       "Length: 5000, dtype: float64"
      ]
     },
     "execution_count": 27,
     "metadata": {},
     "output_type": "execute_result"
    }
   ],
   "source": [
    "df.max(axis=1)"
   ]
  },
  {
   "cell_type": "code",
   "execution_count": 28,
   "id": "f9221533",
   "metadata": {},
   "outputs": [
    {
     "data": {
      "text/html": [
       "<div>\n",
       "<style scoped>\n",
       "    .dataframe tbody tr th:only-of-type {\n",
       "        vertical-align: middle;\n",
       "    }\n",
       "\n",
       "    .dataframe tbody tr th {\n",
       "        vertical-align: top;\n",
       "    }\n",
       "\n",
       "    .dataframe thead th {\n",
       "        text-align: right;\n",
       "    }\n",
       "</style>\n",
       "<table border=\"1\" class=\"dataframe\">\n",
       "  <thead>\n",
       "    <tr style=\"text-align: right;\">\n",
       "      <th></th>\n",
       "      <th>a</th>\n",
       "      <th>b</th>\n",
       "      <th>c</th>\n",
       "      <th>d</th>\n",
       "      <th>e</th>\n",
       "    </tr>\n",
       "  </thead>\n",
       "  <tbody>\n",
       "    <tr>\n",
       "      <th>0</th>\n",
       "      <td>0.250223</td>\n",
       "      <td>0.542466</td>\n",
       "      <td>0.096244</td>\n",
       "      <td>0.755513</td>\n",
       "      <td>0.743286</td>\n",
       "    </tr>\n",
       "    <tr>\n",
       "      <th>1</th>\n",
       "      <td>0.195730</td>\n",
       "      <td>0.750498</td>\n",
       "      <td>0.808275</td>\n",
       "      <td>0.233030</td>\n",
       "      <td>0.887167</td>\n",
       "    </tr>\n",
       "    <tr>\n",
       "      <th>2</th>\n",
       "      <td>0.629410</td>\n",
       "      <td>0.113555</td>\n",
       "      <td>0.912519</td>\n",
       "      <td>0.005507</td>\n",
       "      <td>0.184854</td>\n",
       "    </tr>\n",
       "    <tr>\n",
       "      <th>3</th>\n",
       "      <td>0.132205</td>\n",
       "      <td>0.330132</td>\n",
       "      <td>0.845909</td>\n",
       "      <td>0.904802</td>\n",
       "      <td>0.056963</td>\n",
       "    </tr>\n",
       "    <tr>\n",
       "      <th>4</th>\n",
       "      <td>0.817243</td>\n",
       "      <td>0.087630</td>\n",
       "      <td>0.828889</td>\n",
       "      <td>0.124962</td>\n",
       "      <td>0.092525</td>\n",
       "    </tr>\n",
       "  </tbody>\n",
       "</table>\n",
       "</div>"
      ],
      "text/plain": [
       "          a         b         c         d         e\n",
       "0  0.250223  0.542466  0.096244  0.755513  0.743286\n",
       "1  0.195730  0.750498  0.808275  0.233030  0.887167\n",
       "2  0.629410  0.113555  0.912519  0.005507  0.184854\n",
       "3  0.132205  0.330132  0.845909  0.904802  0.056963\n",
       "4  0.817243  0.087630  0.828889  0.124962  0.092525"
      ]
     },
     "execution_count": 28,
     "metadata": {},
     "output_type": "execute_result"
    }
   ],
   "source": [
    "df.head()"
   ]
  },
  {
   "cell_type": "code",
   "execution_count": 29,
   "id": "4670b9b7",
   "metadata": {},
   "outputs": [
    {
     "data": {
      "text/html": [
       "<div>\n",
       "<style scoped>\n",
       "    .dataframe tbody tr th:only-of-type {\n",
       "        vertical-align: middle;\n",
       "    }\n",
       "\n",
       "    .dataframe tbody tr th {\n",
       "        vertical-align: top;\n",
       "    }\n",
       "\n",
       "    .dataframe thead th {\n",
       "        text-align: right;\n",
       "    }\n",
       "</style>\n",
       "<table border=\"1\" class=\"dataframe\">\n",
       "  <thead>\n",
       "    <tr style=\"text-align: right;\">\n",
       "      <th></th>\n",
       "      <th>a</th>\n",
       "      <th>b</th>\n",
       "      <th>c</th>\n",
       "      <th>d</th>\n",
       "      <th>e</th>\n",
       "    </tr>\n",
       "  </thead>\n",
       "  <tbody>\n",
       "    <tr>\n",
       "      <th>0</th>\n",
       "      <td>0.250223</td>\n",
       "      <td>0.542466</td>\n",
       "      <td>0.096244</td>\n",
       "      <td>0.755513</td>\n",
       "      <td>0.743286</td>\n",
       "    </tr>\n",
       "  </tbody>\n",
       "</table>\n",
       "</div>"
      ],
      "text/plain": [
       "          a         b         c         d         e\n",
       "0  0.250223  0.542466  0.096244  0.755513  0.743286"
      ]
     },
     "execution_count": 29,
     "metadata": {},
     "output_type": "execute_result"
    }
   ],
   "source": [
    "df.head(1)"
   ]
  },
  {
   "cell_type": "code",
   "execution_count": 30,
   "id": "058146a3",
   "metadata": {},
   "outputs": [
    {
     "data": {
      "text/html": [
       "<div>\n",
       "<style scoped>\n",
       "    .dataframe tbody tr th:only-of-type {\n",
       "        vertical-align: middle;\n",
       "    }\n",
       "\n",
       "    .dataframe tbody tr th {\n",
       "        vertical-align: top;\n",
       "    }\n",
       "\n",
       "    .dataframe thead th {\n",
       "        text-align: right;\n",
       "    }\n",
       "</style>\n",
       "<table border=\"1\" class=\"dataframe\">\n",
       "  <thead>\n",
       "    <tr style=\"text-align: right;\">\n",
       "      <th></th>\n",
       "      <th>a</th>\n",
       "      <th>b</th>\n",
       "      <th>c</th>\n",
       "      <th>d</th>\n",
       "      <th>e</th>\n",
       "    </tr>\n",
       "  </thead>\n",
       "  <tbody>\n",
       "    <tr>\n",
       "      <th>4997</th>\n",
       "      <td>0.079353</td>\n",
       "      <td>0.150034</td>\n",
       "      <td>0.344651</td>\n",
       "      <td>0.966917</td>\n",
       "      <td>0.993086</td>\n",
       "    </tr>\n",
       "    <tr>\n",
       "      <th>4998</th>\n",
       "      <td>0.621560</td>\n",
       "      <td>0.950581</td>\n",
       "      <td>0.767788</td>\n",
       "      <td>0.863710</td>\n",
       "      <td>0.665487</td>\n",
       "    </tr>\n",
       "    <tr>\n",
       "      <th>4999</th>\n",
       "      <td>0.304947</td>\n",
       "      <td>0.627881</td>\n",
       "      <td>0.914302</td>\n",
       "      <td>0.433591</td>\n",
       "      <td>0.941433</td>\n",
       "    </tr>\n",
       "  </tbody>\n",
       "</table>\n",
       "</div>"
      ],
      "text/plain": [
       "             a         b         c         d         e\n",
       "4997  0.079353  0.150034  0.344651  0.966917  0.993086\n",
       "4998  0.621560  0.950581  0.767788  0.863710  0.665487\n",
       "4999  0.304947  0.627881  0.914302  0.433591  0.941433"
      ]
     },
     "execution_count": 30,
     "metadata": {},
     "output_type": "execute_result"
    }
   ],
   "source": [
    "df.tail(3)"
   ]
  },
  {
   "cell_type": "code",
   "execution_count": 31,
   "id": "ca0a8786",
   "metadata": {},
   "outputs": [
    {
     "data": {
      "text/html": [
       "<div>\n",
       "<style scoped>\n",
       "    .dataframe tbody tr th:only-of-type {\n",
       "        vertical-align: middle;\n",
       "    }\n",
       "\n",
       "    .dataframe tbody tr th {\n",
       "        vertical-align: top;\n",
       "    }\n",
       "\n",
       "    .dataframe thead th {\n",
       "        text-align: right;\n",
       "    }\n",
       "</style>\n",
       "<table border=\"1\" class=\"dataframe\">\n",
       "  <thead>\n",
       "    <tr style=\"text-align: right;\">\n",
       "      <th></th>\n",
       "      <th>a</th>\n",
       "      <th>b</th>\n",
       "      <th>c</th>\n",
       "      <th>d</th>\n",
       "      <th>e</th>\n",
       "    </tr>\n",
       "  </thead>\n",
       "  <tbody>\n",
       "    <tr>\n",
       "      <th>913</th>\n",
       "      <td>0.466147</td>\n",
       "      <td>0.296661</td>\n",
       "      <td>0.04004</td>\n",
       "      <td>0.331792</td>\n",
       "      <td>0.63382</td>\n",
       "    </tr>\n",
       "  </tbody>\n",
       "</table>\n",
       "</div>"
      ],
      "text/plain": [
       "            a         b        c         d        e\n",
       "913  0.466147  0.296661  0.04004  0.331792  0.63382"
      ]
     },
     "execution_count": 31,
     "metadata": {},
     "output_type": "execute_result"
    }
   ],
   "source": [
    "df.sample()"
   ]
  },
  {
   "cell_type": "code",
   "execution_count": 32,
   "id": "aa2c6092",
   "metadata": {},
   "outputs": [
    {
     "data": {
      "text/html": [
       "<div>\n",
       "<style scoped>\n",
       "    .dataframe tbody tr th:only-of-type {\n",
       "        vertical-align: middle;\n",
       "    }\n",
       "\n",
       "    .dataframe tbody tr th {\n",
       "        vertical-align: top;\n",
       "    }\n",
       "\n",
       "    .dataframe thead th {\n",
       "        text-align: right;\n",
       "    }\n",
       "</style>\n",
       "<table border=\"1\" class=\"dataframe\">\n",
       "  <thead>\n",
       "    <tr style=\"text-align: right;\">\n",
       "      <th></th>\n",
       "      <th>a</th>\n",
       "      <th>b</th>\n",
       "      <th>c</th>\n",
       "      <th>d</th>\n",
       "      <th>e</th>\n",
       "    </tr>\n",
       "  </thead>\n",
       "  <tbody>\n",
       "    <tr>\n",
       "      <th>3656</th>\n",
       "      <td>0.786833</td>\n",
       "      <td>0.249470</td>\n",
       "      <td>0.899298</td>\n",
       "      <td>0.249307</td>\n",
       "      <td>0.850564</td>\n",
       "    </tr>\n",
       "    <tr>\n",
       "      <th>1919</th>\n",
       "      <td>0.566162</td>\n",
       "      <td>0.077254</td>\n",
       "      <td>0.156042</td>\n",
       "      <td>0.208476</td>\n",
       "      <td>0.599210</td>\n",
       "    </tr>\n",
       "    <tr>\n",
       "      <th>4920</th>\n",
       "      <td>0.890200</td>\n",
       "      <td>0.336384</td>\n",
       "      <td>0.361273</td>\n",
       "      <td>0.592127</td>\n",
       "      <td>0.361223</td>\n",
       "    </tr>\n",
       "    <tr>\n",
       "      <th>4486</th>\n",
       "      <td>0.947694</td>\n",
       "      <td>0.565534</td>\n",
       "      <td>0.293202</td>\n",
       "      <td>0.457282</td>\n",
       "      <td>0.442753</td>\n",
       "    </tr>\n",
       "    <tr>\n",
       "      <th>220</th>\n",
       "      <td>0.979405</td>\n",
       "      <td>0.765092</td>\n",
       "      <td>0.048873</td>\n",
       "      <td>0.854370</td>\n",
       "      <td>0.211196</td>\n",
       "    </tr>\n",
       "    <tr>\n",
       "      <th>2638</th>\n",
       "      <td>0.055202</td>\n",
       "      <td>0.565186</td>\n",
       "      <td>0.218447</td>\n",
       "      <td>0.074652</td>\n",
       "      <td>0.875209</td>\n",
       "    </tr>\n",
       "    <tr>\n",
       "      <th>2647</th>\n",
       "      <td>0.426615</td>\n",
       "      <td>0.241299</td>\n",
       "      <td>0.379908</td>\n",
       "      <td>0.584510</td>\n",
       "      <td>0.776957</td>\n",
       "    </tr>\n",
       "    <tr>\n",
       "      <th>356</th>\n",
       "      <td>0.555424</td>\n",
       "      <td>0.061823</td>\n",
       "      <td>0.185030</td>\n",
       "      <td>0.387424</td>\n",
       "      <td>0.322481</td>\n",
       "    </tr>\n",
       "    <tr>\n",
       "      <th>45</th>\n",
       "      <td>0.384626</td>\n",
       "      <td>0.003861</td>\n",
       "      <td>0.883438</td>\n",
       "      <td>0.235578</td>\n",
       "      <td>0.353236</td>\n",
       "    </tr>\n",
       "    <tr>\n",
       "      <th>2438</th>\n",
       "      <td>0.292608</td>\n",
       "      <td>0.806295</td>\n",
       "      <td>0.030762</td>\n",
       "      <td>0.373531</td>\n",
       "      <td>0.822456</td>\n",
       "    </tr>\n",
       "  </tbody>\n",
       "</table>\n",
       "</div>"
      ],
      "text/plain": [
       "             a         b         c         d         e\n",
       "3656  0.786833  0.249470  0.899298  0.249307  0.850564\n",
       "1919  0.566162  0.077254  0.156042  0.208476  0.599210\n",
       "4920  0.890200  0.336384  0.361273  0.592127  0.361223\n",
       "4486  0.947694  0.565534  0.293202  0.457282  0.442753\n",
       "220   0.979405  0.765092  0.048873  0.854370  0.211196\n",
       "2638  0.055202  0.565186  0.218447  0.074652  0.875209\n",
       "2647  0.426615  0.241299  0.379908  0.584510  0.776957\n",
       "356   0.555424  0.061823  0.185030  0.387424  0.322481\n",
       "45    0.384626  0.003861  0.883438  0.235578  0.353236\n",
       "2438  0.292608  0.806295  0.030762  0.373531  0.822456"
      ]
     },
     "execution_count": 32,
     "metadata": {},
     "output_type": "execute_result"
    }
   ],
   "source": [
    "df.sample(10)"
   ]
  },
  {
   "cell_type": "markdown",
   "id": "92bad03d",
   "metadata": {},
   "source": [
    "**Note: We use pandas for EDA**"
   ]
  },
  {
   "cell_type": "markdown",
   "id": "f3584ebf",
   "metadata": {},
   "source": [
    "## Getting single column"
   ]
  },
  {
   "cell_type": "code",
   "execution_count": 34,
   "id": "9c27a045",
   "metadata": {},
   "outputs": [
    {
     "data": {
      "text/plain": [
       "0       0.250223\n",
       "1       0.195730\n",
       "2       0.629410\n",
       "3       0.132205\n",
       "4       0.817243\n",
       "          ...   \n",
       "4995    0.617945\n",
       "4996    0.324422\n",
       "4997    0.079353\n",
       "4998    0.621560\n",
       "4999    0.304947\n",
       "Name: a, Length: 5000, dtype: float64"
      ]
     },
     "execution_count": 34,
     "metadata": {},
     "output_type": "execute_result"
    }
   ],
   "source": [
    "df.a"
   ]
  },
  {
   "cell_type": "code",
   "execution_count": 35,
   "id": "61715681",
   "metadata": {},
   "outputs": [
    {
     "data": {
      "text/plain": [
       "pandas.core.series.Series"
      ]
     },
     "execution_count": 35,
     "metadata": {},
     "output_type": "execute_result"
    }
   ],
   "source": [
    "type(df.a)"
   ]
  },
  {
   "cell_type": "markdown",
   "id": "5554a78c",
   "metadata": {},
   "source": [
    "**Series is a 1 dimensional vector**"
   ]
  },
  {
   "cell_type": "code",
   "execution_count": 37,
   "id": "fe29d31f",
   "metadata": {},
   "outputs": [
    {
     "data": {
      "text/plain": [
       "a    0.000063\n",
       "b    0.000073\n",
       "c    0.000044\n",
       "d    0.000052\n",
       "e    0.000083\n",
       "dtype: float64"
      ]
     },
     "execution_count": 37,
     "metadata": {},
     "output_type": "execute_result"
    }
   ],
   "source": [
    "df.min()"
   ]
  },
  {
   "cell_type": "code",
   "execution_count": 38,
   "id": "ea4c1107",
   "metadata": {},
   "outputs": [
    {
     "data": {
      "text/plain": [
       "0       0.250223\n",
       "1       0.195730\n",
       "2       0.629410\n",
       "3       0.132205\n",
       "4       0.817243\n",
       "          ...   \n",
       "4995    0.617945\n",
       "4996    0.324422\n",
       "4997    0.079353\n",
       "4998    0.621560\n",
       "4999    0.304947\n",
       "Name: a, Length: 5000, dtype: float64"
      ]
     },
     "execution_count": 38,
     "metadata": {},
     "output_type": "execute_result"
    }
   ],
   "source": [
    "df[\"a\"]"
   ]
  },
  {
   "cell_type": "markdown",
   "id": "f4d7ef7f",
   "metadata": {},
   "source": [
    "**What if we want to get the column \"min\", which is also a method min()?**"
   ]
  },
  {
   "cell_type": "markdown",
   "id": "b6a5c35e",
   "metadata": {},
   "source": [
    "Hence, we can use indexing like in array [\"min\"]"
   ]
  },
  {
   "cell_type": "markdown",
   "id": "550962fd",
   "metadata": {},
   "source": [
    "## Series data to DataFrame"
   ]
  },
  {
   "cell_type": "code",
   "execution_count": 39,
   "id": "2461f495",
   "metadata": {},
   "outputs": [
    {
     "data": {
      "text/html": [
       "<div>\n",
       "<style scoped>\n",
       "    .dataframe tbody tr th:only-of-type {\n",
       "        vertical-align: middle;\n",
       "    }\n",
       "\n",
       "    .dataframe tbody tr th {\n",
       "        vertical-align: top;\n",
       "    }\n",
       "\n",
       "    .dataframe thead th {\n",
       "        text-align: right;\n",
       "    }\n",
       "</style>\n",
       "<table border=\"1\" class=\"dataframe\">\n",
       "  <thead>\n",
       "    <tr style=\"text-align: right;\">\n",
       "      <th></th>\n",
       "      <th>a</th>\n",
       "    </tr>\n",
       "  </thead>\n",
       "  <tbody>\n",
       "    <tr>\n",
       "      <th>0</th>\n",
       "      <td>0.250223</td>\n",
       "    </tr>\n",
       "    <tr>\n",
       "      <th>1</th>\n",
       "      <td>0.195730</td>\n",
       "    </tr>\n",
       "    <tr>\n",
       "      <th>2</th>\n",
       "      <td>0.629410</td>\n",
       "    </tr>\n",
       "    <tr>\n",
       "      <th>3</th>\n",
       "      <td>0.132205</td>\n",
       "    </tr>\n",
       "    <tr>\n",
       "      <th>4</th>\n",
       "      <td>0.817243</td>\n",
       "    </tr>\n",
       "    <tr>\n",
       "      <th>...</th>\n",
       "      <td>...</td>\n",
       "    </tr>\n",
       "    <tr>\n",
       "      <th>4995</th>\n",
       "      <td>0.617945</td>\n",
       "    </tr>\n",
       "    <tr>\n",
       "      <th>4996</th>\n",
       "      <td>0.324422</td>\n",
       "    </tr>\n",
       "    <tr>\n",
       "      <th>4997</th>\n",
       "      <td>0.079353</td>\n",
       "    </tr>\n",
       "    <tr>\n",
       "      <th>4998</th>\n",
       "      <td>0.621560</td>\n",
       "    </tr>\n",
       "    <tr>\n",
       "      <th>4999</th>\n",
       "      <td>0.304947</td>\n",
       "    </tr>\n",
       "  </tbody>\n",
       "</table>\n",
       "<p>5000 rows × 1 columns</p>\n",
       "</div>"
      ],
      "text/plain": [
       "             a\n",
       "0     0.250223\n",
       "1     0.195730\n",
       "2     0.629410\n",
       "3     0.132205\n",
       "4     0.817243\n",
       "...        ...\n",
       "4995  0.617945\n",
       "4996  0.324422\n",
       "4997  0.079353\n",
       "4998  0.621560\n",
       "4999  0.304947\n",
       "\n",
       "[5000 rows x 1 columns]"
      ]
     },
     "execution_count": 39,
     "metadata": {},
     "output_type": "execute_result"
    }
   ],
   "source": [
    "df[[\"a\"]]"
   ]
  },
  {
   "cell_type": "code",
   "execution_count": 40,
   "id": "10a1d967",
   "metadata": {},
   "outputs": [
    {
     "data": {
      "text/plain": [
       "pandas.core.frame.DataFrame"
      ]
     },
     "execution_count": 40,
     "metadata": {},
     "output_type": "execute_result"
    }
   ],
   "source": [
    "type(df[[\"a\"]])"
   ]
  },
  {
   "cell_type": "markdown",
   "id": "7fe377f7",
   "metadata": {},
   "source": [
    "OR, we can use the to_frame() method aswell"
   ]
  },
  {
   "cell_type": "code",
   "execution_count": 42,
   "id": "0d662924",
   "metadata": {},
   "outputs": [
    {
     "data": {
      "text/html": [
       "<div>\n",
       "<style scoped>\n",
       "    .dataframe tbody tr th:only-of-type {\n",
       "        vertical-align: middle;\n",
       "    }\n",
       "\n",
       "    .dataframe tbody tr th {\n",
       "        vertical-align: top;\n",
       "    }\n",
       "\n",
       "    .dataframe thead th {\n",
       "        text-align: right;\n",
       "    }\n",
       "</style>\n",
       "<table border=\"1\" class=\"dataframe\">\n",
       "  <thead>\n",
       "    <tr style=\"text-align: right;\">\n",
       "      <th></th>\n",
       "      <th>a</th>\n",
       "    </tr>\n",
       "  </thead>\n",
       "  <tbody>\n",
       "    <tr>\n",
       "      <th>0</th>\n",
       "      <td>0.250223</td>\n",
       "    </tr>\n",
       "    <tr>\n",
       "      <th>1</th>\n",
       "      <td>0.195730</td>\n",
       "    </tr>\n",
       "    <tr>\n",
       "      <th>2</th>\n",
       "      <td>0.629410</td>\n",
       "    </tr>\n",
       "    <tr>\n",
       "      <th>3</th>\n",
       "      <td>0.132205</td>\n",
       "    </tr>\n",
       "    <tr>\n",
       "      <th>4</th>\n",
       "      <td>0.817243</td>\n",
       "    </tr>\n",
       "    <tr>\n",
       "      <th>...</th>\n",
       "      <td>...</td>\n",
       "    </tr>\n",
       "    <tr>\n",
       "      <th>4995</th>\n",
       "      <td>0.617945</td>\n",
       "    </tr>\n",
       "    <tr>\n",
       "      <th>4996</th>\n",
       "      <td>0.324422</td>\n",
       "    </tr>\n",
       "    <tr>\n",
       "      <th>4997</th>\n",
       "      <td>0.079353</td>\n",
       "    </tr>\n",
       "    <tr>\n",
       "      <th>4998</th>\n",
       "      <td>0.621560</td>\n",
       "    </tr>\n",
       "    <tr>\n",
       "      <th>4999</th>\n",
       "      <td>0.304947</td>\n",
       "    </tr>\n",
       "  </tbody>\n",
       "</table>\n",
       "<p>5000 rows × 1 columns</p>\n",
       "</div>"
      ],
      "text/plain": [
       "             a\n",
       "0     0.250223\n",
       "1     0.195730\n",
       "2     0.629410\n",
       "3     0.132205\n",
       "4     0.817243\n",
       "...        ...\n",
       "4995  0.617945\n",
       "4996  0.324422\n",
       "4997  0.079353\n",
       "4998  0.621560\n",
       "4999  0.304947\n",
       "\n",
       "[5000 rows x 1 columns]"
      ]
     },
     "execution_count": 42,
     "metadata": {},
     "output_type": "execute_result"
    }
   ],
   "source": [
    "df[\"a\"].to_frame()"
   ]
  },
  {
   "cell_type": "code",
   "execution_count": 43,
   "id": "59ca8489",
   "metadata": {},
   "outputs": [
    {
     "data": {
      "text/plain": [
       "array([0.25022344, 0.19573036, 0.62940986, ..., 0.0793532 , 0.62155956,\n",
       "       0.30494718])"
      ]
     },
     "execution_count": 43,
     "metadata": {},
     "output_type": "execute_result"
    }
   ],
   "source": [
    "df[\"a\"].values"
   ]
  },
  {
   "cell_type": "code",
   "execution_count": 44,
   "id": "3a5fc062",
   "metadata": {},
   "outputs": [
    {
     "data": {
      "text/plain": [
       "array([[0.25022344],\n",
       "       [0.19573036],\n",
       "       [0.62940986],\n",
       "       ...,\n",
       "       [0.0793532 ],\n",
       "       [0.62155956],\n",
       "       [0.30494718]])"
      ]
     },
     "execution_count": 44,
     "metadata": {},
     "output_type": "execute_result"
    }
   ],
   "source": [
    "df[[\"a\"]].values"
   ]
  },
  {
   "cell_type": "code",
   "execution_count": 46,
   "id": "1e38bd46",
   "metadata": {},
   "outputs": [
    {
     "data": {
      "text/html": [
       "<div>\n",
       "<style scoped>\n",
       "    .dataframe tbody tr th:only-of-type {\n",
       "        vertical-align: middle;\n",
       "    }\n",
       "\n",
       "    .dataframe tbody tr th {\n",
       "        vertical-align: top;\n",
       "    }\n",
       "\n",
       "    .dataframe thead th {\n",
       "        text-align: right;\n",
       "    }\n",
       "</style>\n",
       "<table border=\"1\" class=\"dataframe\">\n",
       "  <thead>\n",
       "    <tr style=\"text-align: right;\">\n",
       "      <th></th>\n",
       "      <th>a</th>\n",
       "      <th>b</th>\n",
       "    </tr>\n",
       "  </thead>\n",
       "  <tbody>\n",
       "    <tr>\n",
       "      <th>0</th>\n",
       "      <td>0.250223</td>\n",
       "      <td>0.542466</td>\n",
       "    </tr>\n",
       "    <tr>\n",
       "      <th>1</th>\n",
       "      <td>0.195730</td>\n",
       "      <td>0.750498</td>\n",
       "    </tr>\n",
       "    <tr>\n",
       "      <th>2</th>\n",
       "      <td>0.629410</td>\n",
       "      <td>0.113555</td>\n",
       "    </tr>\n",
       "    <tr>\n",
       "      <th>3</th>\n",
       "      <td>0.132205</td>\n",
       "      <td>0.330132</td>\n",
       "    </tr>\n",
       "    <tr>\n",
       "      <th>4</th>\n",
       "      <td>0.817243</td>\n",
       "      <td>0.087630</td>\n",
       "    </tr>\n",
       "    <tr>\n",
       "      <th>...</th>\n",
       "      <td>...</td>\n",
       "      <td>...</td>\n",
       "    </tr>\n",
       "    <tr>\n",
       "      <th>4995</th>\n",
       "      <td>0.617945</td>\n",
       "      <td>0.081107</td>\n",
       "    </tr>\n",
       "    <tr>\n",
       "      <th>4996</th>\n",
       "      <td>0.324422</td>\n",
       "      <td>0.898911</td>\n",
       "    </tr>\n",
       "    <tr>\n",
       "      <th>4997</th>\n",
       "      <td>0.079353</td>\n",
       "      <td>0.150034</td>\n",
       "    </tr>\n",
       "    <tr>\n",
       "      <th>4998</th>\n",
       "      <td>0.621560</td>\n",
       "      <td>0.950581</td>\n",
       "    </tr>\n",
       "    <tr>\n",
       "      <th>4999</th>\n",
       "      <td>0.304947</td>\n",
       "      <td>0.627881</td>\n",
       "    </tr>\n",
       "  </tbody>\n",
       "</table>\n",
       "<p>5000 rows × 2 columns</p>\n",
       "</div>"
      ],
      "text/plain": [
       "             a         b\n",
       "0     0.250223  0.542466\n",
       "1     0.195730  0.750498\n",
       "2     0.629410  0.113555\n",
       "3     0.132205  0.330132\n",
       "4     0.817243  0.087630\n",
       "...        ...       ...\n",
       "4995  0.617945  0.081107\n",
       "4996  0.324422  0.898911\n",
       "4997  0.079353  0.150034\n",
       "4998  0.621560  0.950581\n",
       "4999  0.304947  0.627881\n",
       "\n",
       "[5000 rows x 2 columns]"
      ]
     },
     "execution_count": 46,
     "metadata": {},
     "output_type": "execute_result"
    }
   ],
   "source": [
    "df[[\"a\", \"b\"]]"
   ]
  },
  {
   "cell_type": "markdown",
   "id": "812b76d4",
   "metadata": {},
   "source": [
    "**DataFrame object is immutable, hence need to assign when operated, as required**"
   ]
  },
  {
   "cell_type": "code",
   "execution_count": 49,
   "id": "0400b45a",
   "metadata": {},
   "outputs": [
    {
     "data": {
      "text/html": [
       "<div>\n",
       "<style scoped>\n",
       "    .dataframe tbody tr th:only-of-type {\n",
       "        vertical-align: middle;\n",
       "    }\n",
       "\n",
       "    .dataframe tbody tr th {\n",
       "        vertical-align: top;\n",
       "    }\n",
       "\n",
       "    .dataframe thead th {\n",
       "        text-align: right;\n",
       "    }\n",
       "</style>\n",
       "<table border=\"1\" class=\"dataframe\">\n",
       "  <thead>\n",
       "    <tr style=\"text-align: right;\">\n",
       "      <th></th>\n",
       "      <th>A</th>\n",
       "      <th>b</th>\n",
       "      <th>c</th>\n",
       "      <th>d</th>\n",
       "      <th>e</th>\n",
       "    </tr>\n",
       "  </thead>\n",
       "  <tbody>\n",
       "    <tr>\n",
       "      <th>0</th>\n",
       "      <td>0.250223</td>\n",
       "      <td>0.542466</td>\n",
       "      <td>0.096244</td>\n",
       "      <td>0.755513</td>\n",
       "      <td>0.743286</td>\n",
       "    </tr>\n",
       "    <tr>\n",
       "      <th>1</th>\n",
       "      <td>0.195730</td>\n",
       "      <td>0.750498</td>\n",
       "      <td>0.808275</td>\n",
       "      <td>0.233030</td>\n",
       "      <td>0.887167</td>\n",
       "    </tr>\n",
       "    <tr>\n",
       "      <th>2</th>\n",
       "      <td>0.629410</td>\n",
       "      <td>0.113555</td>\n",
       "      <td>0.912519</td>\n",
       "      <td>0.005507</td>\n",
       "      <td>0.184854</td>\n",
       "    </tr>\n",
       "    <tr>\n",
       "      <th>3</th>\n",
       "      <td>0.132205</td>\n",
       "      <td>0.330132</td>\n",
       "      <td>0.845909</td>\n",
       "      <td>0.904802</td>\n",
       "      <td>0.056963</td>\n",
       "    </tr>\n",
       "    <tr>\n",
       "      <th>4</th>\n",
       "      <td>0.817243</td>\n",
       "      <td>0.087630</td>\n",
       "      <td>0.828889</td>\n",
       "      <td>0.124962</td>\n",
       "      <td>0.092525</td>\n",
       "    </tr>\n",
       "    <tr>\n",
       "      <th>...</th>\n",
       "      <td>...</td>\n",
       "      <td>...</td>\n",
       "      <td>...</td>\n",
       "      <td>...</td>\n",
       "      <td>...</td>\n",
       "    </tr>\n",
       "    <tr>\n",
       "      <th>4995</th>\n",
       "      <td>0.617945</td>\n",
       "      <td>0.081107</td>\n",
       "      <td>0.312470</td>\n",
       "      <td>0.590721</td>\n",
       "      <td>0.570095</td>\n",
       "    </tr>\n",
       "    <tr>\n",
       "      <th>4996</th>\n",
       "      <td>0.324422</td>\n",
       "      <td>0.898911</td>\n",
       "      <td>0.414165</td>\n",
       "      <td>0.976039</td>\n",
       "      <td>0.756566</td>\n",
       "    </tr>\n",
       "    <tr>\n",
       "      <th>4997</th>\n",
       "      <td>0.079353</td>\n",
       "      <td>0.150034</td>\n",
       "      <td>0.344651</td>\n",
       "      <td>0.966917</td>\n",
       "      <td>0.993086</td>\n",
       "    </tr>\n",
       "    <tr>\n",
       "      <th>4998</th>\n",
       "      <td>0.621560</td>\n",
       "      <td>0.950581</td>\n",
       "      <td>0.767788</td>\n",
       "      <td>0.863710</td>\n",
       "      <td>0.665487</td>\n",
       "    </tr>\n",
       "    <tr>\n",
       "      <th>4999</th>\n",
       "      <td>0.304947</td>\n",
       "      <td>0.627881</td>\n",
       "      <td>0.914302</td>\n",
       "      <td>0.433591</td>\n",
       "      <td>0.941433</td>\n",
       "    </tr>\n",
       "  </tbody>\n",
       "</table>\n",
       "<p>5000 rows × 5 columns</p>\n",
       "</div>"
      ],
      "text/plain": [
       "             A         b         c         d         e\n",
       "0     0.250223  0.542466  0.096244  0.755513  0.743286\n",
       "1     0.195730  0.750498  0.808275  0.233030  0.887167\n",
       "2     0.629410  0.113555  0.912519  0.005507  0.184854\n",
       "3     0.132205  0.330132  0.845909  0.904802  0.056963\n",
       "4     0.817243  0.087630  0.828889  0.124962  0.092525\n",
       "...        ...       ...       ...       ...       ...\n",
       "4995  0.617945  0.081107  0.312470  0.590721  0.570095\n",
       "4996  0.324422  0.898911  0.414165  0.976039  0.756566\n",
       "4997  0.079353  0.150034  0.344651  0.966917  0.993086\n",
       "4998  0.621560  0.950581  0.767788  0.863710  0.665487\n",
       "4999  0.304947  0.627881  0.914302  0.433591  0.941433\n",
       "\n",
       "[5000 rows x 5 columns]"
      ]
     },
     "execution_count": 49,
     "metadata": {},
     "output_type": "execute_result"
    }
   ],
   "source": [
    "df.rename(columns={\"a\": \"A\"})"
   ]
  },
  {
   "cell_type": "markdown",
   "id": "97139599",
   "metadata": {},
   "source": [
    "**We can use inplace parameter to every df operation, to replace the df within the operation.\n",
    "<br>\n",
    "Caution: It doesn't return anything though**"
   ]
  },
  {
   "cell_type": "code",
   "execution_count": 51,
   "id": "75c9d9ab",
   "metadata": {},
   "outputs": [],
   "source": [
    "df2 = df.rename(columns={\"a\": \"A\"}, inplace=True)\n",
    "df2 # None is returned"
   ]
  },
  {
   "cell_type": "code",
   "execution_count": 52,
   "id": "472307d0",
   "metadata": {},
   "outputs": [
    {
     "data": {
      "text/plain": [
       "Index(['A', 'b', 'c', 'd', 'e'], dtype='object')"
      ]
     },
     "execution_count": 52,
     "metadata": {},
     "output_type": "execute_result"
    }
   ],
   "source": [
    "df.columns"
   ]
  },
  {
   "cell_type": "markdown",
   "id": "7efc9cd6",
   "metadata": {},
   "source": [
    "# Exercise\n",
    "Create a dataframe using\n",
    "\n",
    "- dictionary\n",
    "- numpy array\n",
    "- set column name to the dataframe\n",
    "- using csv file (data_studentlist.csv)(use header parameter)\n",
    "\n",
    "DataFrame Attribudes\n",
    "\n",
    "- shape, size, ndim, columns, index, type, info, describe, head, tail, sample\n",
    "- replace column of dataframe\n",
    "- index column of dataframe using . operator\n",
    "- index column of dataframe using [] operator"
   ]
  },
  {
   "cell_type": "markdown",
   "id": "7d59b0f1",
   "metadata": {},
   "source": [
    "## Using Dict"
   ]
  },
  {
   "cell_type": "code",
   "execution_count": 57,
   "id": "9700c3bf",
   "metadata": {},
   "outputs": [
    {
     "data": {
      "text/plain": [
       "{'caption': ['Handsome xu ni ma?', 'Hello, World!', 'Kr** ko **'],\n",
       " 'user_name': ['amrit', 'darpan', 'kripesh'],\n",
       " 'datetime': [datetime.datetime(2024, 6, 9, 15, 9, 29, 46725),\n",
       "  datetime.datetime(2024, 6, 9, 15, 9, 29, 46725),\n",
       "  datetime.datetime(2024, 6, 9, 15, 9, 29, 46725)]}"
      ]
     },
     "execution_count": 57,
     "metadata": {},
     "output_type": "execute_result"
    }
   ],
   "source": [
    "from datetime import datetime\n",
    "posts = {\n",
    "    \"caption\": [\"Handsome xu ni ma?\", \"Hello, World!\", \"Kr** ko **\"],\n",
    "    \"user_name\": [\"amrit\", \"darpan\", \"kripesh\"],\n",
    "    \"datetime\": [datetime.now(), datetime.now(), datetime.now()]\n",
    "}\n",
    "posts"
   ]
  },
  {
   "cell_type": "code",
   "execution_count": 58,
   "id": "c9dda1cc",
   "metadata": {},
   "outputs": [],
   "source": [
    "posts_df = pd.DataFrame(posts)"
   ]
  },
  {
   "cell_type": "code",
   "execution_count": 59,
   "id": "add4e46d",
   "metadata": {},
   "outputs": [
    {
     "data": {
      "text/html": [
       "<div>\n",
       "<style scoped>\n",
       "    .dataframe tbody tr th:only-of-type {\n",
       "        vertical-align: middle;\n",
       "    }\n",
       "\n",
       "    .dataframe tbody tr th {\n",
       "        vertical-align: top;\n",
       "    }\n",
       "\n",
       "    .dataframe thead th {\n",
       "        text-align: right;\n",
       "    }\n",
       "</style>\n",
       "<table border=\"1\" class=\"dataframe\">\n",
       "  <thead>\n",
       "    <tr style=\"text-align: right;\">\n",
       "      <th></th>\n",
       "      <th>caption</th>\n",
       "      <th>user_name</th>\n",
       "      <th>datetime</th>\n",
       "    </tr>\n",
       "  </thead>\n",
       "  <tbody>\n",
       "    <tr>\n",
       "      <th>0</th>\n",
       "      <td>Handsome xu ni ma?</td>\n",
       "      <td>amrit</td>\n",
       "      <td>2024-06-09 15:09:29.046725</td>\n",
       "    </tr>\n",
       "    <tr>\n",
       "      <th>1</th>\n",
       "      <td>Hello, World!</td>\n",
       "      <td>darpan</td>\n",
       "      <td>2024-06-09 15:09:29.046725</td>\n",
       "    </tr>\n",
       "    <tr>\n",
       "      <th>2</th>\n",
       "      <td>Kr** ko **</td>\n",
       "      <td>kripesh</td>\n",
       "      <td>2024-06-09 15:09:29.046725</td>\n",
       "    </tr>\n",
       "  </tbody>\n",
       "</table>\n",
       "</div>"
      ],
      "text/plain": [
       "              caption user_name                   datetime\n",
       "0  Handsome xu ni ma?     amrit 2024-06-09 15:09:29.046725\n",
       "1       Hello, World!    darpan 2024-06-09 15:09:29.046725\n",
       "2          Kr** ko **   kripesh 2024-06-09 15:09:29.046725"
      ]
     },
     "execution_count": 59,
     "metadata": {},
     "output_type": "execute_result"
    }
   ],
   "source": [
    "posts_df"
   ]
  },
  {
   "cell_type": "markdown",
   "id": "956622d4",
   "metadata": {},
   "source": [
    "## Using NumPy Array"
   ]
  },
  {
   "cell_type": "code",
   "execution_count": 64,
   "id": "45c1d396",
   "metadata": {},
   "outputs": [],
   "source": [
    "posts = np.array(\n",
    "    [\n",
    "        [\"Handsome xu ni ma?\", \"amrit\", datetime.now()],\n",
    "        [\"Hello, World!\", \"darpan\", datetime.now()],\n",
    "        [\"Kr** ko **\", \"kripesh\", datetime.now()]\n",
    "    ]\n",
    ")"
   ]
  },
  {
   "cell_type": "code",
   "execution_count": 65,
   "id": "8c063504",
   "metadata": {},
   "outputs": [
    {
     "data": {
      "text/plain": [
       "array([['Handsome xu ni ma?', 'amrit',\n",
       "        datetime.datetime(2024, 6, 9, 15, 15, 11, 208895)],\n",
       "       ['Hello, World!', 'darpan',\n",
       "        datetime.datetime(2024, 6, 9, 15, 15, 11, 208895)],\n",
       "       ['Kr** ko **', 'kripesh',\n",
       "        datetime.datetime(2024, 6, 9, 15, 15, 11, 208895)]], dtype=object)"
      ]
     },
     "execution_count": 65,
     "metadata": {},
     "output_type": "execute_result"
    }
   ],
   "source": [
    "posts"
   ]
  },
  {
   "cell_type": "code",
   "execution_count": 71,
   "id": "b35c9c4d",
   "metadata": {},
   "outputs": [
    {
     "data": {
      "text/html": [
       "<div>\n",
       "<style scoped>\n",
       "    .dataframe tbody tr th:only-of-type {\n",
       "        vertical-align: middle;\n",
       "    }\n",
       "\n",
       "    .dataframe tbody tr th {\n",
       "        vertical-align: top;\n",
       "    }\n",
       "\n",
       "    .dataframe thead th {\n",
       "        text-align: right;\n",
       "    }\n",
       "</style>\n",
       "<table border=\"1\" class=\"dataframe\">\n",
       "  <thead>\n",
       "    <tr style=\"text-align: right;\">\n",
       "      <th></th>\n",
       "      <th>0</th>\n",
       "      <th>1</th>\n",
       "      <th>2</th>\n",
       "    </tr>\n",
       "  </thead>\n",
       "  <tbody>\n",
       "    <tr>\n",
       "      <th>0</th>\n",
       "      <td>Handsome xu ni ma?</td>\n",
       "      <td>amrit</td>\n",
       "      <td>2024-06-09 15:15:11.208895</td>\n",
       "    </tr>\n",
       "    <tr>\n",
       "      <th>1</th>\n",
       "      <td>Hello, World!</td>\n",
       "      <td>darpan</td>\n",
       "      <td>2024-06-09 15:15:11.208895</td>\n",
       "    </tr>\n",
       "    <tr>\n",
       "      <th>2</th>\n",
       "      <td>Kr** ko **</td>\n",
       "      <td>kripesh</td>\n",
       "      <td>2024-06-09 15:15:11.208895</td>\n",
       "    </tr>\n",
       "  </tbody>\n",
       "</table>\n",
       "</div>"
      ],
      "text/plain": [
       "                    0        1                          2\n",
       "0  Handsome xu ni ma?    amrit 2024-06-09 15:15:11.208895\n",
       "1       Hello, World!   darpan 2024-06-09 15:15:11.208895\n",
       "2          Kr** ko **  kripesh 2024-06-09 15:15:11.208895"
      ]
     },
     "execution_count": 71,
     "metadata": {},
     "output_type": "execute_result"
    }
   ],
   "source": [
    "df = pd.DataFrame(posts)\n",
    "df"
   ]
  },
  {
   "cell_type": "code",
   "execution_count": 75,
   "id": "ea734a90",
   "metadata": {},
   "outputs": [
    {
     "data": {
      "text/html": [
       "<div>\n",
       "<style scoped>\n",
       "    .dataframe tbody tr th:only-of-type {\n",
       "        vertical-align: middle;\n",
       "    }\n",
       "\n",
       "    .dataframe tbody tr th {\n",
       "        vertical-align: top;\n",
       "    }\n",
       "\n",
       "    .dataframe thead th {\n",
       "        text-align: right;\n",
       "    }\n",
       "</style>\n",
       "<table border=\"1\" class=\"dataframe\">\n",
       "  <thead>\n",
       "    <tr style=\"text-align: right;\">\n",
       "      <th></th>\n",
       "      <th>caption</th>\n",
       "      <th>user_name</th>\n",
       "      <th>datetime</th>\n",
       "    </tr>\n",
       "  </thead>\n",
       "  <tbody>\n",
       "    <tr>\n",
       "      <th>0</th>\n",
       "      <td>Handsome xu ni ma?</td>\n",
       "      <td>amrit</td>\n",
       "      <td>2024-06-09 15:15:11.208895</td>\n",
       "    </tr>\n",
       "    <tr>\n",
       "      <th>1</th>\n",
       "      <td>Hello, World!</td>\n",
       "      <td>darpan</td>\n",
       "      <td>2024-06-09 15:15:11.208895</td>\n",
       "    </tr>\n",
       "    <tr>\n",
       "      <th>2</th>\n",
       "      <td>Kr** ko **</td>\n",
       "      <td>kripesh</td>\n",
       "      <td>2024-06-09 15:15:11.208895</td>\n",
       "    </tr>\n",
       "  </tbody>\n",
       "</table>\n",
       "</div>"
      ],
      "text/plain": [
       "              caption user_name                   datetime\n",
       "0  Handsome xu ni ma?     amrit 2024-06-09 15:15:11.208895\n",
       "1       Hello, World!    darpan 2024-06-09 15:15:11.208895\n",
       "2          Kr** ko **   kripesh 2024-06-09 15:15:11.208895"
      ]
     },
     "execution_count": 75,
     "metadata": {},
     "output_type": "execute_result"
    }
   ],
   "source": [
    "df = pd.DataFrame(posts, columns=[\"caption\", \"user_name\", \"datetime\"])\n",
    "df"
   ]
  },
  {
   "cell_type": "code",
   "execution_count": 76,
   "id": "055adbb5",
   "metadata": {},
   "outputs": [
    {
     "data": {
      "text/html": [
       "<div>\n",
       "<style scoped>\n",
       "    .dataframe tbody tr th:only-of-type {\n",
       "        vertical-align: middle;\n",
       "    }\n",
       "\n",
       "    .dataframe tbody tr th {\n",
       "        vertical-align: top;\n",
       "    }\n",
       "\n",
       "    .dataframe thead th {\n",
       "        text-align: right;\n",
       "    }\n",
       "</style>\n",
       "<table border=\"1\" class=\"dataframe\">\n",
       "  <thead>\n",
       "    <tr style=\"text-align: right;\">\n",
       "      <th></th>\n",
       "      <th>caption</th>\n",
       "      <th>first_name</th>\n",
       "      <th>datetime</th>\n",
       "    </tr>\n",
       "  </thead>\n",
       "  <tbody>\n",
       "    <tr>\n",
       "      <th>0</th>\n",
       "      <td>Handsome xu ni ma?</td>\n",
       "      <td>amrit</td>\n",
       "      <td>2024-06-09 15:15:11.208895</td>\n",
       "    </tr>\n",
       "    <tr>\n",
       "      <th>1</th>\n",
       "      <td>Hello, World!</td>\n",
       "      <td>darpan</td>\n",
       "      <td>2024-06-09 15:15:11.208895</td>\n",
       "    </tr>\n",
       "    <tr>\n",
       "      <th>2</th>\n",
       "      <td>Kr** ko **</td>\n",
       "      <td>kripesh</td>\n",
       "      <td>2024-06-09 15:15:11.208895</td>\n",
       "    </tr>\n",
       "  </tbody>\n",
       "</table>\n",
       "</div>"
      ],
      "text/plain": [
       "              caption first_name                   datetime\n",
       "0  Handsome xu ni ma?      amrit 2024-06-09 15:15:11.208895\n",
       "1       Hello, World!     darpan 2024-06-09 15:15:11.208895\n",
       "2          Kr** ko **    kripesh 2024-06-09 15:15:11.208895"
      ]
     },
     "execution_count": 76,
     "metadata": {},
     "output_type": "execute_result"
    }
   ],
   "source": [
    "df.rename(columns={\"user_name\": \"first_name\"})"
   ]
  },
  {
   "cell_type": "markdown",
   "id": "4db6ec7d",
   "metadata": {},
   "source": [
    "## Read from .csv file"
   ]
  },
  {
   "cell_type": "code",
   "execution_count": 78,
   "id": "02d6935c",
   "metadata": {},
   "outputs": [
    {
     "data": {
      "text/html": [
       "<div>\n",
       "<style scoped>\n",
       "    .dataframe tbody tr th:only-of-type {\n",
       "        vertical-align: middle;\n",
       "    }\n",
       "\n",
       "    .dataframe tbody tr th {\n",
       "        vertical-align: top;\n",
       "    }\n",
       "\n",
       "    .dataframe thead th {\n",
       "        text-align: right;\n",
       "    }\n",
       "</style>\n",
       "<table border=\"1\" class=\"dataframe\">\n",
       "  <thead>\n",
       "    <tr style=\"text-align: right;\">\n",
       "      <th></th>\n",
       "      <th>Student_ID</th>\n",
       "      <th>CGPA</th>\n",
       "      <th>IQ</th>\n",
       "      <th>Placement</th>\n",
       "    </tr>\n",
       "  </thead>\n",
       "  <tbody>\n",
       "    <tr>\n",
       "      <th>0</th>\n",
       "      <td>1</td>\n",
       "      <td>6.8</td>\n",
       "      <td>123</td>\n",
       "      <td>1</td>\n",
       "    </tr>\n",
       "    <tr>\n",
       "      <th>1</th>\n",
       "      <td>2</td>\n",
       "      <td>5.9</td>\n",
       "      <td>106</td>\n",
       "      <td>0</td>\n",
       "    </tr>\n",
       "    <tr>\n",
       "      <th>2</th>\n",
       "      <td>3</td>\n",
       "      <td>5.3</td>\n",
       "      <td>121</td>\n",
       "      <td>0</td>\n",
       "    </tr>\n",
       "    <tr>\n",
       "      <th>3</th>\n",
       "      <td>4</td>\n",
       "      <td>7.4</td>\n",
       "      <td>132</td>\n",
       "      <td>1</td>\n",
       "    </tr>\n",
       "    <tr>\n",
       "      <th>4</th>\n",
       "      <td>5</td>\n",
       "      <td>5.8</td>\n",
       "      <td>142</td>\n",
       "      <td>0</td>\n",
       "    </tr>\n",
       "    <tr>\n",
       "      <th>...</th>\n",
       "      <td>...</td>\n",
       "      <td>...</td>\n",
       "      <td>...</td>\n",
       "      <td>...</td>\n",
       "    </tr>\n",
       "    <tr>\n",
       "      <th>95</th>\n",
       "      <td>96</td>\n",
       "      <td>4.3</td>\n",
       "      <td>200</td>\n",
       "      <td>0</td>\n",
       "    </tr>\n",
       "    <tr>\n",
       "      <th>96</th>\n",
       "      <td>97</td>\n",
       "      <td>4.4</td>\n",
       "      <td>42</td>\n",
       "      <td>0</td>\n",
       "    </tr>\n",
       "    <tr>\n",
       "      <th>97</th>\n",
       "      <td>98</td>\n",
       "      <td>6.7</td>\n",
       "      <td>182</td>\n",
       "      <td>1</td>\n",
       "    </tr>\n",
       "    <tr>\n",
       "      <th>98</th>\n",
       "      <td>99</td>\n",
       "      <td>6.3</td>\n",
       "      <td>103</td>\n",
       "      <td>1</td>\n",
       "    </tr>\n",
       "    <tr>\n",
       "      <th>99</th>\n",
       "      <td>100</td>\n",
       "      <td>6.2</td>\n",
       "      <td>113</td>\n",
       "      <td>1</td>\n",
       "    </tr>\n",
       "  </tbody>\n",
       "</table>\n",
       "<p>100 rows × 4 columns</p>\n",
       "</div>"
      ],
      "text/plain": [
       "    Student_ID  CGPA   IQ  Placement\n",
       "0            1   6.8  123          1\n",
       "1            2   5.9  106          0\n",
       "2            3   5.3  121          0\n",
       "3            4   7.4  132          1\n",
       "4            5   5.8  142          0\n",
       "..         ...   ...  ...        ...\n",
       "95          96   4.3  200          0\n",
       "96          97   4.4   42          0\n",
       "97          98   6.7  182          1\n",
       "98          99   6.3  103          1\n",
       "99         100   6.2  113          1\n",
       "\n",
       "[100 rows x 4 columns]"
      ]
     },
     "execution_count": 78,
     "metadata": {},
     "output_type": "execute_result"
    }
   ],
   "source": [
    "pd.read_csv(\"../csv-files/std-iq.csv\")"
   ]
  },
  {
   "cell_type": "markdown",
   "id": "7fe17cfd",
   "metadata": {},
   "source": [
    "## Others"
   ]
  },
  {
   "cell_type": "markdown",
   "id": "66e9a511",
   "metadata": {},
   "source": [
    "### loc and iloc for filtering"
   ]
  },
  {
   "cell_type": "code",
   "execution_count": 85,
   "id": "2ae90340",
   "metadata": {},
   "outputs": [
    {
     "data": {
      "text/plain": [
       "0      amrit\n",
       "1     darpan\n",
       "2    kripesh\n",
       "Name: user_name, dtype: object"
      ]
     },
     "execution_count": 85,
     "metadata": {},
     "output_type": "execute_result"
    }
   ],
   "source": [
    "df.loc[:, \"user_name\"]"
   ]
  },
  {
   "cell_type": "markdown",
   "id": "1b45d730",
   "metadata": {},
   "source": [
    "#### loc{row, column} slicing"
   ]
  },
  {
   "cell_type": "markdown",
   "id": "6c7fe15a",
   "metadata": {},
   "source": [
    "#### iloc is same, but column ko value chai int ma dinu paro"
   ]
  },
  {
   "cell_type": "markdown",
   "id": "f933fe25",
   "metadata": {},
   "source": [
    "**loc le chai int lai ni label ko roop ma treat garo, bhane iloc le chai int lai index ko roop ma treat garo**"
   ]
  },
  {
   "cell_type": "code",
   "execution_count": null,
   "id": "914299a9",
   "metadata": {},
   "outputs": [],
   "source": []
  }
 ],
 "metadata": {
  "kernelspec": {
   "display_name": "Python 3 (ipykernel)",
   "language": "python",
   "name": "python3"
  },
  "language_info": {
   "codemirror_mode": {
    "name": "ipython",
    "version": 3
   },
   "file_extension": ".py",
   "mimetype": "text/x-python",
   "name": "python",
   "nbconvert_exporter": "python",
   "pygments_lexer": "ipython3",
   "version": "3.9.5"
  }
 },
 "nbformat": 4,
 "nbformat_minor": 5
}
