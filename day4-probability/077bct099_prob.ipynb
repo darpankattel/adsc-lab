{
 "cells": [
  {
   "cell_type": "markdown",
   "id": "0ebf48db-9b98-4fb6-8785-1ecad0f9258e",
   "metadata": {},
   "source": [
    "### Topics to be discussed.\n",
    "- Mean, Median, Mode and their relationship ==> Skewed Right, symmetric, Skewed Left\n",
    "- Range, verience, standard deviation\n",
    "- Normal distribution and standard deviation (1 standard deviation of the mean- 68%, 2 standard deviation 95%, 3 standard deviation 99.7%...)\n",
    "- Z-score (standard deviation 1, mean = 0, z-score= number of sd)\n",
    "- Inter quatile range.\n",
    "- Statistical testing (t-test, one way, two way)\n",
    "- Correlation\n",
    "- Hypotheis testing"
   ]
  },
  {
   "cell_type": "markdown",
   "id": "3b5f0c9c",
   "metadata": {},
   "source": [
    "<p style=\"float:right;\">\n",
    "<span>By- Darpan Kattel <a href=\"https://darpankattel.com.np/\" target=\"_blank\">(Website)</a></span>\n",
    "<br />\n",
    "    <span>PUL077BCT<b>099</b></span>\n",
    "</p>"
   ]
  },
  {
   "cell_type": "markdown",
   "id": "fa5ea51e-77e6-4b23-9c7b-4bd33ddfb51b",
   "metadata": {},
   "source": [
    "### Problem 1: Mean, Median, Mode\n",
    "A retail company wants to analyze the sales data of its top-selling product over the past year to gain insights into customer purchasing behavior. The company has collected daily sales data for this product and wants to understand the central tendency of sales figures. By calculating the mean, median, and mode of the sales data, the company aims to identify patterns, understand typical sales volumes, and detect any skewness or anomalies in the sales distribution. Generate the daily sales data for a year by yourself. Analyze the result.\n",
    "- use daily_sales.csv"
   ]
  },
  {
   "cell_type": "code",
   "execution_count": 2,
   "id": "11a7e76d-5a27-4863-bf4e-4d1846d20fb3",
   "metadata": {},
   "outputs": [],
   "source": [
    "import pandas as pd\n",
    "import numpy as np"
   ]
  },
  {
   "cell_type": "code",
   "execution_count": 3,
   "id": "405f4673-51a5-4575-9f5f-2026e5c0c792",
   "metadata": {},
   "outputs": [],
   "source": [
    "df = pd.read_csv(\"../csv-files/daily_sales.csv\")"
   ]
  },
  {
   "cell_type": "code",
   "execution_count": 4,
   "id": "bb4eebfa",
   "metadata": {},
   "outputs": [
    {
     "data": {
      "text/html": [
       "<div>\n",
       "<style scoped>\n",
       "    .dataframe tbody tr th:only-of-type {\n",
       "        vertical-align: middle;\n",
       "    }\n",
       "\n",
       "    .dataframe tbody tr th {\n",
       "        vertical-align: top;\n",
       "    }\n",
       "\n",
       "    .dataframe thead th {\n",
       "        text-align: right;\n",
       "    }\n",
       "</style>\n",
       "<table border=\"1\" class=\"dataframe\">\n",
       "  <thead>\n",
       "    <tr style=\"text-align: right;\">\n",
       "      <th></th>\n",
       "      <th>Daily Sales</th>\n",
       "    </tr>\n",
       "  </thead>\n",
       "  <tbody>\n",
       "    <tr>\n",
       "      <th>0</th>\n",
       "      <td>23</td>\n",
       "    </tr>\n",
       "    <tr>\n",
       "      <th>1</th>\n",
       "      <td>15</td>\n",
       "    </tr>\n",
       "    <tr>\n",
       "      <th>2</th>\n",
       "      <td>21</td>\n",
       "    </tr>\n",
       "    <tr>\n",
       "      <th>3</th>\n",
       "      <td>25</td>\n",
       "    </tr>\n",
       "    <tr>\n",
       "      <th>4</th>\n",
       "      <td>15</td>\n",
       "    </tr>\n",
       "  </tbody>\n",
       "</table>\n",
       "</div>"
      ],
      "text/plain": [
       "   Daily Sales\n",
       "0           23\n",
       "1           15\n",
       "2           21\n",
       "3           25\n",
       "4           15"
      ]
     },
     "execution_count": 4,
     "metadata": {},
     "output_type": "execute_result"
    }
   ],
   "source": [
    "df.head()"
   ]
  },
  {
   "cell_type": "code",
   "execution_count": 5,
   "id": "8b36a66e",
   "metadata": {},
   "outputs": [
    {
     "data": {
      "text/plain": [
       "(365, 1)"
      ]
     },
     "execution_count": 5,
     "metadata": {},
     "output_type": "execute_result"
    }
   ],
   "source": [
    "df.shape"
   ]
  },
  {
   "cell_type": "code",
   "execution_count": 6,
   "id": "434a6b40",
   "metadata": {},
   "outputs": [
    {
     "name": "stdout",
     "output_type": "stream",
     "text": [
      "0      23\n",
      "1      15\n",
      "2      21\n",
      "3      25\n",
      "4      15\n",
      "       ..\n",
      "360    15\n",
      "361    14\n",
      "362    17\n",
      "363    22\n",
      "364    16\n",
      "Name: Daily Sales, Length: 365, dtype: int64\n"
     ]
    }
   ],
   "source": [
    "print(sales := df[\"Daily Sales\"])"
   ]
  },
  {
   "cell_type": "code",
   "execution_count": 7,
   "id": "07b9a48e",
   "metadata": {},
   "outputs": [
    {
     "name": "stdout",
     "output_type": "stream",
     "text": [
      "19.695890410958903\n"
     ]
    }
   ],
   "source": [
    "print(mean := sales.mean())"
   ]
  },
  {
   "cell_type": "markdown",
   "id": "78948689",
   "metadata": {},
   "source": [
    "Hence, on average for a year, the daily sales is computed to be 19.69."
   ]
  },
  {
   "cell_type": "code",
   "execution_count": 8,
   "id": "e21b26e2",
   "metadata": {},
   "outputs": [
    {
     "name": "stdout",
     "output_type": "stream",
     "text": [
      "0    22\n",
      "Name: Daily Sales, dtype: int64\n"
     ]
    }
   ],
   "source": [
    "print(mode := sales.mode())"
   ]
  },
  {
   "cell_type": "markdown",
   "id": "4078a507",
   "metadata": {},
   "source": [
    "Hence, frequently 22 numbers of daily sales were recorded in that year."
   ]
  },
  {
   "cell_type": "code",
   "execution_count": 9,
   "id": "839bbd12",
   "metadata": {},
   "outputs": [
    {
     "name": "stdout",
     "output_type": "stream",
     "text": [
      "20.0\n"
     ]
    }
   ],
   "source": [
    "print(median := sales.median())"
   ]
  },
  {
   "cell_type": "markdown",
   "id": "ab13f3b1",
   "metadata": {},
   "source": [
    "Hence, 20 numbers of daily sales were recorded centrally."
   ]
  },
  {
   "cell_type": "markdown",
   "id": "c38aa3f4",
   "metadata": {},
   "source": [
    "**Conclusion: SInce the measures are quite closer to themselves, this is like a normal distribution**\n",
    "\n",
    "We can also see that the three measures are quite closer to each other, suggesting there is no much skewnes, as per the three measures."
   ]
  },
  {
   "cell_type": "markdown",
   "id": "235b12ce-6db8-4711-bbb3-ffe3c5794357",
   "metadata": {},
   "source": [
    "### Problem 2: Data distribution and plots\n",
    "You are tasked with analyzing the average monthly sales data of a retail store chain over the past year to determine if there has been a significant change in sales compared to the previous year. This analysis will help the store management understand the performance trends and plan future strategies accordingly. Load sales_data.csv.\n",
    "- find mean sales\n",
    "- find median sales\n",
    "- find mode sales\n",
    "- find skewness\n",
    "- plot histogram\n",
    "- density plot"
   ]
  },
  {
   "cell_type": "code",
   "execution_count": 12,
   "id": "7bebeb25-26f2-4a70-a04f-c9554f92c5ab",
   "metadata": {},
   "outputs": [],
   "source": [
    "df = pd.read_csv(\"../csv-files/sales_data.csv\")"
   ]
  },
  {
   "cell_type": "code",
   "execution_count": 13,
   "id": "917fc447",
   "metadata": {},
   "outputs": [
    {
     "data": {
      "text/plain": [
       "(12, 2)"
      ]
     },
     "execution_count": 13,
     "metadata": {},
     "output_type": "execute_result"
    }
   ],
   "source": [
    "df.shape"
   ]
  },
  {
   "cell_type": "code",
   "execution_count": 14,
   "id": "b91b767b-d66c-4a2c-8651-e22ad1d68733",
   "metadata": {},
   "outputs": [
    {
     "data": {
      "text/html": [
       "<div>\n",
       "<style scoped>\n",
       "    .dataframe tbody tr th:only-of-type {\n",
       "        vertical-align: middle;\n",
       "    }\n",
       "\n",
       "    .dataframe tbody tr th {\n",
       "        vertical-align: top;\n",
       "    }\n",
       "\n",
       "    .dataframe thead th {\n",
       "        text-align: right;\n",
       "    }\n",
       "</style>\n",
       "<table border=\"1\" class=\"dataframe\">\n",
       "  <thead>\n",
       "    <tr style=\"text-align: right;\">\n",
       "      <th></th>\n",
       "      <th>Month</th>\n",
       "      <th>Sales</th>\n",
       "    </tr>\n",
       "  </thead>\n",
       "  <tbody>\n",
       "    <tr>\n",
       "      <th>8</th>\n",
       "      <td>2023-09-30</td>\n",
       "      <td>9690.343445</td>\n",
       "    </tr>\n",
       "    <tr>\n",
       "      <th>1</th>\n",
       "      <td>2023-02-28</td>\n",
       "      <td>11200.471625</td>\n",
       "    </tr>\n",
       "    <tr>\n",
       "      <th>2</th>\n",
       "      <td>2023-03-31</td>\n",
       "      <td>12936.213952</td>\n",
       "    </tr>\n",
       "    <tr>\n",
       "      <th>5</th>\n",
       "      <td>2023-06-30</td>\n",
       "      <td>7068.166360</td>\n",
       "    </tr>\n",
       "    <tr>\n",
       "      <th>3</th>\n",
       "      <td>2023-04-30</td>\n",
       "      <td>16722.679598</td>\n",
       "    </tr>\n",
       "  </tbody>\n",
       "</table>\n",
       "</div>"
      ],
      "text/plain": [
       "        Month         Sales\n",
       "8  2023-09-30   9690.343445\n",
       "1  2023-02-28  11200.471625\n",
       "2  2023-03-31  12936.213952\n",
       "5  2023-06-30   7068.166360\n",
       "3  2023-04-30  16722.679598"
      ]
     },
     "execution_count": 14,
     "metadata": {},
     "output_type": "execute_result"
    }
   ],
   "source": [
    "df.sample(5)"
   ]
  },
  {
   "cell_type": "code",
   "execution_count": 15,
   "id": "a6238652",
   "metadata": {},
   "outputs": [
    {
     "data": {
      "text/plain": [
       "12244.63719635305"
      ]
     },
     "execution_count": 15,
     "metadata": {},
     "output_type": "execute_result"
    }
   ],
   "source": [
    "df[\"Sales\"].mean()"
   ]
  },
  {
   "cell_type": "code",
   "execution_count": 16,
   "id": "f30d242b",
   "metadata": {},
   "outputs": [
    {
     "data": {
      "text/plain": [
       "12041.030379195941"
      ]
     },
     "execution_count": 16,
     "metadata": {},
     "output_type": "execute_result"
    }
   ],
   "source": [
    "df[\"Sales\"].median()"
   ]
  },
  {
   "cell_type": "code",
   "execution_count": 19,
   "id": "ee5788df",
   "metadata": {},
   "outputs": [
    {
     "data": {
      "text/plain": [
       "0      7068\n",
       "1      9545\n",
       "2      9690\n",
       "3     10432\n",
       "4     11200\n",
       "5     11231\n",
       "6     12850\n",
       "7     12936\n",
       "8     14362\n",
       "9     15292\n",
       "10    15602\n",
       "11    16722\n",
       "Name: Sales, dtype: int32"
      ]
     },
     "execution_count": 19,
     "metadata": {},
     "output_type": "execute_result"
    }
   ],
   "source": [
    "df[\"Sales\"].astype(int).mode()"
   ]
  },
  {
   "cell_type": "code",
   "execution_count": 28,
   "id": "96e8b6a5",
   "metadata": {},
   "outputs": [],
   "source": [
    "import matplotlib.pyplot as plt\n",
    "import seaborn as sns"
   ]
  },
  {
   "cell_type": "code",
   "execution_count": 35,
   "id": "3e32c11c",
   "metadata": {},
   "outputs": [
    {
     "data": {
      "image/png": "[encoded data removed]",
      "text/plain": [
       "<Figure size 640x480 with 1 Axes>"
      ]
     },
     "metadata": {},
     "output_type": "display_data"
    }
   ],
   "source": [
    "sns.histplot(df[\"Sales\"], label=\"Sales\", bins=20, kde=True)\n",
    "plt.title(\"Daily Sales Histogram\")\n",
    "plt.legend()\n",
    "plt.show()"
   ]
  },
  {
   "cell_type": "code",
   "execution_count": 36,
   "id": "17a056c2",
   "metadata": {},
   "outputs": [
    {
     "data": {
      "text/plain": [
       "Sales   -0.077344\n",
       "dtype: float64"
      ]
     },
     "execution_count": 36,
     "metadata": {},
     "output_type": "execute_result"
    }
   ],
   "source": [
    "df.skew(numeric_only=True)"
   ]
  },
  {
   "cell_type": "markdown",
   "id": "7c34346c",
   "metadata": {},
   "source": [
    "Skewness measures the asymmetry of the distribution of data values.\n",
    "\n",
    "#### Positive Skewness (Right Skewed):\n",
    "Indicates that the tail on the right side is longer or fatter than the left side. The mean is greater than the median.\n",
    "#### Negative Skewness (Left Skewed):\n",
    "Indicates that the tail on the left side is longer or fatter than the right side. The mean is less than the median.\n",
    "#### Zero Skewness:\n",
    "Indicates a symmetric distribution where the mean and median are approximately equal.\n",
    "\n",
    "#### Output Interpretation:\n",
    "The skewness of -0.077344 for Sales is close to zero.\n",
    "\n",
    "\n",
    "#### Conclusion: The distribution of Daily Sales is nearly symmetric, meaning the data is fairly evenly distributed around the mean with no significant skewness."
   ]
  },
  {
   "cell_type": "code",
   "execution_count": 38,
   "id": "a797b535",
   "metadata": {},
   "outputs": [
    {
     "data": {
      "text/plain": [
       "<Axes: xlabel='Sales', ylabel='Density'>"
      ]
     },
     "execution_count": 38,
     "metadata": {},
     "output_type": "execute_result"
    },
    {
     "data": {
      "image/png": "[encoded data removed]",
      "text/plain": [
       "<Figure size 640x480 with 1 Axes>"
      ]
     },
     "metadata": {},
     "output_type": "display_data"
    }
   ],
   "source": [
    "sns.kdeplot(df[\"Sales\"])"
   ]
  },
  {
   "cell_type": "markdown",
   "id": "ae1d4bf5",
   "metadata": {},
   "source": [
    "**Conclusion:** Here, we can observe that the sales between range 10,000-12,500 is much more frequent or dense."
   ]
  },
  {
   "cell_type": "markdown",
   "id": "e8ac4216-ce5a-4f85-9a8d-37dcb6302e3d",
   "metadata": {},
   "source": [
    "### Problem 3: Outlier detection\n",
    "A university wants to analyze the exam scores of a statistics class to identify any students whose scores are significantly different from the rest. Detecting outliers will help the university provide additional support to struggling students or recognize exceptionally high performers. The university decides to use both the Z-score and the Interquartile Range (IQR) methods to identify these outliers in the exam scores dataset. \n",
    "- Generate the subject score for full mark 100 for 50 students.\n",
    "\n",
    "Hints:\n",
    "- Z-score is greater than 3.\n",
    "- below - Q1−1.5×IQR or above Q3+1.5×IQR"
   ]
  },
  {
   "cell_type": "code",
   "execution_count": 41,
   "id": "6e0a737c-3786-4b62-a432-ac3625c663fc",
   "metadata": {},
   "outputs": [],
   "source": [
    "# df = pd.DataFrame(\n",
    "#     np.random.randint(0, 100, size=50),\n",
    "#     axis=0,\n",
    "#     columns=[\"marks\"])\n",
    "# df\n",
    "\n",
    "df = pd.DataFrame([1, 99, 98, 100, 97, 99, 98, 97, 95], columns=[\"marks\"], dtype=int)"
   ]
  },
  {
   "cell_type": "code",
   "execution_count": 42,
   "id": "6e7fd3f2-34b5-4635-8e90-994e180e9017",
   "metadata": {},
   "outputs": [
    {
     "name": "stdout",
     "output_type": "stream",
     "text": [
      "      marks\n",
      "0 -2.825571\n",
      "1  0.390111\n",
      "2  0.357298\n",
      "3  0.422924\n",
      "4  0.324485\n",
      "5  0.390111\n",
      "6  0.357298\n",
      "7  0.324485\n",
      "8  0.258859\n"
     ]
    }
   ],
   "source": [
    "print(z_scores := (df - df.mean()) / df.std(ddof=0))"
   ]
  },
  {
   "cell_type": "code",
   "execution_count": 43,
   "id": "2cfc3182",
   "metadata": {},
   "outputs": [],
   "source": [
    "for z in z_scores[\"marks\"]:\n",
    "    if abs(z) > 3:\n",
    "        print(z)"
   ]
  },
  {
   "cell_type": "markdown",
   "id": "f4fe34d0",
   "metadata": {},
   "source": [
    "In the above list, as per the above code, there are no students who are significantly different from the others. Maybe, we could differ them by compairing their z-scores against 2, instead of 3."
   ]
  },
  {
   "cell_type": "markdown",
   "id": "b27c6fa7",
   "metadata": {},
   "source": [
    "### IQR method"
   ]
  },
  {
   "cell_type": "code",
   "execution_count": 47,
   "id": "9338e636",
   "metadata": {},
   "outputs": [
    {
     "data": {
      "text/plain": [
       "(97, 99)"
      ]
     },
     "execution_count": 47,
     "metadata": {},
     "output_type": "execute_result"
    }
   ],
   "source": [
    "qs = df.quantile(q=[0.25, 0.75])\n",
    "q1, q3 = qs[\"marks\"].astype(int).to_list()\n",
    "q1, q3"
   ]
  },
  {
   "cell_type": "code",
   "execution_count": 48,
   "id": "2ec475ea",
   "metadata": {},
   "outputs": [],
   "source": [
    "iqr = (q3-q1)"
   ]
  },
  {
   "cell_type": "code",
   "execution_count": 49,
   "id": "2adedb7f",
   "metadata": {},
   "outputs": [
    {
     "data": {
      "text/plain": [
       "(94.0, 102.0)"
      ]
     },
     "execution_count": 49,
     "metadata": {},
     "output_type": "execute_result"
    }
   ],
   "source": [
    "lb = q1-1.5*iqr\n",
    "rb = q3+1.5*iqr\n",
    "lb, rb"
   ]
  },
  {
   "cell_type": "code",
   "execution_count": 105,
   "id": "8a6630a3",
   "metadata": {},
   "outputs": [
    {
     "name": "stdout",
     "output_type": "stream",
     "text": [
      "1\n"
     ]
    }
   ],
   "source": [
    "for mark in df[\"marks\"]:\n",
    "    if mark < lb:\n",
    "        print(mark)\n",
    "    elif mark > rb:\n",
    "        print(mark)"
   ]
  },
  {
   "cell_type": "code",
   "execution_count": 57,
   "id": "00317926",
   "metadata": {},
   "outputs": [
    {
     "data": {
      "text/plain": [
       "0    1.0\n",
       "1    NaN\n",
       "2    NaN\n",
       "3    NaN\n",
       "4    NaN\n",
       "5    NaN\n",
       "6    NaN\n",
       "7    NaN\n",
       "8    NaN\n",
       "Name: marks, dtype: float64"
      ]
     },
     "execution_count": 57,
     "metadata": {},
     "output_type": "execute_result"
    }
   ],
   "source": [
    "df[\"marks\"].apply(lambda mark: mark if (mark < lb) or (mark > rb) else None)"
   ]
  },
  {
   "cell_type": "code",
   "execution_count": 61,
   "id": "b0bcf51d",
   "metadata": {},
   "outputs": [
    {
     "data": {
      "text/plain": [
       "0    1.0\n",
       "Name: marks, dtype: float64"
      ]
     },
     "execution_count": 61,
     "metadata": {},
     "output_type": "execute_result"
    }
   ],
   "source": [
    "outlied_stds = df[\"marks\"].apply(lambda mark: mark if (mark < lb) or (mark > rb) else None).dropna()\n",
    "outlied_stds"
   ]
  },
  {
   "cell_type": "code",
   "execution_count": null,
   "id": "4f4b404a",
   "metadata": {},
   "outputs": [],
   "source": [
    "Hence, the student with mark 1 is an outlier."
   ]
  },
  {
   "cell_type": "code",
   "execution_count": 62,
   "id": "a06c0803",
   "metadata": {},
   "outputs": [
    {
     "data": {
      "text/plain": [
       "(10, None)"
      ]
     },
     "execution_count": 62,
     "metadata": {},
     "output_type": "execute_result"
    }
   ],
   "source": [
    "# For syntax testing\n",
    "mf = lambda mark: mark if (mark < lb) or (mark > rb) else None\n",
    "mf(10), mf(98)"
   ]
  },
  {
   "cell_type": "markdown",
   "id": "fc5f431d-5d13-4e7d-8723-66be2ae00eba",
   "metadata": {},
   "source": [
    "### Problem 4: t-test for ML models\n",
    "Your task is to write Python code to perform t-tests on the testing results of five different machine learning algorithms. First, generate testing results for each of the five models, with each model having results for 50 test sets. Then, using these generated results, conduct t-tests to compare the results of the first model with those of each of the remaining four models. The goal is to determine if there is a statistically significant difference between the performance of the first model and each of the other models. Finally, print the results of each t-test, which will include the t-statistic and p-value for each comparison. And analyze the result whether the methods are statistically significant or not. What does it mean?"
   ]
  },
  {
   "cell_type": "code",
   "execution_count": 105,
   "id": "30004282-3e27-49f4-aa53-1a54a014b00c",
   "metadata": {},
   "outputs": [],
   "source": [
    "from scipy.stats import ttest_ind"
   ]
  },
  {
   "cell_type": "markdown",
   "id": "20b9b12a",
   "metadata": {},
   "source": [
    "Generating mock data for ML Algorithm results"
   ]
  },
  {
   "cell_type": "code",
   "execution_count": 106,
   "id": "d5c1df34",
   "metadata": {},
   "outputs": [],
   "source": [
    "np.random.seed(42)\n",
    "model_1_results = np.random.normal(loc=0.75, scale=0.05, size=50)\n",
    "model_2_results = np.random.normal(loc=0.74, scale=0.05, size=50)\n",
    "model_3_results = np.random.normal(loc=0.76, scale=0.05, size=50)\n",
    "model_4_results = np.random.normal(loc=0.73, scale=0.05, size=50)\n",
    "model_5_results = np.random.normal(loc=0.77, scale=0.05, size=50)"
   ]
  },
  {
   "cell_type": "markdown",
   "id": "b51aec11",
   "metadata": {},
   "source": [
    "Performing t-tests comparing Model 1 with each of the other models"
   ]
  },
  {
   "cell_type": "code",
   "execution_count": 107,
   "id": "fe8ba81e",
   "metadata": {},
   "outputs": [],
   "source": [
    "t_stat_2, p_value_2 = ttest_ind(model_1_results, model_2_results)\n",
    "t_stat_3, p_value_3 = ttest_ind(model_1_results, model_3_results)\n",
    "t_stat_4, p_value_4 = ttest_ind(model_1_results, model_4_results)\n",
    "t_stat_5, p_value_5 = ttest_ind(model_1_results, model_5_results)"
   ]
  },
  {
   "cell_type": "markdown",
   "id": "fe76d424",
   "metadata": {},
   "source": [
    "Printing t-test results"
   ]
  },
  {
   "cell_type": "code",
   "execution_count": 109,
   "id": "c24fb3f2",
   "metadata": {},
   "outputs": [
    {
     "name": "stdout",
     "output_type": "stream",
     "text": [
      "Comparison of Model 1 and Model 2: t-statistic = -0.23911307109134353, p-value = 0.8115172551026837\n",
      "Comparison of Model 1 and Model 3: t-statistic = -1.979634858202437, p-value = 0.05054962331937288\n",
      "Comparison of Model 1 and Model 4: t-statistic = 0.49583340075139476, p-value = 0.6211221050921307\n",
      "Comparison of Model 1 and Model 5: t-statistic = -3.821489672793791, p-value = 0.00023297364957086474\n"
     ]
    }
   ],
   "source": [
    "print(f\"Comparison of Model 1 and Model 2: t-statistic = {t_stat_2}, p-value = {p_value_2}\")\n",
    "print(f\"Comparison of Model 1 and Model 3: t-statistic = {t_stat_3}, p-value = {p_value_3}\")\n",
    "print(f\"Comparison of Model 1 and Model 4: t-statistic = {t_stat_4}, p-value = {p_value_4}\")\n",
    "print(f\"Comparison of Model 1 and Model 5: t-statistic = {t_stat_5}, p-value = {p_value_5}\")"
   ]
  },
  {
   "cell_type": "markdown",
   "id": "29c6499c",
   "metadata": {},
   "source": [
    "**Comparison of Model 1 and Model 2:**\n",
    "\n",
    "t-statistic: -0.2391, p-value: 0.8115\n",
    "\n",
    "Conclusion: Not statistically significant (p > 0.05). This means there is no significant difference in performance between Model 1 and Model 2.\n",
    "\n",
    "\n",
    "**Comparison of Model 1 and Model 3:**\n",
    "\n",
    "t-statistic: -1.9796, p-value: 0.0505\n",
    "\n",
    "Conclusion: Borderline statistically significant (p ≈ 0.05). This suggests there might be a slight difference in performance between Model 1 and Model 3, but it is not strong enough to conclusively state a significant difference.\n",
    "\n",
    "\n",
    "**Comparison of Model 1 and Model 4:**\n",
    "\n",
    "t-statistic: 0.4958, p-value: 0.6211\n",
    "\n",
    "Conclusion: Not statistically significant (p > 0.05). This means there is no significant difference in performance between Model 1 and Model 4.\n",
    "\n",
    "\n",
    "**Comparison of Model 1 and Model 5:**\n",
    "\n",
    "t-statistic: -3.8215, p-value: 0.0002\n",
    "\n",
    "Conclusion: Statistically significant (p < 0.05). This indicates a significant difference in performance between Model 1 and Model 5."
   ]
  },
  {
   "cell_type": "markdown",
   "id": "348d60b7",
   "metadata": {},
   "source": [
    "**What is Statistically Significant?**\n",
    "When the p-value is less than 0.05, it suggests that the observed differences in performance between the models are unlikely to have occurred by chance. Therefore, there is a significant difference between the compared models' performances.\n",
    "\n",
    "- Model 1 vs Model 5: The significant difference implies that the performance of Model 1 is different from Model 5, and this difference is not due to random variation in the data.\n",
    "\n",
    "**What is not Statistically Significant?**\n",
    "When the p-value is greater than 0.05, it suggests that any observed differences are likely due to random variation, and there is no strong evidence to conclude that the models perform differently.\n",
    "\n",
    "- Model 1 vs Model 2, Model 3, and Model 4: The lack of significant difference means that the performances of these models are statistically similar to Model 1."
   ]
  },
  {
   "cell_type": "markdown",
   "id": "9724abb7-177d-48de-bde6-03a909335d66",
   "metadata": {},
   "source": [
    "### Problem 5: Correlation Analysis\n",
    "- A coffee shop owner wants to determine whether there is a relationship between the amount of coffee sold and the temperature outside. The owner collects data on the number of cups of coffee sold and the temperature outside for 20 days.\n",
    "- Download mtcars.csv file and perform the correlation analysis. See the result and analyze it. Also plot the heatmap for it."
   ]
  },
  {
   "cell_type": "code",
   "execution_count": 87,
   "id": "8a74882b-de2b-4a1b-ba7a-516b7cf16fe7",
   "metadata": {},
   "outputs": [
    {
     "data": {
      "text/html": [
       "<div>\n",
       "<style scoped>\n",
       "    .dataframe tbody tr th:only-of-type {\n",
       "        vertical-align: middle;\n",
       "    }\n",
       "\n",
       "    .dataframe tbody tr th {\n",
       "        vertical-align: top;\n",
       "    }\n",
       "\n",
       "    .dataframe thead th {\n",
       "        text-align: right;\n",
       "    }\n",
       "</style>\n",
       "<table border=\"1\" class=\"dataframe\">\n",
       "  <thead>\n",
       "    <tr style=\"text-align: right;\">\n",
       "      <th></th>\n",
       "      <th>temperature</th>\n",
       "      <th>cups</th>\n",
       "    </tr>\n",
       "  </thead>\n",
       "  <tbody>\n",
       "    <tr>\n",
       "      <th>0</th>\n",
       "      <td>38</td>\n",
       "      <td>55</td>\n",
       "    </tr>\n",
       "    <tr>\n",
       "      <th>1</th>\n",
       "      <td>37</td>\n",
       "      <td>56</td>\n",
       "    </tr>\n",
       "    <tr>\n",
       "      <th>2</th>\n",
       "      <td>36</td>\n",
       "      <td>60</td>\n",
       "    </tr>\n",
       "    <tr>\n",
       "      <th>3</th>\n",
       "      <td>35</td>\n",
       "      <td>65</td>\n",
       "    </tr>\n",
       "    <tr>\n",
       "      <th>4</th>\n",
       "      <td>33</td>\n",
       "      <td>70</td>\n",
       "    </tr>\n",
       "  </tbody>\n",
       "</table>\n",
       "</div>"
      ],
      "text/plain": [
       "   temperature  cups\n",
       "0           38    55\n",
       "1           37    56\n",
       "2           36    60\n",
       "3           35    65\n",
       "4           33    70"
      ]
     },
     "execution_count": 87,
     "metadata": {},
     "output_type": "execute_result"
    }
   ],
   "source": [
    "df = pd.DataFrame(\n",
    "    {\n",
    "#         \"temperature\": np.random.randint(20, 40, size=30),\n",
    "#         \"cups\": np.random.randint(200, 800, size=30)\n",
    "        \"temperature\": [38, 37, 36, 35, 33, 29, 28, 26, 25, 22, 21, 20],\n",
    "        \"cups\": [55, 56, 60, 65, 70, 65, 73, 73, 75, 75, 76, 78]\n",
    "    }\n",
    ")\n",
    "df.head()"
   ]
  },
  {
   "cell_type": "code",
   "execution_count": 88,
   "id": "f62641d0-8ad5-409f-a30f-c9af2c5187e5",
   "metadata": {},
   "outputs": [
    {
     "data": {
      "text/html": [
       "<div>\n",
       "<style scoped>\n",
       "    .dataframe tbody tr th:only-of-type {\n",
       "        vertical-align: middle;\n",
       "    }\n",
       "\n",
       "    .dataframe tbody tr th {\n",
       "        vertical-align: top;\n",
       "    }\n",
       "\n",
       "    .dataframe thead th {\n",
       "        text-align: right;\n",
       "    }\n",
       "</style>\n",
       "<table border=\"1\" class=\"dataframe\">\n",
       "  <thead>\n",
       "    <tr style=\"text-align: right;\">\n",
       "      <th></th>\n",
       "      <th>temperature</th>\n",
       "      <th>cups</th>\n",
       "    </tr>\n",
       "  </thead>\n",
       "  <tbody>\n",
       "    <tr>\n",
       "      <th>temperature</th>\n",
       "      <td>1.000000</td>\n",
       "      <td>-0.923896</td>\n",
       "    </tr>\n",
       "    <tr>\n",
       "      <th>cups</th>\n",
       "      <td>-0.923896</td>\n",
       "      <td>1.000000</td>\n",
       "    </tr>\n",
       "  </tbody>\n",
       "</table>\n",
       "</div>"
      ],
      "text/plain": [
       "             temperature      cups\n",
       "temperature     1.000000 -0.923896\n",
       "cups           -0.923896  1.000000"
      ]
     },
     "execution_count": 88,
     "metadata": {},
     "output_type": "execute_result"
    }
   ],
   "source": [
    "df.corr()"
   ]
  },
  {
   "cell_type": "code",
   "execution_count": 90,
   "id": "eff8fd05",
   "metadata": {},
   "outputs": [
    {
     "data": {
      "text/plain": [
       "<Axes: >"
      ]
     },
     "execution_count": 90,
     "metadata": {},
     "output_type": "execute_result"
    },
    {
     "data": {
      "image/png": "[encoded data removed]",
      "text/plain": [
       "<Figure size 640x480 with 2 Axes>"
      ]
     },
     "metadata": {},
     "output_type": "display_data"
    }
   ],
   "source": [
    "sns.heatmap(df.corr(), cmap=\"coolwarm\")"
   ]
  },
  {
   "cell_type": "markdown",
   "id": "615aba71",
   "metadata": {},
   "source": [
    "**Conclusion: Correlation is just a mathematical relation, and it doesn\\'t show the exact relation as it doesn\\'t count for causality and effect.**\n",
    "\n",
    "But still, in the above situation, we can conclude that number of cups decreases as the temperature increases or viceversa."
   ]
  },
  {
   "cell_type": "markdown",
   "id": "abcacbd9",
   "metadata": {},
   "source": [
    "### Correlation analysis for mtcars.csv"
   ]
  },
  {
   "cell_type": "code",
   "execution_count": 92,
   "id": "20931f33",
   "metadata": {},
   "outputs": [],
   "source": [
    "df = pd.read_csv(\"../csv-files/mtcars.csv\")"
   ]
  },
  {
   "cell_type": "code",
   "execution_count": 94,
   "id": "3a23d3b1",
   "metadata": {},
   "outputs": [
    {
     "data": {
      "text/plain": [
       "(32, 12)"
      ]
     },
     "execution_count": 94,
     "metadata": {},
     "output_type": "execute_result"
    }
   ],
   "source": [
    "df.shape"
   ]
  },
  {
   "cell_type": "code",
   "execution_count": 95,
   "id": "b9e4b515",
   "metadata": {},
   "outputs": [
    {
     "data": {
      "text/html": [
       "<div>\n",
       "<style scoped>\n",
       "    .dataframe tbody tr th:only-of-type {\n",
       "        vertical-align: middle;\n",
       "    }\n",
       "\n",
       "    .dataframe tbody tr th {\n",
       "        vertical-align: top;\n",
       "    }\n",
       "\n",
       "    .dataframe thead th {\n",
       "        text-align: right;\n",
       "    }\n",
       "</style>\n",
       "<table border=\"1\" class=\"dataframe\">\n",
       "  <thead>\n",
       "    <tr style=\"text-align: right;\">\n",
       "      <th></th>\n",
       "      <th>model</th>\n",
       "      <th>mpg</th>\n",
       "      <th>cyl</th>\n",
       "      <th>disp</th>\n",
       "      <th>hp</th>\n",
       "      <th>drat</th>\n",
       "      <th>wt</th>\n",
       "      <th>qsec</th>\n",
       "      <th>vs</th>\n",
       "      <th>am</th>\n",
       "      <th>gear</th>\n",
       "      <th>carb</th>\n",
       "    </tr>\n",
       "  </thead>\n",
       "  <tbody>\n",
       "    <tr>\n",
       "      <th>0</th>\n",
       "      <td>Mazda RX4</td>\n",
       "      <td>21.0</td>\n",
       "      <td>6</td>\n",
       "      <td>160.0</td>\n",
       "      <td>110</td>\n",
       "      <td>3.90</td>\n",
       "      <td>2.620</td>\n",
       "      <td>16.46</td>\n",
       "      <td>0</td>\n",
       "      <td>1</td>\n",
       "      <td>4</td>\n",
       "      <td>4</td>\n",
       "    </tr>\n",
       "    <tr>\n",
       "      <th>1</th>\n",
       "      <td>Mazda RX4 Wag</td>\n",
       "      <td>21.0</td>\n",
       "      <td>6</td>\n",
       "      <td>160.0</td>\n",
       "      <td>110</td>\n",
       "      <td>3.90</td>\n",
       "      <td>2.875</td>\n",
       "      <td>17.02</td>\n",
       "      <td>0</td>\n",
       "      <td>1</td>\n",
       "      <td>4</td>\n",
       "      <td>4</td>\n",
       "    </tr>\n",
       "    <tr>\n",
       "      <th>2</th>\n",
       "      <td>Datsun 710</td>\n",
       "      <td>22.8</td>\n",
       "      <td>4</td>\n",
       "      <td>108.0</td>\n",
       "      <td>93</td>\n",
       "      <td>3.85</td>\n",
       "      <td>2.320</td>\n",
       "      <td>18.61</td>\n",
       "      <td>1</td>\n",
       "      <td>1</td>\n",
       "      <td>4</td>\n",
       "      <td>1</td>\n",
       "    </tr>\n",
       "    <tr>\n",
       "      <th>3</th>\n",
       "      <td>Hornet 4 Drive</td>\n",
       "      <td>21.4</td>\n",
       "      <td>6</td>\n",
       "      <td>258.0</td>\n",
       "      <td>110</td>\n",
       "      <td>3.08</td>\n",
       "      <td>3.215</td>\n",
       "      <td>19.44</td>\n",
       "      <td>1</td>\n",
       "      <td>0</td>\n",
       "      <td>3</td>\n",
       "      <td>1</td>\n",
       "    </tr>\n",
       "    <tr>\n",
       "      <th>4</th>\n",
       "      <td>Hornet Sportabout</td>\n",
       "      <td>18.7</td>\n",
       "      <td>8</td>\n",
       "      <td>360.0</td>\n",
       "      <td>175</td>\n",
       "      <td>3.15</td>\n",
       "      <td>3.440</td>\n",
       "      <td>17.02</td>\n",
       "      <td>0</td>\n",
       "      <td>0</td>\n",
       "      <td>3</td>\n",
       "      <td>2</td>\n",
       "    </tr>\n",
       "  </tbody>\n",
       "</table>\n",
       "</div>"
      ],
      "text/plain": [
       "               model   mpg  cyl   disp   hp  drat     wt   qsec  vs  am  gear   \n",
       "0          Mazda RX4  21.0    6  160.0  110  3.90  2.620  16.46   0   1     4  \\\n",
       "1      Mazda RX4 Wag  21.0    6  160.0  110  3.90  2.875  17.02   0   1     4   \n",
       "2         Datsun 710  22.8    4  108.0   93  3.85  2.320  18.61   1   1     4   \n",
       "3     Hornet 4 Drive  21.4    6  258.0  110  3.08  3.215  19.44   1   0     3   \n",
       "4  Hornet Sportabout  18.7    8  360.0  175  3.15  3.440  17.02   0   0     3   \n",
       "\n",
       "   carb  \n",
       "0     4  \n",
       "1     4  \n",
       "2     1  \n",
       "3     1  \n",
       "4     2  "
      ]
     },
     "execution_count": 95,
     "metadata": {},
     "output_type": "execute_result"
    }
   ],
   "source": [
    "df.head()"
   ]
  },
  {
   "cell_type": "code",
   "execution_count": 96,
   "id": "1c4cb991",
   "metadata": {},
   "outputs": [
    {
     "name": "stdout",
     "output_type": "stream",
     "text": [
      "<class 'pandas.core.frame.DataFrame'>\n",
      "RangeIndex: 32 entries, 0 to 31\n",
      "Data columns (total 12 columns):\n",
      " #   Column  Non-Null Count  Dtype  \n",
      "---  ------  --------------  -----  \n",
      " 0   model   32 non-null     object \n",
      " 1   mpg     32 non-null     float64\n",
      " 2   cyl     32 non-null     int64  \n",
      " 3   disp    32 non-null     float64\n",
      " 4   hp      32 non-null     int64  \n",
      " 5   drat    32 non-null     float64\n",
      " 6   wt      32 non-null     float64\n",
      " 7   qsec    32 non-null     float64\n",
      " 8   vs      32 non-null     int64  \n",
      " 9   am      32 non-null     int64  \n",
      " 10  gear    32 non-null     int64  \n",
      " 11  carb    32 non-null     int64  \n",
      "dtypes: float64(5), int64(6), object(1)\n",
      "memory usage: 3.1+ KB\n"
     ]
    }
   ],
   "source": [
    "df.info()"
   ]
  },
  {
   "cell_type": "code",
   "execution_count": 97,
   "id": "d5a3330c",
   "metadata": {},
   "outputs": [
    {
     "data": {
      "text/html": [
       "<div>\n",
       "<style scoped>\n",
       "    .dataframe tbody tr th:only-of-type {\n",
       "        vertical-align: middle;\n",
       "    }\n",
       "\n",
       "    .dataframe tbody tr th {\n",
       "        vertical-align: top;\n",
       "    }\n",
       "\n",
       "    .dataframe thead th {\n",
       "        text-align: right;\n",
       "    }\n",
       "</style>\n",
       "<table border=\"1\" class=\"dataframe\">\n",
       "  <thead>\n",
       "    <tr style=\"text-align: right;\">\n",
       "      <th></th>\n",
       "      <th>mpg</th>\n",
       "      <th>cyl</th>\n",
       "      <th>disp</th>\n",
       "      <th>hp</th>\n",
       "      <th>drat</th>\n",
       "      <th>wt</th>\n",
       "      <th>qsec</th>\n",
       "      <th>vs</th>\n",
       "      <th>am</th>\n",
       "      <th>gear</th>\n",
       "      <th>carb</th>\n",
       "    </tr>\n",
       "  </thead>\n",
       "  <tbody>\n",
       "    <tr>\n",
       "      <th>count</th>\n",
       "      <td>32.000000</td>\n",
       "      <td>32.000000</td>\n",
       "      <td>32.000000</td>\n",
       "      <td>32.000000</td>\n",
       "      <td>32.000000</td>\n",
       "      <td>32.000000</td>\n",
       "      <td>32.000000</td>\n",
       "      <td>32.000000</td>\n",
       "      <td>32.000000</td>\n",
       "      <td>32.000000</td>\n",
       "      <td>32.0000</td>\n",
       "    </tr>\n",
       "    <tr>\n",
       "      <th>mean</th>\n",
       "      <td>20.090625</td>\n",
       "      <td>6.187500</td>\n",
       "      <td>230.721875</td>\n",
       "      <td>146.687500</td>\n",
       "      <td>3.596563</td>\n",
       "      <td>3.217250</td>\n",
       "      <td>17.848750</td>\n",
       "      <td>0.437500</td>\n",
       "      <td>0.406250</td>\n",
       "      <td>3.687500</td>\n",
       "      <td>2.8125</td>\n",
       "    </tr>\n",
       "    <tr>\n",
       "      <th>std</th>\n",
       "      <td>6.026948</td>\n",
       "      <td>1.785922</td>\n",
       "      <td>123.938694</td>\n",
       "      <td>68.562868</td>\n",
       "      <td>0.534679</td>\n",
       "      <td>0.978457</td>\n",
       "      <td>1.786943</td>\n",
       "      <td>0.504016</td>\n",
       "      <td>0.498991</td>\n",
       "      <td>0.737804</td>\n",
       "      <td>1.6152</td>\n",
       "    </tr>\n",
       "    <tr>\n",
       "      <th>min</th>\n",
       "      <td>10.400000</td>\n",
       "      <td>4.000000</td>\n",
       "      <td>71.100000</td>\n",
       "      <td>52.000000</td>\n",
       "      <td>2.760000</td>\n",
       "      <td>1.513000</td>\n",
       "      <td>14.500000</td>\n",
       "      <td>0.000000</td>\n",
       "      <td>0.000000</td>\n",
       "      <td>3.000000</td>\n",
       "      <td>1.0000</td>\n",
       "    </tr>\n",
       "    <tr>\n",
       "      <th>25%</th>\n",
       "      <td>15.425000</td>\n",
       "      <td>4.000000</td>\n",
       "      <td>120.825000</td>\n",
       "      <td>96.500000</td>\n",
       "      <td>3.080000</td>\n",
       "      <td>2.581250</td>\n",
       "      <td>16.892500</td>\n",
       "      <td>0.000000</td>\n",
       "      <td>0.000000</td>\n",
       "      <td>3.000000</td>\n",
       "      <td>2.0000</td>\n",
       "    </tr>\n",
       "    <tr>\n",
       "      <th>50%</th>\n",
       "      <td>19.200000</td>\n",
       "      <td>6.000000</td>\n",
       "      <td>196.300000</td>\n",
       "      <td>123.000000</td>\n",
       "      <td>3.695000</td>\n",
       "      <td>3.325000</td>\n",
       "      <td>17.710000</td>\n",
       "      <td>0.000000</td>\n",
       "      <td>0.000000</td>\n",
       "      <td>4.000000</td>\n",
       "      <td>2.0000</td>\n",
       "    </tr>\n",
       "    <tr>\n",
       "      <th>75%</th>\n",
       "      <td>22.800000</td>\n",
       "      <td>8.000000</td>\n",
       "      <td>326.000000</td>\n",
       "      <td>180.000000</td>\n",
       "      <td>3.920000</td>\n",
       "      <td>3.610000</td>\n",
       "      <td>18.900000</td>\n",
       "      <td>1.000000</td>\n",
       "      <td>1.000000</td>\n",
       "      <td>4.000000</td>\n",
       "      <td>4.0000</td>\n",
       "    </tr>\n",
       "    <tr>\n",
       "      <th>max</th>\n",
       "      <td>33.900000</td>\n",
       "      <td>8.000000</td>\n",
       "      <td>472.000000</td>\n",
       "      <td>335.000000</td>\n",
       "      <td>4.930000</td>\n",
       "      <td>5.424000</td>\n",
       "      <td>22.900000</td>\n",
       "      <td>1.000000</td>\n",
       "      <td>1.000000</td>\n",
       "      <td>5.000000</td>\n",
       "      <td>8.0000</td>\n",
       "    </tr>\n",
       "  </tbody>\n",
       "</table>\n",
       "</div>"
      ],
      "text/plain": [
       "             mpg        cyl        disp          hp       drat         wt   \n",
       "count  32.000000  32.000000   32.000000   32.000000  32.000000  32.000000  \\\n",
       "mean   20.090625   6.187500  230.721875  146.687500   3.596563   3.217250   \n",
       "std     6.026948   1.785922  123.938694   68.562868   0.534679   0.978457   \n",
       "min    10.400000   4.000000   71.100000   52.000000   2.760000   1.513000   \n",
       "25%    15.425000   4.000000  120.825000   96.500000   3.080000   2.581250   \n",
       "50%    19.200000   6.000000  196.300000  123.000000   3.695000   3.325000   \n",
       "75%    22.800000   8.000000  326.000000  180.000000   3.920000   3.610000   \n",
       "max    33.900000   8.000000  472.000000  335.000000   4.930000   5.424000   \n",
       "\n",
       "            qsec         vs         am       gear     carb  \n",
       "count  32.000000  32.000000  32.000000  32.000000  32.0000  \n",
       "mean   17.848750   0.437500   0.406250   3.687500   2.8125  \n",
       "std     1.786943   0.504016   0.498991   0.737804   1.6152  \n",
       "min    14.500000   0.000000   0.000000   3.000000   1.0000  \n",
       "25%    16.892500   0.000000   0.000000   3.000000   2.0000  \n",
       "50%    17.710000   0.000000   0.000000   4.000000   2.0000  \n",
       "75%    18.900000   1.000000   1.000000   4.000000   4.0000  \n",
       "max    22.900000   1.000000   1.000000   5.000000   8.0000  "
      ]
     },
     "execution_count": 97,
     "metadata": {},
     "output_type": "execute_result"
    }
   ],
   "source": [
    "df.describe()"
   ]
  },
  {
   "cell_type": "code",
   "execution_count": 99,
   "id": "67dec1ef",
   "metadata": {},
   "outputs": [
    {
     "data": {
      "text/html": [
       "<div>\n",
       "<style scoped>\n",
       "    .dataframe tbody tr th:only-of-type {\n",
       "        vertical-align: middle;\n",
       "    }\n",
       "\n",
       "    .dataframe tbody tr th {\n",
       "        vertical-align: top;\n",
       "    }\n",
       "\n",
       "    .dataframe thead th {\n",
       "        text-align: right;\n",
       "    }\n",
       "</style>\n",
       "<table border=\"1\" class=\"dataframe\">\n",
       "  <thead>\n",
       "    <tr style=\"text-align: right;\">\n",
       "      <th></th>\n",
       "      <th>mpg</th>\n",
       "      <th>cyl</th>\n",
       "      <th>disp</th>\n",
       "      <th>hp</th>\n",
       "      <th>drat</th>\n",
       "      <th>wt</th>\n",
       "      <th>qsec</th>\n",
       "      <th>vs</th>\n",
       "      <th>am</th>\n",
       "      <th>gear</th>\n",
       "      <th>carb</th>\n",
       "    </tr>\n",
       "  </thead>\n",
       "  <tbody>\n",
       "    <tr>\n",
       "      <th>mpg</th>\n",
       "      <td>1.000000</td>\n",
       "      <td>-0.852162</td>\n",
       "      <td>-0.847551</td>\n",
       "      <td>-0.776168</td>\n",
       "      <td>0.681172</td>\n",
       "      <td>-0.867659</td>\n",
       "      <td>0.418684</td>\n",
       "      <td>0.664039</td>\n",
       "      <td>0.599832</td>\n",
       "      <td>0.480285</td>\n",
       "      <td>-0.550925</td>\n",
       "    </tr>\n",
       "    <tr>\n",
       "      <th>cyl</th>\n",
       "      <td>-0.852162</td>\n",
       "      <td>1.000000</td>\n",
       "      <td>0.902033</td>\n",
       "      <td>0.832447</td>\n",
       "      <td>-0.699938</td>\n",
       "      <td>0.782496</td>\n",
       "      <td>-0.591242</td>\n",
       "      <td>-0.810812</td>\n",
       "      <td>-0.522607</td>\n",
       "      <td>-0.492687</td>\n",
       "      <td>0.526988</td>\n",
       "    </tr>\n",
       "    <tr>\n",
       "      <th>disp</th>\n",
       "      <td>-0.847551</td>\n",
       "      <td>0.902033</td>\n",
       "      <td>1.000000</td>\n",
       "      <td>0.790949</td>\n",
       "      <td>-0.710214</td>\n",
       "      <td>0.887980</td>\n",
       "      <td>-0.433698</td>\n",
       "      <td>-0.710416</td>\n",
       "      <td>-0.591227</td>\n",
       "      <td>-0.555569</td>\n",
       "      <td>0.394977</td>\n",
       "    </tr>\n",
       "    <tr>\n",
       "      <th>hp</th>\n",
       "      <td>-0.776168</td>\n",
       "      <td>0.832447</td>\n",
       "      <td>0.790949</td>\n",
       "      <td>1.000000</td>\n",
       "      <td>-0.448759</td>\n",
       "      <td>0.658748</td>\n",
       "      <td>-0.708223</td>\n",
       "      <td>-0.723097</td>\n",
       "      <td>-0.243204</td>\n",
       "      <td>-0.125704</td>\n",
       "      <td>0.749812</td>\n",
       "    </tr>\n",
       "    <tr>\n",
       "      <th>drat</th>\n",
       "      <td>0.681172</td>\n",
       "      <td>-0.699938</td>\n",
       "      <td>-0.710214</td>\n",
       "      <td>-0.448759</td>\n",
       "      <td>1.000000</td>\n",
       "      <td>-0.712441</td>\n",
       "      <td>0.091205</td>\n",
       "      <td>0.440278</td>\n",
       "      <td>0.712711</td>\n",
       "      <td>0.699610</td>\n",
       "      <td>-0.090790</td>\n",
       "    </tr>\n",
       "    <tr>\n",
       "      <th>wt</th>\n",
       "      <td>-0.867659</td>\n",
       "      <td>0.782496</td>\n",
       "      <td>0.887980</td>\n",
       "      <td>0.658748</td>\n",
       "      <td>-0.712441</td>\n",
       "      <td>1.000000</td>\n",
       "      <td>-0.174716</td>\n",
       "      <td>-0.554916</td>\n",
       "      <td>-0.692495</td>\n",
       "      <td>-0.583287</td>\n",
       "      <td>0.427606</td>\n",
       "    </tr>\n",
       "    <tr>\n",
       "      <th>qsec</th>\n",
       "      <td>0.418684</td>\n",
       "      <td>-0.591242</td>\n",
       "      <td>-0.433698</td>\n",
       "      <td>-0.708223</td>\n",
       "      <td>0.091205</td>\n",
       "      <td>-0.174716</td>\n",
       "      <td>1.000000</td>\n",
       "      <td>0.744535</td>\n",
       "      <td>-0.229861</td>\n",
       "      <td>-0.212682</td>\n",
       "      <td>-0.656249</td>\n",
       "    </tr>\n",
       "    <tr>\n",
       "      <th>vs</th>\n",
       "      <td>0.664039</td>\n",
       "      <td>-0.810812</td>\n",
       "      <td>-0.710416</td>\n",
       "      <td>-0.723097</td>\n",
       "      <td>0.440278</td>\n",
       "      <td>-0.554916</td>\n",
       "      <td>0.744535</td>\n",
       "      <td>1.000000</td>\n",
       "      <td>0.168345</td>\n",
       "      <td>0.206023</td>\n",
       "      <td>-0.569607</td>\n",
       "    </tr>\n",
       "    <tr>\n",
       "      <th>am</th>\n",
       "      <td>0.599832</td>\n",
       "      <td>-0.522607</td>\n",
       "      <td>-0.591227</td>\n",
       "      <td>-0.243204</td>\n",
       "      <td>0.712711</td>\n",
       "      <td>-0.692495</td>\n",
       "      <td>-0.229861</td>\n",
       "      <td>0.168345</td>\n",
       "      <td>1.000000</td>\n",
       "      <td>0.794059</td>\n",
       "      <td>0.057534</td>\n",
       "    </tr>\n",
       "    <tr>\n",
       "      <th>gear</th>\n",
       "      <td>0.480285</td>\n",
       "      <td>-0.492687</td>\n",
       "      <td>-0.555569</td>\n",
       "      <td>-0.125704</td>\n",
       "      <td>0.699610</td>\n",
       "      <td>-0.583287</td>\n",
       "      <td>-0.212682</td>\n",
       "      <td>0.206023</td>\n",
       "      <td>0.794059</td>\n",
       "      <td>1.000000</td>\n",
       "      <td>0.274073</td>\n",
       "    </tr>\n",
       "    <tr>\n",
       "      <th>carb</th>\n",
       "      <td>-0.550925</td>\n",
       "      <td>0.526988</td>\n",
       "      <td>0.394977</td>\n",
       "      <td>0.749812</td>\n",
       "      <td>-0.090790</td>\n",
       "      <td>0.427606</td>\n",
       "      <td>-0.656249</td>\n",
       "      <td>-0.569607</td>\n",
       "      <td>0.057534</td>\n",
       "      <td>0.274073</td>\n",
       "      <td>1.000000</td>\n",
       "    </tr>\n",
       "  </tbody>\n",
       "</table>\n",
       "</div>"
      ],
      "text/plain": [
       "           mpg       cyl      disp        hp      drat        wt      qsec   \n",
       "mpg   1.000000 -0.852162 -0.847551 -0.776168  0.681172 -0.867659  0.418684  \\\n",
       "cyl  -0.852162  1.000000  0.902033  0.832447 -0.699938  0.782496 -0.591242   \n",
       "disp -0.847551  0.902033  1.000000  0.790949 -0.710214  0.887980 -0.433698   \n",
       "hp   -0.776168  0.832447  0.790949  1.000000 -0.448759  0.658748 -0.708223   \n",
       "drat  0.681172 -0.699938 -0.710214 -0.448759  1.000000 -0.712441  0.091205   \n",
       "wt   -0.867659  0.782496  0.887980  0.658748 -0.712441  1.000000 -0.174716   \n",
       "qsec  0.418684 -0.591242 -0.433698 -0.708223  0.091205 -0.174716  1.000000   \n",
       "vs    0.664039 -0.810812 -0.710416 -0.723097  0.440278 -0.554916  0.744535   \n",
       "am    0.599832 -0.522607 -0.591227 -0.243204  0.712711 -0.692495 -0.229861   \n",
       "gear  0.480285 -0.492687 -0.555569 -0.125704  0.699610 -0.583287 -0.212682   \n",
       "carb -0.550925  0.526988  0.394977  0.749812 -0.090790  0.427606 -0.656249   \n",
       "\n",
       "            vs        am      gear      carb  \n",
       "mpg   0.664039  0.599832  0.480285 -0.550925  \n",
       "cyl  -0.810812 -0.522607 -0.492687  0.526988  \n",
       "disp -0.710416 -0.591227 -0.555569  0.394977  \n",
       "hp   -0.723097 -0.243204 -0.125704  0.749812  \n",
       "drat  0.440278  0.712711  0.699610 -0.090790  \n",
       "wt   -0.554916 -0.692495 -0.583287  0.427606  \n",
       "qsec  0.744535 -0.229861 -0.212682 -0.656249  \n",
       "vs    1.000000  0.168345  0.206023 -0.569607  \n",
       "am    0.168345  1.000000  0.794059  0.057534  \n",
       "gear  0.206023  0.794059  1.000000  0.274073  \n",
       "carb -0.569607  0.057534  0.274073  1.000000  "
      ]
     },
     "execution_count": 99,
     "metadata": {},
     "output_type": "execute_result"
    }
   ],
   "source": [
    "df.corr(numeric_only=True)"
   ]
  },
  {
   "cell_type": "code",
   "execution_count": 103,
   "id": "24e92e1a",
   "metadata": {},
   "outputs": [
    {
     "data": {
      "image/png": "[encoded data removed]",
      "text/plain": [
       "<Figure size 1000x800 with 2 Axes>"
      ]
     },
     "metadata": {},
     "output_type": "display_data"
    }
   ],
   "source": [
    "plt.figure(figsize=(10, 8))\n",
    "sns.heatmap(df.corr(numeric_only=True), cmap=\"coolwarm\")\n",
    "plt.title(\"Correlational Analysis for Cars\")\n",
    "# plt.legend()\n",
    "plt.show()"
   ]
  },
  {
   "cell_type": "markdown",
   "id": "d30f8b4f",
   "metadata": {},
   "source": [
    "**Analysis**"
   ]
  },
  {
   "cell_type": "markdown",
   "id": "43551194",
   "metadata": {},
   "source": [
    "- mpg: Strong negative correlation with cyl, disp, hp, wt. Positive correlation with drat, vs, am.\n",
    "- cyl: Strong positive correlation with disp, hp, wt. Negative correlation with mpg, vs.\n",
    "- disp: Positive correlation with cyl, hp, wt. Negative correlation with mpg, vs.\n",
    "- hp: Positive correlation with cyl, disp, carb. Negative correlation with mpg, vs, qsec.\n",
    "- drat: Positive correlation with mpg, am, gear. Negative correlation with wt.\n",
    "- wt: Positive correlation with cyl, disp. Negative correlation with mpg, qsec.\n",
    "- qsec: Positive correlation with vs. Negative correlation with hp, carb.\n",
    "- vs: Positive correlation with mpg, qsec. Negative correlation with cyl, hp, carb.\n",
    "- am: Positive correlation with gear, drat. Negative correlation with wt.\n",
    "- gear: Positive correlation with am, drat. Negative correlation with wt.\n",
    "- carb: Positive correlation with hp, wt. Negative correlation with mpg, vs."
   ]
  },
  {
   "cell_type": "markdown",
   "id": "00bffa40",
   "metadata": {},
   "source": [
    "With the above analysis, we can continue using only some of the features by ignoring others, as they would have less impact on the ML process."
   ]
  },
  {
   "cell_type": "markdown",
   "id": "9d454e5d",
   "metadata": {},
   "source": [
    "**Example**\n",
    "Given the strong correlation between mpg (fuel efficiency) and features like cyl, disp, hp, and wt, we can simplify our model by selecting only these features and ignoring less correlated ones like qsec, vs, carb.\n",
    "\n",
    "Selected Features:\n",
    "cyl, disp, hp, wt\n",
    "\n",
    "Ignored Features:\n",
    "qsec, vs, carb\n",
    "\n",
    "By focusing on cyl, disp, hp, and wt, which have strong correlations with mpg, we can build a more efficient ML model without significantly losing predictive power."
   ]
  },
  {
   "cell_type": "markdown",
   "id": "ef0edd45-ce1c-4536-940e-027a49a38203",
   "metadata": {},
   "source": [
    "### Problem 6: Hypothesis testing\n",
    "Imagine a company, samsung, that manufactures a popular smartphone. They have introduced a new battery designed to last longer than the previous model, which had an average battery life of 10 hours. To determine if the new battery indeed lasts longer, samsung conducts a study where they test 30 smartphones with the new battery and record their battery life. The goal is to test the hypothesis that the mean battery life of the new batteries is greater than 10 hours using a one-tailed test."
   ]
  },
  {
   "cell_type": "markdown",
   "id": "b4fff557-adff-474c-818f-3f225e9d2fcb",
   "metadata": {},
   "source": [
    "Hypothesis:\n",
    "- Null Hypothesis (H₀): The mean battery life of the new battery is 10 hours.\n",
    "- Alternative Hypothesis (H₁): The mean battery life of the new battery is greater than 10 hours."
   ]
  },
  {
   "cell_type": "markdown",
   "id": "14c28126",
   "metadata": {},
   "source": [
    "1. Generate Mock Data:\n",
    "\n",
    "Assuming a normal distribution for battery life with a mean slightly higher than 10 hours (10.5 hours) and a standard deviation (0.5 hours)."
   ]
  },
  {
   "cell_type": "code",
   "execution_count": 110,
   "id": "22ec5d6d",
   "metadata": {},
   "outputs": [],
   "source": [
    "np.random.seed(42)\n",
    "battery_life = np.random.normal(loc=10.5, scale=0.5, size=30)"
   ]
  },
  {
   "cell_type": "markdown",
   "id": "6e3fa7de",
   "metadata": {},
   "source": [
    "2. Perform One-Tailed T-Test:\n",
    "\n",
    "Usin `scipy.stats.ttest_1samp` to conduct a one-sample t-test by compare the mean battery life of the sample to the hypothesized mean (10 hours)."
   ]
  },
  {
   "cell_type": "code",
   "execution_count": 113,
   "id": "ed355f41",
   "metadata": {},
   "outputs": [
    {
     "data": {
      "text/plain": [
       "(4.940745365634535, 2.990785594306498e-05)"
      ]
     },
     "execution_count": 113,
     "metadata": {},
     "output_type": "execute_result"
    }
   ],
   "source": [
    "from scipy.stats import ttest_1samp\n",
    "t_stat, p_value = ttest_1samp(battery_life, 10)\n",
    "t_stat, p_value"
   ]
  },
  {
   "cell_type": "code",
   "execution_count": 114,
   "id": "7c76b087",
   "metadata": {},
   "outputs": [
    {
     "data": {
      "text/plain": [
       "1.495392797153249e-05"
      ]
     },
     "execution_count": 114,
     "metadata": {},
     "output_type": "execute_result"
    }
   ],
   "source": [
    "# Since it's a one-tailed test, dividing the p-value by 2\n",
    "p_value_one_tailed = p_value / 2\n",
    "p_value_one_tailed"
   ]
  },
  {
   "cell_type": "code",
   "execution_count": 115,
   "id": "ca2c7028",
   "metadata": {},
   "outputs": [
    {
     "name": "stdout",
     "output_type": "stream",
     "text": [
      "t-statistic: 4.940745365634535, p-value (one-tailed): 1.495392797153249e-05\n"
     ]
    }
   ],
   "source": [
    "print(f\"t-statistic: {t_stat}, p-value (one-tailed): {p_value_one_tailed}\")"
   ]
  },
  {
   "cell_type": "markdown",
   "id": "cc26bc2a",
   "metadata": {},
   "source": [
    "**Interpretation:**\n",
    "\n",
    "The p-value is much smaller than the common significance level of 0.05.\n",
    "\n",
    "**Conclusion:**\n",
    "\n",
    "- Since the p-value is significantly less than 0.05, we reject the null hypothesis.\n",
    "- This means there is strong statistical evidence that the mean battery life of the new Samsung battery is greater than 10 hours."
   ]
  },
  {
   "cell_type": "markdown",
   "id": "65e0e3a8",
   "metadata": {},
   "source": [
    "## Summarizing categorical variables\n",
    "\n",
    "1. Frequency table\n",
    "\t1. Value count of blood type\n",
    "\t2. Value count of gender\n",
    "\t3. Value count as proportions\n",
    "2. Contengency table\n",
    "\t1. Cross table of bloodtype and gender\n",
    "\t2. explore margins"
   ]
  },
  {
   "cell_type": "markdown",
   "id": "352a61f7",
   "metadata": {},
   "source": [
    "### Frequency Table\n",
    "Let's create a frequency table for blood type and gender."
   ]
  },
  {
   "cell_type": "code",
   "execution_count": 118,
   "id": "011fa0f9",
   "metadata": {},
   "outputs": [],
   "source": [
    "data = {\n",
    "    'Blood_Type': ['A', 'B', 'A', 'O', 'AB', 'A', 'B', 'O', 'A', 'B'],\n",
    "    'Gender': ['M', 'F', 'F', 'M', 'M', 'F', 'F', 'M', 'F', 'M']\n",
    "}\n",
    "df = pd.DataFrame(data)"
   ]
  },
  {
   "cell_type": "markdown",
   "id": "4b6ce7b8",
   "metadata": {},
   "source": [
    "**Value Counts**"
   ]
  },
  {
   "cell_type": "code",
   "execution_count": 119,
   "id": "0e05f3cf",
   "metadata": {},
   "outputs": [
    {
     "name": "stdout",
     "output_type": "stream",
     "text": [
      "Blood Type Counts:\n",
      "Blood_Type\n",
      "A     4\n",
      "B     3\n",
      "O     2\n",
      "AB    1\n",
      "Name: count, dtype: int64\n",
      "\n",
      "Gender Counts:\n",
      "Gender\n",
      "M    5\n",
      "F    5\n",
      "Name: count, dtype: int64\n"
     ]
    }
   ],
   "source": [
    "blood_type_counts = df['Blood_Type'].value_counts()\n",
    "print(\"Blood Type Counts:\")\n",
    "print(blood_type_counts)\n",
    "\n",
    "gender_counts = df['Gender'].value_counts()\n",
    "print(\"\\nGender Counts:\")\n",
    "print(gender_counts)"
   ]
  },
  {
   "cell_type": "markdown",
   "id": "78668763",
   "metadata": {},
   "source": [
    "**Value count as proportions**"
   ]
  },
  {
   "cell_type": "code",
   "execution_count": 120,
   "id": "c1052e92",
   "metadata": {},
   "outputs": [
    {
     "name": "stdout",
     "output_type": "stream",
     "text": [
      "\n",
      "Blood Type Proportions:\n",
      "Blood_Type\n",
      "A     0.4\n",
      "B     0.3\n",
      "O     0.2\n",
      "AB    0.1\n",
      "Name: proportion, dtype: float64\n",
      "\n",
      "Gender Proportions:\n",
      "Gender\n",
      "M    0.5\n",
      "F    0.5\n",
      "Name: proportion, dtype: float64\n"
     ]
    }
   ],
   "source": [
    "blood_type_proportions = df['Blood_Type'].value_counts(normalize=True)\n",
    "print(\"\\nBlood Type Proportions:\")\n",
    "print(blood_type_proportions)\n",
    "\n",
    "gender_proportions = df['Gender'].value_counts(normalize=True)\n",
    "print(\"\\nGender Proportions:\")\n",
    "print(gender_proportions)\n"
   ]
  },
  {
   "cell_type": "markdown",
   "id": "68ba61c3",
   "metadata": {},
   "source": [
    "### Contingency Table\n",
    "Let's create a contingency table for blood type and gender."
   ]
  },
  {
   "cell_type": "code",
   "execution_count": 121,
   "id": "3893da56",
   "metadata": {},
   "outputs": [
    {
     "name": "stdout",
     "output_type": "stream",
     "text": [
      "\n",
      "Contingency Table:\n",
      "Gender      F  M\n",
      "Blood_Type      \n",
      "A           3  1\n",
      "AB          0  1\n",
      "B           2  1\n",
      "O           0  2\n"
     ]
    }
   ],
   "source": [
    "contingency_table = pd.crosstab(df['Blood_Type'], df['Gender'])\n",
    "print(\"\\nContingency Table:\")\n",
    "print(contingency_table)"
   ]
  },
  {
   "cell_type": "code",
   "execution_count": 122,
   "id": "ffb310e4",
   "metadata": {},
   "outputs": [
    {
     "name": "stdout",
     "output_type": "stream",
     "text": [
      "\n",
      "Contingency Table with Margins:\n",
      "Gender      F  M  All\n",
      "Blood_Type           \n",
      "A           3  1    4\n",
      "AB          0  1    1\n",
      "B           2  1    3\n",
      "O           0  2    2\n",
      "All         5  5   10\n"
     ]
    }
   ],
   "source": [
    "\n",
    "contingency_table_with_margins = pd.crosstab(df['Blood_Type'], df['Gender'], margins=True)\n",
    "print(\"\\nContingency Table with Margins:\")\n",
    "print(contingency_table_with_margins)"
   ]
  },
  {
   "cell_type": "markdown",
   "id": "39d1de16",
   "metadata": {},
   "source": [
    "We can see that there is clear distribution of blood types and gender, with equal gender proportions."
   ]
  },
  {
   "cell_type": "markdown",
   "id": "0213d481",
   "metadata": {},
   "source": [
    "## Interval Estimation of the Proportion\n",
    "\n",
    "```\n",
    "HINT: explore st.norm.interval\n",
    "```\n",
    "\n",
    "1.  There are two candidates for the election: A and B.\n",
    "The candidate A wants to survey his approval rating.\n",
    "Out of 100 suerveyed, 55 answered positively.\n",
    "Can A be sure of this election?\n",
    "- Assume that A gets elected with 50% or more.\n",
    "- Use 95% confidence interval.\n",
    "\n",
    "2. Out of 1000 suerveyed, 550 answered positively. Can A be sure of this election?\n",
    "- Assume that A gets elected with 50% or more.\n",
    "- Use 95% confidence interval.\n"
   ]
  },
  {
   "cell_type": "code",
   "execution_count": 126,
   "id": "f9d8164a",
   "metadata": {},
   "outputs": [],
   "source": [
    "import scipy.stats as st"
   ]
  },
  {
   "cell_type": "markdown",
   "id": "a57f92ea",
   "metadata": {},
   "source": [
    "Helper function to calculate confidence interval"
   ]
  },
  {
   "cell_type": "code",
   "execution_count": 128,
   "id": "5300d2dc",
   "metadata": {},
   "outputs": [],
   "source": [
    "def proportion_confidence_interval(successes, n, confidence_level=0.95):\n",
    "    proportion = successes / n\n",
    "    z = st.norm.ppf(1 - (1 - confidence_level) / 2)\n",
    "    se = (proportion * (1 - proportion) / n) ** 0.5\n",
    "    margin_of_error = z * se\n",
    "    return (proportion - margin_of_error, proportion + margin_of_error)"
   ]
  },
  {
   "cell_type": "markdown",
   "id": "49cbacee",
   "metadata": {},
   "source": [
    "1. First scenario"
   ]
  },
  {
   "cell_type": "code",
   "execution_count": 129,
   "id": "7b764737",
   "metadata": {},
   "outputs": [
    {
     "name": "stdout",
     "output_type": "stream",
     "text": [
      "\n",
      "95% Confidence Interval for 55 out of 100: (0.45249302291006066, 0.6475069770899394)\n"
     ]
    }
   ],
   "source": [
    "n1, successes1 = 100, 55\n",
    "ci1 = proportion_confidence_interval(successes1, n1)\n",
    "print(f\"\\n95% Confidence Interval for 55 out of 100: {ci1}\")"
   ]
  },
  {
   "cell_type": "markdown",
   "id": "f16d3441",
   "metadata": {},
   "source": [
    "2. Second scenario"
   ]
  },
  {
   "cell_type": "code",
   "execution_count": 130,
   "id": "b3fa6d57",
   "metadata": {},
   "outputs": [
    {
     "name": "stdout",
     "output_type": "stream",
     "text": [
      "\n",
      "95% Confidence Interval for 550 out of 1000: (0.5191655864637935, 0.5808344135362066)\n"
     ]
    }
   ],
   "source": [
    "n2, successes2 = 1000, 550\n",
    "ci2 = proportion_confidence_interval(successes2, n2)\n",
    "print(f\"\\n95% Confidence Interval for 550 out of 1000: {ci2}\")"
   ]
  },
  {
   "cell_type": "markdown",
   "id": "a49a6b7b",
   "metadata": {},
   "source": [
    "**Conclusion:**\n",
    "     Candidate A has more than 50% approval in both scenarios based on confidence intervals."
   ]
  },
  {
   "cell_type": "markdown",
   "id": "d3623525",
   "metadata": {},
   "source": [
    "### How can we know that the three groups are same or different?\n",
    "\n",
    "- There are three groups of students. The data corresponds to the test scores. Determine whether there is any significant difference in the group test scores.\n",
    "```python\n",
    "# Data\n",
    "x1 = np.array([82,93,61,74,69,70,53])\n",
    "x2 = np.array([71,62,85,94,78,66,71])\n",
    "x3 = np.array([64,73,87,91,56,78,87])\n",
    "```\n"
   ]
  },
  {
   "cell_type": "markdown",
   "id": "ddc036d1",
   "metadata": {},
   "source": [
    "**We can compare three groups using ANOVA**\n",
    "First, let's determine whether there is any significant difference in the test scores of three groups using ANOVA."
   ]
  },
  {
   "cell_type": "code",
   "execution_count": 123,
   "id": "a191d8cd",
   "metadata": {},
   "outputs": [],
   "source": [
    "from scipy.stats import f_oneway"
   ]
  },
  {
   "cell_type": "markdown",
   "id": "010f87eb",
   "metadata": {},
   "source": [
    "Creating some mock data"
   ]
  },
  {
   "cell_type": "code",
   "execution_count": 124,
   "id": "695354be",
   "metadata": {},
   "outputs": [],
   "source": [
    "x1 = np.array([82, 93, 61, 74, 69, 70, 53])\n",
    "x2 = np.array([71, 62, 85, 94, 78, 66, 71])\n",
    "x3 = np.array([64, 73, 87, 91, 56, 78, 87])"
   ]
  },
  {
   "cell_type": "markdown",
   "id": "119bad20",
   "metadata": {},
   "source": [
    "Performing ANOVA"
   ]
  },
  {
   "cell_type": "code",
   "execution_count": 125,
   "id": "c8a52aeb",
   "metadata": {},
   "outputs": [
    {
     "name": "stdout",
     "output_type": "stream",
     "text": [
      "\n",
      "ANOVA F-statistic: 0.2837261275904103, p-value: 0.7562784116739912\n"
     ]
    }
   ],
   "source": [
    "f_stat, p_value = f_oneway(x1, x2, x3)\n",
    "print(f\"\\nANOVA F-statistic: {f_stat}, p-value: {p_value}\")"
   ]
  },
  {
   "cell_type": "markdown",
   "id": "158af5aa",
   "metadata": {},
   "source": [
    "**Conclusion**\n",
    "The p-value is greater than 0.05, indicating no significant difference between the three groups' test scores."
   ]
  }
 ],
 "metadata": {
  "kernelspec": {
   "display_name": "Python 3 (ipykernel)",
   "language": "python",
   "name": "python3"
  },
  "language_info": {
   "codemirror_mode": {
    "name": "ipython",
    "version": 3
   },
   "file_extension": ".py",
   "mimetype": "text/x-python",
   "name": "python",
   "nbconvert_exporter": "python",
   "pygments_lexer": "ipython3",
   "version": "3.9.5"
  }
 },
 "nbformat": 4,
 "nbformat_minor": 5
}
