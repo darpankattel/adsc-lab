{
 "cells": [
  {
   "cell_type": "markdown",
   "id": "66cc17c2",
   "metadata": {},
   "source": [
    "# Statistics and Probability"
   ]
  },
  {
   "cell_type": "markdown",
   "id": "e5db977c",
   "metadata": {},
   "source": [
    "<p style=\"float:right;\">\n",
    "<span>By- Darpan Kattel <a href=\"https://darpankattel.com.np/\" target=\"_blank\">(Website)</a></span>\n",
    "<br />\n",
    "    <span>PUL077BCT<b>099</b></span>\n",
    "</p>"
   ]
  },
  {
   "cell_type": "markdown",
   "id": "e641163c",
   "metadata": {},
   "source": [
    "## Prepairing a dataset"
   ]
  },
  {
   "cell_type": "code",
   "execution_count": 1,
   "id": "2cc402f1",
   "metadata": {},
   "outputs": [],
   "source": [
    "import numpy as np\n",
    "import pandas as pd\n",
    "import matplotlib.pyplot as plt\n",
    "import seaborn as sns"
   ]
  },
  {
   "cell_type": "markdown",
   "id": "87df1642",
   "metadata": {},
   "source": [
    "Seeding the random values so that random values are repeated and hence the list is same on every run"
   ]
  },
  {
   "cell_type": "code",
   "execution_count": 2,
   "id": "3e803d52",
   "metadata": {},
   "outputs": [],
   "source": [
    "np.random.seed(42)"
   ]
  },
  {
   "cell_type": "code",
   "execution_count": 3,
   "id": "7839e34e",
   "metadata": {},
   "outputs": [
    {
     "data": {
      "text/html": [
       "<div>\n",
       "<style scoped>\n",
       "    .dataframe tbody tr th:only-of-type {\n",
       "        vertical-align: middle;\n",
       "    }\n",
       "\n",
       "    .dataframe tbody tr th {\n",
       "        vertical-align: top;\n",
       "    }\n",
       "\n",
       "    .dataframe thead th {\n",
       "        text-align: right;\n",
       "    }\n",
       "</style>\n",
       "<table border=\"1\" class=\"dataframe\">\n",
       "  <thead>\n",
       "    <tr style=\"text-align: right;\">\n",
       "      <th></th>\n",
       "      <th>Age</th>\n",
       "      <th>Income</th>\n",
       "      <th>SpendingScore</th>\n",
       "    </tr>\n",
       "  </thead>\n",
       "  <tbody>\n",
       "    <tr>\n",
       "      <th>0</th>\n",
       "      <td>34.967142</td>\n",
       "      <td>70990.331549</td>\n",
       "      <td>30</td>\n",
       "    </tr>\n",
       "    <tr>\n",
       "      <th>1</th>\n",
       "      <td>28.617357</td>\n",
       "      <td>63869.505244</td>\n",
       "      <td>95</td>\n",
       "    </tr>\n",
       "    <tr>\n",
       "      <th>2</th>\n",
       "      <td>36.476885</td>\n",
       "      <td>50894.455549</td>\n",
       "      <td>75</td>\n",
       "    </tr>\n",
       "    <tr>\n",
       "      <th>3</th>\n",
       "      <td>45.230299</td>\n",
       "      <td>40295.948334</td>\n",
       "      <td>99</td>\n",
       "    </tr>\n",
       "    <tr>\n",
       "      <th>4</th>\n",
       "      <td>27.658466</td>\n",
       "      <td>60473.349704</td>\n",
       "      <td>72</td>\n",
       "    </tr>\n",
       "  </tbody>\n",
       "</table>\n",
       "</div>"
      ],
      "text/plain": [
       "         Age        Income  SpendingScore\n",
       "0  34.967142  70990.331549             30\n",
       "1  28.617357  63869.505244             95\n",
       "2  36.476885  50894.455549             75\n",
       "3  45.230299  40295.948334             99\n",
       "4  27.658466  60473.349704             72"
      ]
     },
     "execution_count": 3,
     "metadata": {},
     "output_type": "execute_result"
    }
   ],
   "source": [
    "data = {\n",
    "    \"Age\": np.random.normal(loc=30, scale=10, size=1000),\n",
    "    \"Income\": np.random.normal(loc=50000, scale=15000, size=1000),\n",
    "    \"SpendingScore\": np.random.randint(1, 100, size=1000)\n",
    "}\n",
    "df = pd.DataFrame(data)\n",
    "df.head()"
   ]
  },
  {
   "cell_type": "markdown",
   "id": "fd585f2b",
   "metadata": {},
   "source": [
    "## Gather information from the data"
   ]
  },
  {
   "cell_type": "code",
   "execution_count": 4,
   "id": "0fda3c4c",
   "metadata": {},
   "outputs": [
    {
     "data": {
      "text/plain": [
       "(1000, 3)"
      ]
     },
     "execution_count": 4,
     "metadata": {},
     "output_type": "execute_result"
    }
   ],
   "source": [
    "df.shape"
   ]
  },
  {
   "cell_type": "code",
   "execution_count": 5,
   "id": "a332e1ef",
   "metadata": {},
   "outputs": [
    {
     "data": {
      "text/plain": [
       "Index(['Age', 'Income', 'SpendingScore'], dtype='object')"
      ]
     },
     "execution_count": 5,
     "metadata": {},
     "output_type": "execute_result"
    }
   ],
   "source": [
    "df.columns"
   ]
  },
  {
   "cell_type": "code",
   "execution_count": 6,
   "id": "8e06fc93",
   "metadata": {},
   "outputs": [
    {
     "name": "stdout",
     "output_type": "stream",
     "text": [
      "<class 'pandas.core.frame.DataFrame'>\n",
      "RangeIndex: 1000 entries, 0 to 999\n",
      "Data columns (total 3 columns):\n",
      " #   Column         Non-Null Count  Dtype  \n",
      "---  ------         --------------  -----  \n",
      " 0   Age            1000 non-null   float64\n",
      " 1   Income         1000 non-null   float64\n",
      " 2   SpendingScore  1000 non-null   int32  \n",
      "dtypes: float64(2), int32(1)\n",
      "memory usage: 19.7 KB\n"
     ]
    }
   ],
   "source": [
    "df.info()"
   ]
  },
  {
   "cell_type": "code",
   "execution_count": 7,
   "id": "6f1d7542",
   "metadata": {},
   "outputs": [
    {
     "data": {
      "text/html": [
       "<div>\n",
       "<style scoped>\n",
       "    .dataframe tbody tr th:only-of-type {\n",
       "        vertical-align: middle;\n",
       "    }\n",
       "\n",
       "    .dataframe tbody tr th {\n",
       "        vertical-align: top;\n",
       "    }\n",
       "\n",
       "    .dataframe thead th {\n",
       "        text-align: right;\n",
       "    }\n",
       "</style>\n",
       "<table border=\"1\" class=\"dataframe\">\n",
       "  <thead>\n",
       "    <tr style=\"text-align: right;\">\n",
       "      <th></th>\n",
       "      <th>Age</th>\n",
       "      <th>Income</th>\n",
       "      <th>SpendingScore</th>\n",
       "    </tr>\n",
       "  </thead>\n",
       "  <tbody>\n",
       "    <tr>\n",
       "      <th>count</th>\n",
       "      <td>1000.000000</td>\n",
       "      <td>1000.000000</td>\n",
       "      <td>1000.000000</td>\n",
       "    </tr>\n",
       "    <tr>\n",
       "      <th>mean</th>\n",
       "      <td>30.193321</td>\n",
       "      <td>51062.543559</td>\n",
       "      <td>50.465000</td>\n",
       "    </tr>\n",
       "    <tr>\n",
       "      <th>std</th>\n",
       "      <td>9.792159</td>\n",
       "      <td>14961.815658</td>\n",
       "      <td>28.144678</td>\n",
       "    </tr>\n",
       "    <tr>\n",
       "      <th>min</th>\n",
       "      <td>-2.412673</td>\n",
       "      <td>5894.170480</td>\n",
       "      <td>1.000000</td>\n",
       "    </tr>\n",
       "    <tr>\n",
       "      <th>25%</th>\n",
       "      <td>23.524097</td>\n",
       "      <td>40906.374665</td>\n",
       "      <td>26.000000</td>\n",
       "    </tr>\n",
       "    <tr>\n",
       "      <th>50%</th>\n",
       "      <td>30.253006</td>\n",
       "      <td>50946.156985</td>\n",
       "      <td>51.500000</td>\n",
       "    </tr>\n",
       "    <tr>\n",
       "      <th>75%</th>\n",
       "      <td>36.479439</td>\n",
       "      <td>60933.232655</td>\n",
       "      <td>75.000000</td>\n",
       "    </tr>\n",
       "    <tr>\n",
       "      <th>max</th>\n",
       "      <td>68.527315</td>\n",
       "      <td>97896.613518</td>\n",
       "      <td>99.000000</td>\n",
       "    </tr>\n",
       "  </tbody>\n",
       "</table>\n",
       "</div>"
      ],
      "text/plain": [
       "               Age        Income  SpendingScore\n",
       "count  1000.000000   1000.000000    1000.000000\n",
       "mean     30.193321  51062.543559      50.465000\n",
       "std       9.792159  14961.815658      28.144678\n",
       "min      -2.412673   5894.170480       1.000000\n",
       "25%      23.524097  40906.374665      26.000000\n",
       "50%      30.253006  50946.156985      51.500000\n",
       "75%      36.479439  60933.232655      75.000000\n",
       "max      68.527315  97896.613518      99.000000"
      ]
     },
     "execution_count": 7,
     "metadata": {},
     "output_type": "execute_result"
    }
   ],
   "source": [
    "df.describe()"
   ]
  },
  {
   "cell_type": "markdown",
   "id": "8ea35115",
   "metadata": {},
   "source": [
    "### Mean, Median and mode"
   ]
  },
  {
   "cell_type": "code",
   "execution_count": 8,
   "id": "28362e0a",
   "metadata": {},
   "outputs": [
    {
     "name": "stdout",
     "output_type": "stream",
     "text": [
      "Mean Age: 30.193320558223256\n"
     ]
    }
   ],
   "source": [
    "mean_age = df['Age'].mean()\n",
    "print(f\"Mean Age: {mean_age}\")"
   ]
  },
  {
   "cell_type": "markdown",
   "id": "640b9ca2",
   "metadata": {},
   "source": [
    "This is what we gave to the `loc` parameter in the `np.random.normal` function."
   ]
  },
  {
   "cell_type": "code",
   "execution_count": 9,
   "id": "b05b539e",
   "metadata": {},
   "outputs": [
    {
     "name": "stdout",
     "output_type": "stream",
     "text": [
      "Median Age: 30.253006122348882\n"
     ]
    }
   ],
   "source": [
    "median_age = df['Age'].median()\n",
    "print(f\"Median Age: {median_age}\")"
   ]
  },
  {
   "cell_type": "markdown",
   "id": "dc8e953d",
   "metadata": {},
   "source": [
    "Sice, the mean and the median are almost same, the data can be considered as in normal distribution. Which, obviously it is."
   ]
  },
  {
   "cell_type": "code",
   "execution_count": 10,
   "id": "faa53091",
   "metadata": {},
   "outputs": [
    {
     "name": "stdout",
     "output_type": "stream",
     "text": [
      "Mode Spending Score: 28\n"
     ]
    }
   ],
   "source": [
    "mode_spending = df['SpendingScore'].mode()[0]\n",
    "print(f\"Mode Spending Score: {mode_spending}\")"
   ]
  },
  {
   "cell_type": "code",
   "execution_count": 11,
   "id": "8d6f9747",
   "metadata": {},
   "outputs": [
    {
     "data": {
      "image/png": "[encoded data removed]",
      "text/plain": [
       "<Figure size 1000x800 with 1 Axes>"
      ]
     },
     "metadata": {},
     "output_type": "display_data"
    }
   ],
   "source": [
    "plt.figure(figsize=(10, 8))\n",
    "sns.histplot(df[\"Age\"], kde=True)\n",
    "plt.axvline(mean_age, color='r', label=\"Mean\")\n",
    "plt.axvline(median_age, color='g', label=\"Median\")\n",
    "plt.legend()\n",
    "plt.title(\"Age Distribution with Mean and Median\")\n",
    "plt.show()"
   ]
  },
  {
   "cell_type": "markdown",
   "id": "a178aba0",
   "metadata": {},
   "source": [
    "**Conclusion: The Kernel Density Estimation (KDE) clearly shows that the curve is of Normal Distribution, as well, the mean and the median line almost at the exam place, which confirms it.**"
   ]
  },
  {
   "cell_type": "markdown",
   "id": "4fa3d28c",
   "metadata": {},
   "source": [
    "**KDE:** A statistical technique used to estimate the Probability Density Function (PDF) of a continuous random variable. It provides a smoothed representation of the underlying distribution of the data, often used for data visualization and analysis."
   ]
  },
  {
   "cell_type": "markdown",
   "id": "8d907553",
   "metadata": {},
   "source": [
    "The mode of the above data is a bit skewed."
   ]
  },
  {
   "cell_type": "code",
   "execution_count": 12,
   "id": "af8d3d25",
   "metadata": {},
   "outputs": [
    {
     "data": {
      "text/plain": [
       "0    24\n",
       "Name: Age, dtype: int32"
      ]
     },
     "execution_count": 12,
     "metadata": {},
     "output_type": "execute_result"
    }
   ],
   "source": [
    "df[\"Age\"].astype(int).mode()"
   ]
  },
  {
   "cell_type": "markdown",
   "id": "a0464c2a",
   "metadata": {},
   "source": [
    "We had to use the method `astype()` with arg `int`, as the age is in float, and hence with float ages, all ages that are unique would appear as a mode."
   ]
  },
  {
   "cell_type": "markdown",
   "id": "c5f537c9",
   "metadata": {},
   "source": [
    "## Range, Variance, Standard Deviation"
   ]
  },
  {
   "cell_type": "markdown",
   "id": "2495e108",
   "metadata": {},
   "source": [
    "### Range"
   ]
  },
  {
   "cell_type": "code",
   "execution_count": 13,
   "id": "5947b25c",
   "metadata": {},
   "outputs": [
    {
     "name": "stdout",
     "output_type": "stream",
     "text": [
      "Range of Income: 92002.44303763712\n"
     ]
    }
   ],
   "source": [
    "range_income = df[\"Income\"].max() - df[\"Income\"].min()\n",
    "print(f\"Range of Income: {range_income}\")"
   ]
  },
  {
   "cell_type": "markdown",
   "id": "567edb43",
   "metadata": {},
   "source": [
    "### Variance"
   ]
  },
  {
   "cell_type": "code",
   "execution_count": 14,
   "id": "27a5047c",
   "metadata": {},
   "outputs": [
    {
     "name": "stdout",
     "output_type": "stream",
     "text": [
      "Variance of Income: 223855927.79628196\n"
     ]
    }
   ],
   "source": [
    "variance_income = df[\"Income\"].var()\n",
    "print(f\"Variance of Income: {variance_income}\")"
   ]
  },
  {
   "cell_type": "markdown",
   "id": "bce6d776",
   "metadata": {},
   "source": [
    "### Standard Deviation"
   ]
  },
  {
   "cell_type": "code",
   "execution_count": 15,
   "id": "3bcef09f",
   "metadata": {},
   "outputs": [
    {
     "name": "stdout",
     "output_type": "stream",
     "text": [
      "Standard Deviation of Income: 14961.815658411313\n"
     ]
    }
   ],
   "source": [
    "std_income = df[\"Income\"].std()\n",
    "print(f\"Standard Deviation of Income: {std_income}\")"
   ]
  },
  {
   "cell_type": "markdown",
   "id": "f828032f",
   "metadata": {},
   "source": [
    "Here, the `std` is approx. 15,000. We know, 1σ covers **68%** area in the PDF curve, whereas 2σ covers **95%** and 3σ covers **99.7%** of the area.\n",
    "\n",
    "Here, σ= 15,000 means that there are almost 68% employess that have income 15,000 or less.\n",
    "\n",
    "2σ = 30,000 means that there are almost 95% employess that have income 30,000 or less.\n",
    "\n",
    "3σ = 45,000 means that there are almost 99.7% employess that have income 45,000 or less.\n",
    "\n",
    "Here, had it been completely a normal distribution, then the above numbers would have been absolutely true.\n",
    "\n",
    "*The below figure explains the above information in more detail.*"
   ]
  },
  {
   "cell_type": "markdown",
   "id": "94c76408",
   "metadata": {},
   "source": [
    "![Empirical Rule of Normal Distribution](empirical-rule.png)"
   ]
  },
  {
   "cell_type": "markdown",
   "id": "f3e4a33c",
   "metadata": {},
   "source": [
    "## Normal Distribution and Standard Deviation"
   ]
  },
  {
   "cell_type": "code",
   "execution_count": 24,
   "id": "883f221c",
   "metadata": {},
   "outputs": [
    {
     "data": {
      "image/png": "[encoded data removed]",
      "text/plain": [
       "<Figure size 1000x600 with 1 Axes>"
      ]
     },
     "metadata": {},
     "output_type": "display_data"
    }
   ],
   "source": [
    "plt.figure(figsize=(10, 6))\n",
    "sns.histplot(df[\"Income\"], kde=True)\n",
    "\n",
    "# let's add some vertical lines\n",
    "# a line to plot the mean value\n",
    "plt.axvline(df[\"Income\"].mean(), color=\"r\", linestyle=\"--\", label=\"Mean\")\n",
    "\n",
    "# line for ±1σ\n",
    "plt.axvline(df[\"Income\"].mean() + df[\"Income\"].std(), color=\"g\", linestyle=\"--\", label=\"±1σ\")\n",
    "plt.axvline(df[\"Income\"].mean() - df[\"Income\"].std(), color=\"g\", linestyle=\"--\")\n",
    "\n",
    "# line for ±2σ\n",
    "plt.axvline(df[\"Income\"].mean() + 2 * df[\"Income\"].std(), color=\"b\", linestyle=\"--\", label=\"±2σ\")\n",
    "plt.axvline(df[\"Income\"].mean() - 2 * df[\"Income\"].std(), color=\"b\", linestyle=\"--\")\n",
    "\n",
    "\n",
    "# line for ±3σ\n",
    "plt.axvline(df[\"Income\"].mean() + 3 * df[\"Income\"].std(), color=\"y\", linestyle=\"--\", label=\"±3σ\")\n",
    "plt.axvline(df[\"Income\"].mean() - 3 * df[\"Income\"].std(), color=\"y\", linestyle=\"--\")\n",
    "\n",
    "plt.title(\"Income Distribution with SD\")\n",
    "plt.legend()\n",
    "plt.show()"
   ]
  },
  {
   "cell_type": "markdown",
   "id": "54e05e43",
   "metadata": {},
   "source": [
    "## Z-score"
   ]
  },
  {
   "cell_type": "markdown",
   "id": "ba2a0463",
   "metadata": {},
   "source": [
    "Mathematically, `z-score = ( x - mean ) / std`"
   ]
  },
  {
   "cell_type": "code",
   "execution_count": 26,
   "id": "fc09ecdb",
   "metadata": {},
   "outputs": [
    {
     "data": {
      "text/plain": [
       "0      1.331910\n",
       "1      0.855976\n",
       "2     -0.011234\n",
       "3     -0.719605\n",
       "4      0.628988\n",
       "         ...   \n",
       "995    1.001864\n",
       "996   -0.097606\n",
       "997   -0.955142\n",
       "998   -0.234500\n",
       "999   -0.817821\n",
       "Name: IncomeZScore, Length: 1000, dtype: float64"
      ]
     },
     "execution_count": 26,
     "metadata": {},
     "output_type": "execute_result"
    }
   ],
   "source": [
    "df['IncomeZScore'] = (df[\"Income\"] - df[\"Income\"].mean()) / df[\"Income\"].std()\n",
    "df[\"IncomeZScore\"]"
   ]
  },
  {
   "cell_type": "markdown",
   "id": "54a95b9f",
   "metadata": {},
   "source": [
    "Since 3σ covers almost 99.7% of data, hence any row with z-score greater than 3σ can be called as outliers, and hence neglected. This is **z-score approach of outlier detection**."
   ]
  },
  {
   "cell_type": "code",
   "execution_count": 28,
   "id": "86cdc63a",
   "metadata": {},
   "outputs": [
    {
     "data": {
      "text/html": [
       "<div>\n",
       "<style scoped>\n",
       "    .dataframe tbody tr th:only-of-type {\n",
       "        vertical-align: middle;\n",
       "    }\n",
       "\n",
       "    .dataframe tbody tr th {\n",
       "        vertical-align: top;\n",
       "    }\n",
       "\n",
       "    .dataframe thead th {\n",
       "        text-align: right;\n",
       "    }\n",
       "</style>\n",
       "<table border=\"1\" class=\"dataframe\">\n",
       "  <thead>\n",
       "    <tr style=\"text-align: right;\">\n",
       "      <th></th>\n",
       "      <th>Age</th>\n",
       "      <th>Income</th>\n",
       "      <th>SpendingScore</th>\n",
       "      <th>IncomeZScore</th>\n",
       "    </tr>\n",
       "  </thead>\n",
       "  <tbody>\n",
       "    <tr>\n",
       "      <th>0</th>\n",
       "      <td>34.967142</td>\n",
       "      <td>70990.331549</td>\n",
       "      <td>30</td>\n",
       "      <td>1.331910</td>\n",
       "    </tr>\n",
       "    <tr>\n",
       "      <th>1</th>\n",
       "      <td>28.617357</td>\n",
       "      <td>63869.505244</td>\n",
       "      <td>95</td>\n",
       "      <td>0.855976</td>\n",
       "    </tr>\n",
       "    <tr>\n",
       "      <th>2</th>\n",
       "      <td>36.476885</td>\n",
       "      <td>50894.455549</td>\n",
       "      <td>75</td>\n",
       "      <td>-0.011234</td>\n",
       "    </tr>\n",
       "    <tr>\n",
       "      <th>3</th>\n",
       "      <td>45.230299</td>\n",
       "      <td>40295.948334</td>\n",
       "      <td>99</td>\n",
       "      <td>-0.719605</td>\n",
       "    </tr>\n",
       "    <tr>\n",
       "      <th>4</th>\n",
       "      <td>27.658466</td>\n",
       "      <td>60473.349704</td>\n",
       "      <td>72</td>\n",
       "      <td>0.628988</td>\n",
       "    </tr>\n",
       "    <tr>\n",
       "      <th>...</th>\n",
       "      <td>...</td>\n",
       "      <td>...</td>\n",
       "      <td>...</td>\n",
       "      <td>...</td>\n",
       "    </tr>\n",
       "    <tr>\n",
       "      <th>995</th>\n",
       "      <td>27.188997</td>\n",
       "      <td>66052.253575</td>\n",
       "      <td>25</td>\n",
       "      <td>1.001864</td>\n",
       "    </tr>\n",
       "    <tr>\n",
       "      <th>996</th>\n",
       "      <td>47.976865</td>\n",
       "      <td>49602.181111</td>\n",
       "      <td>55</td>\n",
       "      <td>-0.097606</td>\n",
       "    </tr>\n",
       "    <tr>\n",
       "      <th>997</th>\n",
       "      <td>36.408429</td>\n",
       "      <td>36771.880232</td>\n",
       "      <td>46</td>\n",
       "      <td>-0.955142</td>\n",
       "    </tr>\n",
       "    <tr>\n",
       "      <th>998</th>\n",
       "      <td>24.288210</td>\n",
       "      <td>47553.995541</td>\n",
       "      <td>32</td>\n",
       "      <td>-0.234500</td>\n",
       "    </tr>\n",
       "    <tr>\n",
       "      <th>999</th>\n",
       "      <td>35.725828</td>\n",
       "      <td>38826.460328</td>\n",
       "      <td>55</td>\n",
       "      <td>-0.817821</td>\n",
       "    </tr>\n",
       "  </tbody>\n",
       "</table>\n",
       "<p>1000 rows × 4 columns</p>\n",
       "</div>"
      ],
      "text/plain": [
       "           Age        Income  SpendingScore  IncomeZScore\n",
       "0    34.967142  70990.331549             30      1.331910\n",
       "1    28.617357  63869.505244             95      0.855976\n",
       "2    36.476885  50894.455549             75     -0.011234\n",
       "3    45.230299  40295.948334             99     -0.719605\n",
       "4    27.658466  60473.349704             72      0.628988\n",
       "..         ...           ...            ...           ...\n",
       "995  27.188997  66052.253575             25      1.001864\n",
       "996  47.976865  49602.181111             55     -0.097606\n",
       "997  36.408429  36771.880232             46     -0.955142\n",
       "998  24.288210  47553.995541             32     -0.234500\n",
       "999  35.725828  38826.460328             55     -0.817821\n",
       "\n",
       "[1000 rows x 4 columns]"
      ]
     },
     "execution_count": 28,
     "metadata": {},
     "output_type": "execute_result"
    }
   ],
   "source": [
    "df = df[df[\"IncomeZScore\"] <= 3 * df[\"Income\"].std()]\n",
    "df"
   ]
  },
  {
   "cell_type": "markdown",
   "id": "3169f250",
   "metadata": {},
   "source": [
    "Since, no row is removed, hence there were no outliers."
   ]
  },
  {
   "cell_type": "markdown",
   "id": "e6248dfa",
   "metadata": {},
   "source": [
    "#### Why do we need to remove outliers?\n",
    "\n",
    "Because outliers can create biasness. They are those data objects that are different than others and if they are taken into consideration, then they could ruin the process of AI/ML.\n",
    "\n",
    "**Practical Example**: In a dataset of house prices, a few extremely high-priced mansions can skew the mean price upwards, giving a false impression of the typical house price in the area. Removing these outliers helps provide a more accurate representation of the central tendency and variability of the typical house prices."
   ]
  },
  {
   "cell_type": "markdown",
   "id": "7c8f25e7",
   "metadata": {},
   "source": [
    "## Interquartile Range (IQR)"
   ]
  },
  {
   "cell_type": "markdown",
   "id": "ceab5fc0",
   "metadata": {},
   "source": [
    "Mathematically, `IQR = Q3 - Q1`"
   ]
  },
  {
   "cell_type": "code",
   "execution_count": 30,
   "id": "334283de",
   "metadata": {},
   "outputs": [
    {
     "name": "stdout",
     "output_type": "stream",
     "text": [
      "Q1 = 40906.374664608324\n",
      "Q3 = 60933.23265547444\n"
     ]
    },
    {
     "data": {
      "text/plain": [
       "20026.85799086612"
      ]
     },
     "execution_count": 30,
     "metadata": {},
     "output_type": "execute_result"
    }
   ],
   "source": [
    "Q1 = df[\"Income\"].quantile(0.25)\n",
    "print(f\"Q1 = {Q1}\")\n",
    "Q3 = df[\"Income\"].quantile(0.75)\n",
    "print(f\"Q3 = {Q3}\")\n",
    "IQR = Q3 - Q1\n",
    "IQR"
   ]
  },
  {
   "cell_type": "markdown",
   "id": "fa425112",
   "metadata": {},
   "source": [
    "We know that, Q1 is 25 percentile, Q2 is 50 percentile where as Q3 is 75 percentile. Like percentages, percentile can be any number.\n",
    "\n",
    "The meaning of 25 percentile in the above example is that, there are 25% of people on the list that have `Income` less than 25%."
   ]
  },
  {
   "cell_type": "markdown",
   "id": "7da02876",
   "metadata": {},
   "source": [
    "### What if you scored 75 percentile in exam?"
   ]
  },
  {
   "cell_type": "markdown",
   "id": "d2d01751",
   "metadata": {},
   "source": [
    "**It means that, you are above 75% of your friends in terms of obtained marks. That means percentile is just relative marking, and is not actually mark, but relative position.**\n",
    "\n",
    "You might have heard that in India this person got 100 percentile and all, that simply means, he won 100% of his batch mates."
   ]
  },
  {
   "cell_type": "markdown",
   "id": "870552d0",
   "metadata": {},
   "source": [
    "**Task for you: We can also use IQR for finding the outliers, like the above z-score. Please add the code with explanation to do that**"
   ]
  },
  {
   "cell_type": "markdown",
   "id": "c33aae4d",
   "metadata": {},
   "source": [
    "## Statistical Testing (t-test)"
   ]
  },
  {
   "cell_type": "markdown",
   "id": "a2aa2bf9",
   "metadata": {},
   "source": [
    "#### t-test between two groups"
   ]
  },
  {
   "cell_type": "markdown",
   "id": "97853645",
   "metadata": {},
   "source": [
    "`scipy` package has scientific and mathematical implementation, hence, we can use that package instead of manually writing the mathematical algorithms we learned in college."
   ]
  },
  {
   "cell_type": "code",
   "execution_count": 32,
   "id": "b07241d9",
   "metadata": {},
   "outputs": [],
   "source": [
    "from scipy.stats import ttest_ind"
   ]
  },
  {
   "cell_type": "markdown",
   "id": "23357a8a",
   "metadata": {},
   "source": [
    "Let's create two group of people, one having `Income` less than median value, and other having greater `Income`."
   ]
  },
  {
   "cell_type": "code",
   "execution_count": 36,
   "id": "849499e3",
   "metadata": {},
   "outputs": [],
   "source": [
    "group1 = df[df['Income'] > df['Income'].median()]['SpendingScore']\n",
    "group2 = df[df['Income'] <= df['Income'].median()]['SpendingScore']"
   ]
  },
  {
   "cell_type": "markdown",
   "id": "6309d73b",
   "metadata": {},
   "source": [
    "The function `ttest_ind`, calculates the T-test for the means of *two independent* samples of scores.\n",
    "\n",
    "This is a test for the null hypothesis that 2 independent samples have identical average (expected) values. This test assumes that the populations have identical variances by default."
   ]
  },
  {
   "cell_type": "code",
   "execution_count": 35,
   "id": "f1e91708",
   "metadata": {},
   "outputs": [
    {
     "name": "stdout",
     "output_type": "stream",
     "text": [
      "t-statistic: -0.3110907284257178, p-value: 0.7557966146469881\n"
     ]
    }
   ],
   "source": [
    "t_stat, p_value = ttest_ind(group1, group2)\n",
    "print(f\"t-statistic: {t_stat}, p-value: {p_value}\")"
   ]
  },
  {
   "cell_type": "markdown",
   "id": "35f698d5",
   "metadata": {},
   "source": [
    "### Conclusion:\n",
    "**Null Hypothesis (H<sub>0</sub>):**\n",
    "The null hypothesis in this case is that there is no significant difference in the spending scores (`'SpendingScore'`) between the two income groups (i.e., mean spending scores of both groups are equal).\n",
    "\n",
    "**Output Interpretation:**\n",
    "- t-statistic: -0.311 suggests that the difference in the means of the two groups is small and falls within the expected range of variability.\n",
    "- p-value: 0.7558 is much higher than the common significance level (e.g., 0.05), indicating that we fail to reject the null hypothesis.\n",
    "\n",
    "\n",
    "*The results suggest that there is no statistically significant difference in spending scores between the higher and lower income groups.*"
   ]
  },
  {
   "cell_type": "markdown",
   "id": "7f95c8eb",
   "metadata": {},
   "source": [
    "## Correlation"
   ]
  },
  {
   "cell_type": "code",
   "execution_count": 39,
   "id": "68c1e710",
   "metadata": {},
   "outputs": [
    {
     "data": {
      "text/html": [
       "<div>\n",
       "<style scoped>\n",
       "    .dataframe tbody tr th:only-of-type {\n",
       "        vertical-align: middle;\n",
       "    }\n",
       "\n",
       "    .dataframe tbody tr th {\n",
       "        vertical-align: top;\n",
       "    }\n",
       "\n",
       "    .dataframe thead th {\n",
       "        text-align: right;\n",
       "    }\n",
       "</style>\n",
       "<table border=\"1\" class=\"dataframe\">\n",
       "  <thead>\n",
       "    <tr style=\"text-align: right;\">\n",
       "      <th></th>\n",
       "      <th>Age</th>\n",
       "      <th>Income</th>\n",
       "      <th>SpendingScore</th>\n",
       "      <th>IncomeZScore</th>\n",
       "    </tr>\n",
       "  </thead>\n",
       "  <tbody>\n",
       "    <tr>\n",
       "      <th>Age</th>\n",
       "      <td>1.000000</td>\n",
       "      <td>-0.040400</td>\n",
       "      <td>0.004431</td>\n",
       "      <td>-0.040400</td>\n",
       "    </tr>\n",
       "    <tr>\n",
       "      <th>Income</th>\n",
       "      <td>-0.040400</td>\n",
       "      <td>1.000000</td>\n",
       "      <td>0.038941</td>\n",
       "      <td>1.000000</td>\n",
       "    </tr>\n",
       "    <tr>\n",
       "      <th>SpendingScore</th>\n",
       "      <td>0.004431</td>\n",
       "      <td>0.038941</td>\n",
       "      <td>1.000000</td>\n",
       "      <td>0.038941</td>\n",
       "    </tr>\n",
       "    <tr>\n",
       "      <th>IncomeZScore</th>\n",
       "      <td>-0.040400</td>\n",
       "      <td>1.000000</td>\n",
       "      <td>0.038941</td>\n",
       "      <td>1.000000</td>\n",
       "    </tr>\n",
       "  </tbody>\n",
       "</table>\n",
       "</div>"
      ],
      "text/plain": [
       "                    Age    Income  SpendingScore  IncomeZScore\n",
       "Age            1.000000 -0.040400       0.004431     -0.040400\n",
       "Income        -0.040400  1.000000       0.038941      1.000000\n",
       "SpendingScore  0.004431  0.038941       1.000000      0.038941\n",
       "IncomeZScore  -0.040400  1.000000       0.038941      1.000000"
      ]
     },
     "execution_count": 39,
     "metadata": {},
     "output_type": "execute_result"
    }
   ],
   "source": [
    "corr_matrix = df.corr()\n",
    "corr_matrix"
   ]
  },
  {
   "cell_type": "code",
   "execution_count": 42,
   "id": "2d3354c9",
   "metadata": {},
   "outputs": [
    {
     "data": {
      "image/png": "[encoded data removed]",
      "text/plain": [
       "<Figure size 640x480 with 2 Axes>"
      ]
     },
     "metadata": {},
     "output_type": "display_data"
    }
   ],
   "source": [
    "sns.heatmap(corr_matrix, cmap='coolwarm')\n",
    "plt.title(\"Correlation Matrix\")\n",
    "plt.show()"
   ]
  },
  {
   "cell_type": "markdown",
   "id": "ee157d70",
   "metadata": {},
   "source": [
    "## Hypothesis Testing"
   ]
  },
  {
   "cell_type": "markdown",
   "id": "cc19fc20",
   "metadata": {},
   "source": [
    "**Let's test that the mean age is significantly different from 30**"
   ]
  },
  {
   "cell_type": "markdown",
   "id": "6a7ecaef",
   "metadata": {},
   "source": [
    "We are checking whether the observed data (mean age) significantly deviates from the specified value (30)."
   ]
  },
  {
   "cell_type": "markdown",
   "id": "9a6f1df2",
   "metadata": {},
   "source": [
    "**Null Hypothesis (H<sub>0</sub>):**\n",
    "The null hypothesis (H<sub>0</sub>) is that the mean age is equal to 30.\n",
    "\n",
    "**Alternative Hypothesis (H<sub>1</sub>):**\n",
    "The alternative hypothesis (H<sub>1</sub>) is that the mean age is not equal to 30."
   ]
  },
  {
   "cell_type": "code",
   "execution_count": 43,
   "id": "7a20ae75",
   "metadata": {},
   "outputs": [],
   "source": [
    "from scipy.stats import ttest_1samp"
   ]
  },
  {
   "cell_type": "code",
   "execution_count": 44,
   "id": "27b34a08",
   "metadata": {},
   "outputs": [
    {
     "name": "stdout",
     "output_type": "stream",
     "text": [
      "t-statistic: 0.6243089585093229, p-value: 0.5325672436623001\n"
     ]
    }
   ],
   "source": [
    "t_stat, p_value = ttest_1samp(df['Age'], 30)\n",
    "print(f\"t-statistic: {t_stat}, p-value: {p_value}\")"
   ]
  },
  {
   "cell_type": "markdown",
   "id": "86eed4b1",
   "metadata": {},
   "source": [
    "### Interpretation of Output:\n",
    "- t-statistic: 0.624 suggests that the sample mean is 0.624 standard deviations away from the hypothesized mean (30).\n",
    "\n",
    "- p-value: 0.5326 is higher than the common significance level (e.g., 0.05), indicating that we fail to reject the null hypothesis.\n"
   ]
  },
  {
   "cell_type": "markdown",
   "id": "1acd4519",
   "metadata": {},
   "source": [
    "### Conclusion:\n",
    "There is no statistically significant evidence to suggest that the mean age is different from 30. The sample data does not provide enough evidence to conclude that the mean age is different from 30."
   ]
  }
 ],
 "metadata": {
  "kernelspec": {
   "display_name": "Python 3 (ipykernel)",
   "language": "python",
   "name": "python3"
  },
  "language_info": {
   "codemirror_mode": {
    "name": "ipython",
    "version": 3
   },
   "file_extension": ".py",
   "mimetype": "text/x-python",
   "name": "python",
   "nbconvert_exporter": "python",
   "pygments_lexer": "ipython3",
   "version": "3.9.5"
  }
 },
 "nbformat": 4,
 "nbformat_minor": 5
}
